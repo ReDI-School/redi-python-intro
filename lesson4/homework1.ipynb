{
 "cells": [
  {
   "cell_type": "markdown",
   "metadata": {},
   "source": [
    "### Exercise 1 - Multiply every number in the list by 2\n",
    "\n",
    "Write a program that takes a list as an input and multiplies every number in the list by 2\n",
    "\n",
    "Example:\n",
    "- input: 1,2,3,4, output: [2,4,6,8]\n",
    "\n",
    "Hint: to take a list from user as input:  \n",
    "- list_numbers = eval(input('Enter a list of numbers'))"
   ]
  },
  {
   "cell_type": "code",
   "execution_count": null,
   "metadata": {},
   "outputs": [],
   "source": []
  },
  {
   "cell_type": "markdown",
   "metadata": {},
   "source": [
    "### Exercise 2 - number is in list or not?\n",
    "Write a program that takes as input a list of numbers and then a number. If the list of numbers contains this number print 'exists' otherwise print 'doesn't exist'. **The program should use for loop**\n",
    "\n",
    "Example:\n",
    " - input: \n",
    "     - 1,2,3,4 \n",
    "     - 4 \n",
    " - output: exists\n",
    " \n",
    " - input: \n",
    "     - 1,5,3,4 \n",
    "     - 5 \n",
    " - output: doesn't exists"
   ]
  },
  {
   "cell_type": "code",
   "execution_count": null,
   "metadata": {},
   "outputs": [],
   "source": []
  },
  {
   "cell_type": "markdown",
   "metadata": {},
   "source": [
    "### Exercise 3 - Check if a string is a palindrome\n",
    "\n",
    "Write a program that takes as input a string and checks whether it is a palindrome or not.\n",
    "\n",
    "According to wikipedia \"A palindrome is a word, phrase, number, or other sequence of characters which reads the same backward as forward\"\n",
    "\n",
    "Example:\n",
    "- input: madam, output: palindrome\n",
    "- input: hello, output: not palindrome\n",
    "- input: lol, output: palindrome"
   ]
  },
  {
   "cell_type": "code",
   "execution_count": null,
   "metadata": {},
   "outputs": [],
   "source": [
    "\n",
    "    \n",
    "    "
   ]
  }
 ],
 "metadata": {
  "kernelspec": {
   "display_name": "Python 3",
   "language": "python",
   "name": "python3"
  },
  "language_info": {
   "codemirror_mode": {
    "name": "ipython",
    "version": 3
   },
   "file_extension": ".py",
   "mimetype": "text/x-python",
   "name": "python",
   "nbconvert_exporter": "python",
   "pygments_lexer": "ipython3",
   "version": "3.5.2"
  }
 },
 "nbformat": 4,
 "nbformat_minor": 2
}
