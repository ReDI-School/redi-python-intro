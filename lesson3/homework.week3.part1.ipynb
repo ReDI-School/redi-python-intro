{
 "cells": [
  {
   "cell_type": "markdown",
   "metadata": {},
   "source": [
    "## Homework\n",
    "\n",
    "### Homework 1\n",
    "Give the variables:\n",
    "```\n",
    "ca = \"ca\"\n",
    "fe = \"fe\"\n",
    "```\n",
    "write a program that prints:  \n",
    "cafecafecafe  \n",
    "cafecafe\n",
    "\n",
    "using print() two times, and a second program printing the same using print() once.  \n",
    "Hint: Use \\n, + and *\n",
    "\n",
    "### Homework 2\n",
    "Ask the user for their name, their work and how many years they have been working.\n",
    "Convert the years to months (multiply by 12) and\n",
    "using the input from the user write a program that prints the following output:\n",
    "\n",
    "Hi X:  \n",
    "&nbsp;&nbsp;&nbsp;&nbsp;Y is your work  \n",
    "&nbsp;&nbsp;&nbsp;&nbsp;and you have been working for Z months\n",
    "\n",
    "Hint: Use int(), \\n, \\t"
   ]
  }
 ],
 "metadata": {
  "kernelspec": {
   "display_name": "Python 3",
   "language": "python",
   "name": "python3"
  },
  "language_info": {
   "codemirror_mode": {
    "name": "ipython",
    "version": 3
   },
   "file_extension": ".py",
   "mimetype": "text/x-python",
   "name": "python",
   "nbconvert_exporter": "python",
   "pygments_lexer": "ipython3",
   "version": "3.6.3"
  }
 },
 "nbformat": 4,
 "nbformat_minor": 2
}
