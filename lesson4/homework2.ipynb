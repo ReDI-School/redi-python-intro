{
 "cells": [
  {
   "cell_type": "markdown",
   "metadata": {},
   "source": [
    "### Exercise 1 \n",
    "\n",
    "Write a program that takes as input a list of student grades. A student grade can be either A/B/C/D/F. output the number of students having each grade.\n",
    "\n",
    "Example:\n",
    "\n",
    "- input: A, A, B, C, C, C, D, F, F\n",
    "- output:\n",
    "        A: 2 Students\n",
    "        B: 1 Student\n",
    "        C: 3 Students\n",
    "        D: 1 Student\n",
    "        F: 2 students\n",
    "\n",
    "\n"
   ]
  },
  {
   "cell_type": "code",
   "execution_count": null,
   "metadata": {},
   "outputs": [],
   "source": []
  },
  {
   "cell_type": "markdown",
   "metadata": {},
   "source": [
    "### Exercise 2 - Print a pyramid\n",
    "\n",
    "- Take as input a number n from user and print a pyramid shape with base n.\n",
    "\n",
    "- Example:\n",
    "        input: 2\n",
    "        output:\n",
    "        *\n",
    "        **\n",
    "        \n",
    "        input: 3\n",
    "        output:\n",
    "        *\n",
    "        **\n",
    "        ***\n",
    "        \n",
    "        input: 5\n",
    "        output:\n",
    "        *\n",
    "        **\n",
    "        ***\n",
    "        ****\n",
    "        *****"
   ]
  },
  {
   "cell_type": "code",
   "execution_count": null,
   "metadata": {
    "collapsed": true
   },
   "outputs": [],
   "source": []
  },
  {
   "cell_type": "markdown",
   "metadata": {},
   "source": [
    "### Exercise 3 \n",
    "\n",
    "Write a program which prints first N numbers of a sequence: 1 2 2 3 3 3 4 4 4 4 5 5 5 5 5 ... etc (each number defines how many time it is printed in the sequence). Take the number of elements to print from a user as input.\n",
    "Например, если n = 7, то программа должна вывести 1 2 2 3 3 3 4.\n",
    "\n",
    "- Example 1: \n",
    "    - input: 7\n",
    "    - output: 1 2 2 3 3 3 4\n",
    "- Example 2:\n",
    "    - input: 3\n",
    "    - output: 1 2 2 \n",
    "- Example 3:\n",
    "    - input: 12\n",
    "    - output: 1 2 2 3 3 3 4 4 4 4 5 5 "
   ]
  },
  {
   "cell_type": "code",
   "execution_count": null,
   "metadata": {
    "collapsed": true
   },
   "outputs": [],
   "source": []
  }
 ],
 "metadata": {
  "kernelspec": {
   "display_name": "Python 3",
   "language": "python",
   "name": "python3"
  },
  "language_info": {
   "codemirror_mode": {
    "name": "ipython",
    "version": 3
   },
   "file_extension": ".py",
   "mimetype": "text/x-python",
   "name": "python",
   "nbconvert_exporter": "python",
   "pygments_lexer": "ipython3",
   "version": "3.5.2"
  }
 },
 "nbformat": 4,
 "nbformat_minor": 2
}
