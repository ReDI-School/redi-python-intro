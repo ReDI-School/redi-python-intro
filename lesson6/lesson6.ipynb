{
 "cells": [
  {
   "cell_type": "markdown",
   "metadata": {},
   "source": [
    "## Lesson 6\n"
   ]
  },
  {
   "cell_type": "markdown",
   "metadata": {},
   "source": [
    "### Revisiting lists\n",
    "\n",
    "- List can contain any type of elements, for example:\n",
    "    - list_of_ints = [1,2,3,4] \n",
    "    - list_of_floats = [1.0,5.5,3.4]\n",
    "    - list_of_strs = ['Hello', 'Hi', 'Howdyy']\n",
    "    - mixed_list = ['Hello', 1, 1.5]\n",
    "    \n",
    "\n",
    "    \n"
   ]
  },
  {
   "cell_type": "markdown",
   "metadata": {},
   "source": [
    "### Iterating over lists/strings\n",
    "\n",
    "- There are several ways to iterate over elements in the list, those are a common 3 ways:\n"
   ]
  },
  {
   "cell_type": "code",
   "execution_count": 1,
   "metadata": {},
   "outputs": [
    {
     "name": "stdout",
     "output_type": "stream",
     "text": [
      "1\n",
      "2\n",
      "3\n",
      "4\n"
     ]
    }
   ],
   "source": [
    "## first way\n",
    "number_list = [1,2,3,4]\n",
    "\n",
    "for element in number_list:\n",
    "    print(element)\n",
    "    "
   ]
  },
  {
   "cell_type": "code",
   "execution_count": 3,
   "metadata": {},
   "outputs": [
    {
     "name": "stdout",
     "output_type": "stream",
     "text": [
      "1\n",
      "2\n",
      "3\n",
      "4\n"
     ]
    }
   ],
   "source": [
    "number_list = [1,2,3,4]\n",
    "index = 0\n",
    "while index < len(number_list):\n",
    "    print(number_list[index])\n",
    "    index += 1"
   ]
  },
  {
   "cell_type": "code",
   "execution_count": 2,
   "metadata": {},
   "outputs": [
    {
     "name": "stdout",
     "output_type": "stream",
     "text": [
      "0\n",
      "1\n",
      "2\n",
      "3\n",
      "4\n",
      "5\n"
     ]
    }
   ],
   "source": [
    "for element in range(6):\n",
    "    print(element)"
   ]
  },
  {
   "cell_type": "code",
   "execution_count": 3,
   "metadata": {},
   "outputs": [
    {
     "name": "stdout",
     "output_type": "stream",
     "text": [
      "('index', 0)\n",
      "('element', 'hello')\n",
      "('index', 1)\n",
      "('element', 'hi')\n",
      "('index', 2)\n",
      "('element', 'check')\n",
      "('index', 3)\n",
      "('element', 'world')\n"
     ]
    }
   ],
   "source": [
    "number_list = ['hello','hi','check','world']\n",
    "size = len(number_list)\n",
    "for index in range(size):\n",
    "    print('index', index)\n",
    "    print('element',number_list[index])\n"
   ]
  },
  {
   "cell_type": "code",
   "execution_count": 5,
   "metadata": {},
   "outputs": [
    {
     "name": "stdout",
     "output_type": "stream",
     "text": [
      "Help on built-in function range in module __builtin__:\n",
      "\n",
      "range(...)\n",
      "    range(stop) -> list of integers\n",
      "    range(start, stop[, step]) -> list of integers\n",
      "    \n",
      "    Return a list containing an arithmetic progression of integers.\n",
      "    range(i, j) returns [i, i+1, i+2, ..., j-1]; start (!) defaults to 0.\n",
      "    When step is given, it specifies the increment (or decrement).\n",
      "    For example, range(4) returns [0, 1, 2, 3].  The end point is omitted!\n",
      "    These are exactly the valid indices for a list of 4 elements.\n",
      "\n"
     ]
    }
   ],
   "source": [
    "help(range)"
   ]
  },
  {
   "cell_type": "code",
   "execution_count": 7,
   "metadata": {},
   "outputs": [
    {
     "name": "stdout",
     "output_type": "stream",
     "text": [
      "10\n",
      "8\n",
      "6\n",
      "4\n",
      "2\n"
     ]
    }
   ],
   "source": [
    "for index in range(10,1,-2):\n",
    "    print(index)"
   ]
  },
  {
   "cell_type": "markdown",
   "metadata": {},
   "source": [
    "### Exercise 1\n",
    "Write a function that takes two lists as inputs and returns a list that sums the two input lists (element wise). Assume two input lists are of the same size\n",
    "Example:\n",
    " - List 1: [1,2,3] - List 2 = [5,6,7], output = [6, 8, 10]\n",
    " so it sums 1st element from 1st list  with 1st element and 2nd element with 2nd element, and so on\n",
    "\n",
    "\n"
   ]
  },
  {
   "cell_type": "code",
   "execution_count": 1,
   "metadata": {},
   "outputs": [
    {
     "name": "stdout",
     "output_type": "stream",
     "text": [
      "(6, 8, 10)\n"
     ]
    }
   ],
   "source": [
    "### simple version\n",
    "list1 = [1,2,3]\n",
    "list2 = [5,6,7]\n",
    "\n",
    "element1 = list1[0] + list2[0]\n",
    "element2 = list1[1] + list2[1]\n",
    "element3 = list1[2] + list2[2]\n",
    "\n",
    "print(element1, element2, element3)\n",
    "\n"
   ]
  },
  {
   "cell_type": "code",
   "execution_count": 2,
   "metadata": {},
   "outputs": [
    {
     "name": "stdout",
     "output_type": "stream",
     "text": [
      "[6, 8, 10]\n"
     ]
    }
   ],
   "source": [
    "### program version\n",
    "list1 = [1,2,3]\n",
    "list2 = [5,6,7]\n",
    "\n",
    "result_list = []\n",
    "\n",
    "index = 0\n",
    "\n",
    "while index < len(list1):\n",
    "    sum_element = list1[index]+ list2[index]\n",
    "    result_list = result_list + [sum_element]\n",
    "    index = index + 1\n",
    "\n",
    "print(result_list)\n",
    "\n"
   ]
  },
  {
   "cell_type": "code",
   "execution_count": 3,
   "metadata": {},
   "outputs": [
    {
     "name": "stdout",
     "output_type": "stream",
     "text": [
      "Output [6, 8, 10, 12]\n"
     ]
    }
   ],
   "source": [
    "### final solution\n",
    "def sum_elements(list1, list2):\n",
    "    result_list = []\n",
    "    index = 0\n",
    "    while index < len(list1):\n",
    "        sum_element = list1[index]+ list2[index]\n",
    "        result_list = result_list + [sum_element]\n",
    "        index = index + 1\n",
    "    return result_list\n",
    "\n",
    "x = [1,2,3,4]\n",
    "y = [5,6,7,8]\n",
    "\n",
    "output = sum_elements(x,y)\n",
    "print 'Output' , output\n",
    "\n",
    "\n",
    "    \n",
    "\n"
   ]
  },
  {
   "cell_type": "markdown",
   "metadata": {},
   "source": [
    "### Nested lists\n",
    "- List can contain as elements a list, we call this **nested list**"
   ]
  },
  {
   "cell_type": "code",
   "execution_count": null,
   "metadata": {
    "collapsed": true
   },
   "outputs": [],
   "source": [
    "list_of_lists = [\n",
    "                    ['Assignment 1', 5], \n",
    "                    ['Assignment 2', 6], \n",
    "                    ['Assignment 3', 11]\n",
    "                ]\n"
   ]
  },
  {
   "cell_type": "code",
   "execution_count": null,
   "metadata": {
    "collapsed": true
   },
   "outputs": [],
   "source": [
    "\n",
    "\n"
   ]
  },
  {
   "cell_type": "code",
   "execution_count": 40,
   "metadata": {},
   "outputs": [
    {
     "name": "stdout",
     "output_type": "stream",
     "text": [
      "[['hello', 'check', 'blah'], [100, 500000], [1.5, 3.5, 'mmm']]\n"
     ]
    }
   ],
   "source": [
    "list_of_lists = [\n",
    "                    ['hello', 'check', 'blah'], \n",
    "                    [100,500000], \n",
    "                    [1.5, 3.5, 'mmm'] \n",
    "                ]\n",
    "print(list_of_lists)"
   ]
  },
  {
   "cell_type": "markdown",
   "metadata": {},
   "source": [
    "#### Accessing Nested list elements"
   ]
  },
  {
   "cell_type": "code",
   "execution_count": 44,
   "metadata": {},
   "outputs": [
    {
     "data": {
      "text/plain": [
       "['hello', 'check', 'blah']"
      ]
     },
     "execution_count": 44,
     "metadata": {},
     "output_type": "execute_result"
    }
   ],
   "source": [
    "list_of_lists[0]"
   ]
  },
  {
   "cell_type": "code",
   "execution_count": 45,
   "metadata": {},
   "outputs": [
    {
     "data": {
      "text/plain": [
       "'hello'"
      ]
     },
     "execution_count": 45,
     "metadata": {},
     "output_type": "execute_result"
    }
   ],
   "source": [
    "list_of_lists[0][0]"
   ]
  },
  {
   "cell_type": "code",
   "execution_count": 48,
   "metadata": {},
   "outputs": [
    {
     "data": {
      "text/plain": [
       "'mmm'"
      ]
     },
     "execution_count": 48,
     "metadata": {},
     "output_type": "execute_result"
    }
   ],
   "source": [
    "list_of_lists[2][2]"
   ]
  },
  {
   "cell_type": "code",
   "execution_count": 33,
   "metadata": {},
   "outputs": [
    {
     "data": {
      "text/plain": [
       "3"
      ]
     },
     "execution_count": 33,
     "metadata": {},
     "output_type": "execute_result"
    }
   ],
   "source": [
    "len(list_of_lists)"
   ]
  },
  {
   "cell_type": "code",
   "execution_count": 35,
   "metadata": {},
   "outputs": [
    {
     "data": {
      "text/plain": [
       "['Assignment 1', 5]"
      ]
     },
     "execution_count": 35,
     "metadata": {},
     "output_type": "execute_result"
    }
   ],
   "source": [
    "x = list_of_lists[0]\n",
    "x"
   ]
  },
  {
   "cell_type": "code",
   "execution_count": 36,
   "metadata": {},
   "outputs": [
    {
     "data": {
      "text/plain": [
       "'Assignment 1'"
      ]
     },
     "execution_count": 36,
     "metadata": {},
     "output_type": "execute_result"
    }
   ],
   "source": [
    "x[0]"
   ]
  },
  {
   "cell_type": "code",
   "execution_count": 39,
   "metadata": {},
   "outputs": [
    {
     "data": {
      "text/plain": [
       "'Assignment 1'"
      ]
     },
     "execution_count": 39,
     "metadata": {},
     "output_type": "execute_result"
    }
   ],
   "source": [
    "list_of_lists[0][0]"
   ]
  },
  {
   "cell_type": "code",
   "execution_count": 22,
   "metadata": {},
   "outputs": [
    {
     "data": {
      "text/plain": [
       "2"
      ]
     },
     "execution_count": 22,
     "metadata": {},
     "output_type": "execute_result"
    }
   ],
   "source": [
    "len(list_of_lists[0])"
   ]
  },
  {
   "cell_type": "markdown",
   "metadata": {},
   "source": [
    "### Exercise 2"
   ]
  },
  {
   "cell_type": "markdown",
   "metadata": {},
   "source": [
    "Given a list of soccer match scores for  team x , where each element in the list is a two element list. The first element is the score of team x and the second element is the score of the other team.\n",
    "\n",
    "\n",
    "\n",
    "\n",
    "Write a function to calculate the overall score of the team  (win is 3 points, draw is 1 point and lose is 0 points)\n",
    "        \n",
    "** Example **\n",
    "\n",
    "match_scores = [[3,2], [4,1], [1,1], [0,1], [0,2]]\n",
    "\n",
    "overall score = 3+3+1 = 7\n",
    "\n",
    "** Hint** We will use the function we did last lesson\n",
    "\n",
    "\n",
    "\n",
    "\n",
    "\n",
    "\n",
    "\n"
   ]
  },
  {
   "cell_type": "code",
   "execution_count": 24,
   "metadata": {
    "collapsed": true
   },
   "outputs": [],
   "source": [
    "def calculate_score(score_list):\n",
    "    total_score = 0\n",
    "    for game in score_list:\n",
    "        if game == 'W':\n",
    "            total_score = total_score +3\n",
    "        elif game == 'D':\n",
    "            total_score = total_score + 1\n",
    "    return total_score\n",
    "\n",
    "man_united_results = ['W', 'D', 'W', 'L', 'W', 'D', 'D', 'D']\n",
    "score = calculate_score(man_united_results)\n"
   ]
  },
  {
   "cell_type": "markdown",
   "metadata": {},
   "source": [
    "### Exercise 3\n",
    "Write a function that given a list of student grades , each element is a list of size 2, where first element is the assignment name and the second element is the grade, calculate the average grade for student\n",
    "\n",
    "Example:\n",
    "\n",
    "    grades_list = [['Assignment 1', 5], ['Assignment 2', 10], ['Assignment 3', 15], ['Assignment 4', 5] ]\n",
    "    output = 8.75"
   ]
  },
  {
   "cell_type": "markdown",
   "metadata": {},
   "source": [
    "### Exercise 4\n",
    "\n",
    "\n",
    "write a function that given a list of lists , returns the maximum number, Assume all numbers in the list are positive. Do not use **max** function.\n",
    "\n",
    "\n",
    "Example:\n",
    "        \n",
    "        numbers_list = [[1,2,3], [5,6,10,1], [4,3,2]]\n",
    "        output = 10 \n",
    "\n",
    "\n",
    "\n"
   ]
  },
  {
   "cell_type": "markdown",
   "metadata": {},
   "source": [
    "### Exercise 5\n",
    "write a program that given a list of lists , outputs the sum of numbers in the list. Do not use **sum** function\n",
    "\n",
    "Example:\n",
    "    \n",
    "    numbers_list = [[1,2,3], [5,6,10,1], [4,3,2]]\n",
    "    output = 37\n"
   ]
  },
  {
   "cell_type": "code",
   "execution_count": 4,
   "metadata": {},
   "outputs": [
    {
     "name": "stdout",
     "output_type": "stream",
     "text": [
      "10\n"
     ]
    }
   ],
   "source": [
    "##easy version (not complete)\n",
    "numbers_list = [[1,2], [3,4]]\n",
    "\n",
    "output = 0\n",
    "\n",
    "first_list_sum = numbers_list[0][0] + numbers_list[0][1]\n",
    "second_list_sum = numbers_list[1][0] + numbers_list[1][1]\n",
    "print(first_list_sum+ second_list_sum)\n",
    "\n",
    "\n",
    "\n",
    "\n",
    "\n"
   ]
  },
  {
   "cell_type": "code",
   "execution_count": 68,
   "metadata": {},
   "outputs": [
    {
     "name": "stdout",
     "output_type": "stream",
     "text": [
      "10\n"
     ]
    }
   ],
   "source": [
    "### solution 1\n",
    "\n",
    "numbers_list = [ [1,2], [3,4]]\n",
    "output = 0\n",
    "\n",
    "for element_list in numbers_list:\n",
    "    for element in element_list:\n",
    "        output = output + element\n",
    "print(output)\n",
    "  \n",
    "    "
   ]
  },
  {
   "cell_type": "code",
   "execution_count": 70,
   "metadata": {},
   "outputs": [
    {
     "name": "stdout",
     "output_type": "stream",
     "text": [
      "10\n"
     ]
    }
   ],
   "source": [
    "# solution 2\n",
    "i = 0\n",
    "output = 0\n",
    "while i < len(numbers_list):\n",
    "    inner_list = numbers_list[i]\n",
    "    j = 0\n",
    "    while j < len(inner_list):\n",
    "        output = output + inner_list[j]\n",
    "        #print(inner_list[j])\n",
    "        j += 1 \n",
    "    \n",
    "    i += 1\n",
    "print(output)\n"
   ]
  },
  {
   "cell_type": "code",
   "execution_count": null,
   "metadata": {
    "collapsed": true
   },
   "outputs": [],
   "source": []
  }
 ],
 "metadata": {
  "kernelspec": {
   "display_name": "Python 2.7",
   "language": "python",
   "name": "env27"
  },
  "language_info": {
   "codemirror_mode": {
    "name": "ipython",
    "version": 2
   },
   "file_extension": ".py",
   "mimetype": "text/x-python",
   "name": "python",
   "nbconvert_exporter": "python",
   "pygments_lexer": "ipython2",
   "version": "2.7.13"
  }
 },
 "nbformat": 4,
 "nbformat_minor": 2
}
