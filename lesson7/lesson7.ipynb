{
 "cells": [
  {
   "cell_type": "markdown",
   "metadata": {
    "toc": "true"
   },
   "source": [
    "# Table of Contents\n",
    " <p><div class=\"lev2 toc-item\"><a href=\"#Lesson-7-(Files)\" data-toc-modified-id=\"Lesson-7-(Files)-01\"><span class=\"toc-item-num\">0.1&nbsp;&nbsp;</span>Lesson 7 (Files)</a></div><div class=\"lev3 toc-item\"><a href=\"#Revisiting-print()\" data-toc-modified-id=\"Revisiting-print()-011\"><span class=\"toc-item-num\">0.1.1&nbsp;&nbsp;</span>Revisiting print()</a></div><div class=\"lev3 toc-item\"><a href=\"#Is-it-possible-to-print-not-to-a-screen,-but-to-a-file?\" data-toc-modified-id=\"Is-it-possible-to-print-not-to-a-screen,-but-to-a-file?-012\"><span class=\"toc-item-num\">0.1.2&nbsp;&nbsp;</span>Is it possible to print not to a screen, but to a file?</a></div><div class=\"lev3 toc-item\"><a href=\"#What-about-reading-from-a-file?\" data-toc-modified-id=\"What-about-reading-from-a-file?-013\"><span class=\"toc-item-num\">0.1.3&nbsp;&nbsp;</span>What about reading from a file?</a></div><div class=\"lev3 toc-item\"><a href=\"#Exercise-1\" data-toc-modified-id=\"Exercise-1-014\"><span class=\"toc-item-num\">0.1.4&nbsp;&nbsp;</span>Exercise 1</a></div><div class=\"lev3 toc-item\"><a href=\"#Exercise-2\" data-toc-modified-id=\"Exercise-2-015\"><span class=\"toc-item-num\">0.1.5&nbsp;&nbsp;</span>Exercise 2</a></div>"
   ]
  },
  {
   "cell_type": "markdown",
   "metadata": {},
   "source": [
    "## Lesson 7 (Files)\n"
   ]
  },
  {
   "cell_type": "markdown",
   "metadata": {},
   "source": [
    "### Revisiting print()\n",
    "\n",
    "We already know how to use print for:\n",
    "\n",
    "- strings\n",
    "- strings containing special characters\n",
    "- integers\n",
    "- concatenation of several strings or stirngs and integers\n",
    "- lists"
   ]
  },
  {
   "cell_type": "code",
   "execution_count": 1,
   "metadata": {
    "ExecuteTime": {
     "end_time": "2018-03-19T21:59:04.874809Z",
     "start_time": "2018-03-19T21:59:04.864217Z"
    }
   },
   "outputs": [
    {
     "name": "stdout",
     "output_type": "stream",
     "text": [
      "Hello World!\n",
      "one\n",
      "two\tthree\n",
      "100\n",
      "Hello Nazly\n",
      "If you multiply 25 and 4, you will get: 100\n",
      "If you multiply 25 and 4, you will get: 100\n",
      "['aaa', 'bbb', 123]\n",
      "['aaa', 'bbb', 123\n"
     ]
    }
   ],
   "source": [
    "print('Hello World!')\n",
    "print('one\\ntwo\\tthree')\n",
    "print(25*4)\n",
    "print('Hello' + ' ' + 'Nazly')\n",
    "print('If you multiply 25 and 4, you will get: ' + str(25*4))\n",
    "print('If you multiply 25 and 4, you will get:', 25*4)\n",
    "\n",
    "print( ['aaa', 'bbb', 123] )\n",
    "print( \"['aaa', 'bbb', 123\" )"
   ]
  },
  {
   "cell_type": "markdown",
   "metadata": {},
   "source": [
    "### Is it possible to print not to a screen, but to a file?\n",
    "\n",
    "yes, and this is easy!\n"
   ]
  },
  {
   "cell_type": "code",
   "execution_count": 2,
   "metadata": {
    "ExecuteTime": {
     "end_time": "2018-03-19T21:59:06.595353Z",
     "start_time": "2018-03-19T21:59:06.590474Z"
    }
   },
   "outputs": [],
   "source": [
    "f = open('test.txt', 'w')\n",
    "f.write('Hello World!\\n'*5)\n",
    "f.close()     "
   ]
  },
  {
   "cell_type": "markdown",
   "metadata": {},
   "source": [
    "When a file is opened, we have to specify how it is opened with the letter passed to the function `open`. There are 3 ways:\n",
    "* `r` : read. The file can only be read, is not modified. If it doesn't exist trying to open it will generate an error\n",
    "* `w`: write. The file can be written to, if it doesn't exist will be created, if it already had something inside will be removed and replaced by whatever we write\n",
    "* `a`: append. Like `w` but doesn't delete the previous content of the file and instead adds to the end of it.\n",
    "\n",
    "There are two more things worth mentioning: you can open a file for reading AND writing adding a `+` to the letter (e.g. `w+` means the file is emptied or created if it doesn't exists and can be also read). Another important thing to note is that all these functions apply to _text_ files, other types of files which do not contain text require to to add a `b` to the letter (e.g. `wb`) to tell Python to not try reading and writing them as text; in this case there are slightly different operations to work with raw bytes which are a more advanced topic."
   ]
  },
  {
   "cell_type": "markdown",
   "metadata": {},
   "source": [
    "### What about reading from a file?\n",
    "\n",
    "Two main options:\n",
    "- as a whole text\n",
    "- line by line"
   ]
  },
  {
   "cell_type": "code",
   "execution_count": 5,
   "metadata": {
    "scrolled": true
   },
   "outputs": [
    {
     "name": "stdout",
     "output_type": "stream",
     "text": [
      "Hello World!\n",
      "Hello World!\n",
      "Hello World!\n",
      "Hello World!\n",
      "Hello World!\n",
      "\n"
     ]
    }
   ],
   "source": [
    "f = open('test.txt', 'r')\n",
    "\n",
    "file_content = f.read()\n",
    "print(file_content)\n",
    "f.close()\n"
   ]
  },
  {
   "cell_type": "code",
   "execution_count": 18,
   "metadata": {},
   "outputs": [
    {
     "name": "stdout",
     "output_type": "stream",
     "text": [
      "next line\n",
      "Hello World!\n",
      "\n",
      "next line\n",
      "Hello World!\n",
      "\n",
      "next line\n",
      "Hello World!\n",
      "\n",
      "next line\n",
      "Hello World!\n",
      "\n",
      "next line\n",
      "Hello World!\n",
      "\n"
     ]
    }
   ],
   "source": [
    "f = open('test.txt', 'r')\n",
    "\n",
    "for line in f:\n",
    "    print(line)\n",
    "\n",
    "f.close()"
   ]
  },
  {
   "cell_type": "markdown",
   "metadata": {},
   "source": [
    "After we are done working with a file we call the function `close` to close it.\n",
    "Since the file is closed anyway when the program ends you'll not notice a difference for these small programs, but when you write larger programs working with more than one file or opening the same file many times you may have problems if you didn't close it; so in general is better to close the file as soon as you don't need it anymore."
   ]
  },
  {
   "cell_type": "markdown",
   "metadata": {},
   "source": [
    "### Exercise 1\n",
    "Write a function *number_of_lines(filename)* that takes file name as paramenter and returns the number of lines in this file  \n",
    "\n",
    "Run this function for 3 files on your hard drive (use text files and not binary files for this)  \n",
    "Output of your programm should be:  \n",
    "\n",
    "``file_name1: has X lines``   \n",
    "``file_name2: has Y lines``  \n",
    "``file_name3: has Z lines``"
   ]
  },
  {
   "cell_type": "code",
   "execution_count": 3,
   "metadata": {
    "ExecuteTime": {
     "end_time": "2018-03-19T22:16:31.704432Z",
     "start_time": "2018-03-19T22:16:31.688786Z"
    }
   },
   "outputs": [
    {
     "name": "stdout",
     "output_type": "stream",
     "text": [
      "test.txt: has 5 lines\n",
      "test2.txt: has 9 lines\n",
      "test3.txt: has 3 lines\n"
     ]
    }
   ],
   "source": [
    "def number_of_lines(filename):\n",
    "    f = open(filename, 'r')\n",
    "    \n",
    "    \n",
    "    result = 0\n",
    "    # Note: here we don't care about the content of the lines, just want to count them\n",
    "    # the variable _ is used to mean that we don't mind its actual content\n",
    "    for _ in f:\n",
    "        result += 1\n",
    "        \n",
    "    f.close()\n",
    "    return result\n",
    "\n",
    "print( 'test.txt: has ' + str(number_of_lines('test.txt')) + ' lines')\n",
    "print( 'test2.txt: has ' + str(number_of_lines('test2.txt')) + ' lines')\n",
    "print( 'test3.txt: has ' + str(number_of_lines('test3.txt')) + ' lines')\n",
    "        "
   ]
  },
  {
   "cell_type": "markdown",
   "metadata": {},
   "source": [
    "### Exercise 2\n",
    "Write a program which gets a filename from the user, and writes content of this file to another file on the hard drive adding number of the line to each line.\n",
    "\n",
    "Given file *test.txt*:  \n",
    "``\n",
    "first line\n",
    "second line\n",
    "third line\n",
    "``\n",
    "\n",
    "it should create a new file *test_numbered.txt* , which contains:  \n",
    "``\n",
    "1: first line\n",
    "2: second line\n",
    "3: third line\n",
    "``"
   ]
  },
  {
   "cell_type": "code",
   "execution_count": 6,
   "metadata": {
    "ExecuteTime": {
     "end_time": "2018-03-19T22:20:45.657659Z",
     "start_time": "2018-03-19T22:20:42.660132Z"
    }
   },
   "outputs": [
    {
     "name": "stdout",
     "output_type": "stream",
     "text": [
      "Please enter the filename:test.txt\n",
      "input file: test.txt\n",
      "output file: test_numbered.txt\n"
     ]
    }
   ],
   "source": [
    "# First we create a function that gets the name of the file to save\n",
    "def get_output_filename(input_file_name):\n",
    "    '''\n",
    "    Given a file name like testfile.txt return testgile_numbered.txt\n",
    "    '''\n",
    "    tmp_list= input_file_name.split('.')\n",
    "    tmp_list[0] += '_numbered'\n",
    "    result = '.'.join(tmp_list)    \n",
    "    return result\n",
    "\n",
    "\n",
    "filename = input('Please enter the filename:')\n",
    "\n",
    "print('input file: ' + filename)\n",
    "print('output file: ' + get_output_filename(filename))\n",
    "\n",
    "f_input = open( filename, 'r' )\n",
    "f_output = open( get_output_filename(filename), 'w')\n",
    "\n",
    "line_cnt = 0\n",
    "\n",
    "for line in f_input:\n",
    "    line_cnt += 1\n",
    "    output_line = str(line_cnt) + ':' + line\n",
    "    f_output.write( output_line )\n",
    "    \n",
    "\n",
    "f_input.close()\n",
    "f_output.close()"
   ]
  },
  {
   "cell_type": "markdown",
   "metadata": {},
   "source": [
    "### Exercise 3\n",
    "Write a program that"
   ]
  }
 ],
 "metadata": {
  "kernelspec": {
   "display_name": "Python 3",
   "language": "python",
   "name": "python3"
  },
  "language_info": {
   "codemirror_mode": {
    "name": "ipython",
    "version": 3
   },
   "file_extension": ".py",
   "mimetype": "text/x-python",
   "name": "python",
   "nbconvert_exporter": "python",
   "pygments_lexer": "ipython3",
   "version": "3.6.4"
  },
  "toc": {
   "colors": {
    "hover_highlight": "#DAA520",
    "navigate_num": "#000000",
    "navigate_text": "#333333",
    "running_highlight": "#FF0000",
    "selected_highlight": "#FFD700",
    "sidebar_border": "#EEEEEE",
    "wrapper_background": "#FFFFFF"
   },
   "moveMenuLeft": true,
   "nav_menu": {
    "height": "118px",
    "width": "251px"
   },
   "navigate_menu": true,
   "number_sections": true,
   "sideBar": true,
   "threshold": 4,
   "toc_cell": true,
   "toc_section_display": "block",
   "toc_window_display": false,
   "widenNotebook": false
  }
 },
 "nbformat": 4,
 "nbformat_minor": 2
}
