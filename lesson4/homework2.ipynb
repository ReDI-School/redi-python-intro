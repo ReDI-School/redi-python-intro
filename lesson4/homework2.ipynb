{
 "cells": [
  {
   "cell_type": "markdown",
   "metadata": {},
   "source": [
    "### Exercise 1 \n",
    "\n",
    "Write a program that takes as input a list of student grades. A student grade can be either A/B/C/D/F. output the number of students having each grade.\n",
    "\n",
    "Example:\n",
    "\n",
    "- input_list = ['A', 'A', 'B', 'C', 'C', 'C', 'D','F','F']\n",
    "\n",
    "output:\n",
    "\n",
    "- A: 2 Students\n",
    "- B: 1 Student\n",
    "- C: 3 Students\n",
    "- D: 1 Student\n",
    "- F: 2 students\n",
    "\n",
    "\n",
    "input_list = ['S','S','F','S']\n",
    "\n"
   ]
  },
  {
   "cell_type": "code",
   "execution_count": 1,
   "metadata": {},
   "outputs": [
    {
     "name": "stdout",
     "output_type": "stream",
     "text": [
      "('Number of people who succeeded ', 3)\n",
      "('Number of people who failed', 1)\n"
     ]
    }
   ],
   "source": [
    "input_list = ['S', 'S', 'F', 'S']\n",
    "count_succeed = 0\n",
    "count_fail = 0\n",
    "for element in input_list:\n",
    "    if(element =='S'):\n",
    "        count_succeed = count_succeed + 1\n",
    "    else:\n",
    "        count_fail = count_fail +1\n",
    "        # count_fail += 1\n",
    "print('Number of people who succeeded ', count_succeed)\n",
    "print('Number of people who failed', count_fail)\n",
    "    "
   ]
  },
  {
   "cell_type": "code",
   "execution_count": 7,
   "metadata": {},
   "outputs": [
    {
     "data": {
      "text/plain": [
       "{'A': 1, 'B': 5, 'C': 0, 'D': 0, 'F': 0, 'blah': 5}"
      ]
     },
     "execution_count": 7,
     "metadata": {},
     "output_type": "execute_result"
    }
   ],
   "source": [
    "count_dict = {'A':0, 'B':0, 'C':0, 'D':0, 'F':0}\n",
    "count_dict['A'] = count_dict['A'] + 1\n",
    "count_dict['B'] = count_dict['B'] + 5\n",
    "count_dict['blah'] = 5\n",
    "count_dict"
   ]
  },
  {
   "cell_type": "code",
   "execution_count": null,
   "metadata": {
    "collapsed": true
   },
   "outputs": [],
   "source": []
  },
  {
   "cell_type": "code",
   "execution_count": 3,
   "metadata": {},
   "outputs": [
    {
     "name": "stdout",
     "output_type": "stream",
     "text": [
      "('Number of people who got the grade A:', 2)\n",
      "('Number of people who got the grade B:', 1)\n",
      "('Number of people who got the grade C:', 3)\n",
      "('Number of people who got the grade D:', 1)\n",
      "('Number of people who got the grade F:', 2)\n"
     ]
    }
   ],
   "source": [
    "list_grades = ['A', 'A', 'B','C', 'C', 'C', 'D', 'F', 'F']\n",
    "count_a = 0\n",
    "count_b = 0\n",
    "count_c = 0\n",
    "count_d = 0\n",
    "count_f = 0\n",
    "for element in list_grades:\n",
    "    if(element == 'A'):\n",
    "        count_a = count_a + 1\n",
    "    elif(element == 'B'):\n",
    "        count_b = count_b + 1\n",
    "    elif(element == 'C'):\n",
    "        count_c = count_c + 1\n",
    "    elif(element == 'D'):\n",
    "        count_d = count_d + 1\n",
    "    else:\n",
    "        count_f = count_f + 1\n",
    "print('Number of people who got the grade A:',count_a)\n",
    "print('Number of people who got the grade B:',count_b)\n",
    "print('Number of people who got the grade C:',count_c)\n",
    "print('Number of people who got the grade D:',count_d)\n",
    "print('Number of people who got the grade F:',count_f)"
   ]
  },
  {
   "cell_type": "markdown",
   "metadata": {},
   "source": [
    "### Exercise 2 Sorting a list\n",
    "\n",
    "- Write a program that takes as input a list, sort the list in an ascending order and print it out to user\n",
    "\n",
    "\n",
    "Example:\n",
    "\n",
    "- list = [5,2,10,1], output = [1,2,5,10]\n"
   ]
  },
  {
   "cell_type": "code",
   "execution_count": null,
   "metadata": {
    "collapsed": true
   },
   "outputs": [],
   "source": []
  }
 ],
 "metadata": {
  "kernelspec": {
   "display_name": "Python 2.7",
   "language": "python",
   "name": "env27"
  },
  "language_info": {
   "codemirror_mode": {
    "name": "ipython",
    "version": 2
   },
   "file_extension": ".py",
   "mimetype": "text/x-python",
   "name": "python",
   "nbconvert_exporter": "python",
   "pygments_lexer": "ipython2",
   "version": "2.7.13"
  }
 },
 "nbformat": 4,
 "nbformat_minor": 2
}
