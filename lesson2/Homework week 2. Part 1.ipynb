{
 "cells": [
  {
   "cell_type": "markdown",
   "metadata": {},
   "source": [
    "###  Homework\n",
    "#### Exercise 1 \n",
    "\n",
    "- Given the width and height of rectangle, calculate either perimeter or area (ask the user!)\n",
    "- Hints:\n",
    "    - perimeter = 2 X (length + width)\n",
    "    - area = length X width\n",
    " \n",
    "\n",
    "#### Exercise 2\n",
    "\n",
    "Using **input** get the first name and then the last name of the user and save that in two variables\n",
    "Then ask the user in which order they want to print that. **1** for first name, last name, **2** for last name, first name\n",
    "\n",
    "Depending on the user's input print the full name in the correct order in the following way:\n",
    "- if user chose to show first name first:  \n",
    "*\"Your first name is X and your last name is Y\"*\n",
    "\n",
    "- if user chose to show last name first:  \n",
    "*\"Your last name is Y and your first name is X\"*"
   ]
  }
 ],
 "metadata": {
  "kernelspec": {
   "display_name": "Python 3",
   "language": "python",
   "name": "python3"
  },
  "language_info": {
   "codemirror_mode": {
    "name": "ipython",
    "version": 3
   },
   "file_extension": ".py",
   "mimetype": "text/x-python",
   "name": "python",
   "nbconvert_exporter": "python",
   "pygments_lexer": "ipython3",
   "version": "3.6.3"
  }
 },
 "nbformat": 4,
 "nbformat_minor": 2
}
