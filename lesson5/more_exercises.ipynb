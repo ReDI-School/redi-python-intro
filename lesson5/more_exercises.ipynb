{
 "cells": [
  {
   "cell_type": "markdown",
   "metadata": {
    "toc": "true"
   },
   "source": [
    "# Table of Contents\n",
    " <p><div class=\"lev1 toc-item\"><a href=\"#Exercises-for-lesson-5\" data-toc-modified-id=\"Exercises-for-lesson-5-1\"><span class=\"toc-item-num\">1&nbsp;&nbsp;</span>Exercises for lesson 5</a></div><div class=\"lev3 toc-item\"><a href=\"#Exercice-1\" data-toc-modified-id=\"Exercice-1-101\"><span class=\"toc-item-num\">1.0.1&nbsp;&nbsp;</span>Exercice 1</a></div><div class=\"lev3 toc-item\"><a href=\"#Exercise-3\" data-toc-modified-id=\"Exercise-3-102\"><span class=\"toc-item-num\">1.0.2&nbsp;&nbsp;</span>Exercise 3</a></div><div class=\"lev3 toc-item\"><a href=\"#Exercise-4\" data-toc-modified-id=\"Exercise-4-103\"><span class=\"toc-item-num\">1.0.3&nbsp;&nbsp;</span>Exercise 4</a></div>"
   ]
  },
  {
   "cell_type": "markdown",
   "metadata": {},
   "source": [
    "# Exercises for lesson 5"
   ]
  },
  {
   "cell_type": "markdown",
   "metadata": {},
   "source": [
    "\n",
    "### Exercice 1\n",
    "\n",
    "We have stored in a list the results of different football matches for our favorite team.\n",
    "We would like to write a function that calculates the number of points that the team has at the end of all the matches. \n",
    "\n",
    "W = WIN => 3 points\n",
    "D = DRAW => 1 point\n",
    "L = LOSS => 0 points\n",
    "\n",
    "man_united_results = ['W', 'D', 'W', 'L', 'W', 'D', 'D', 'D']\n",
    "\n",
    "The function should return 13 points"
   ]
  },
  {
   "cell_type": "markdown",
   "metadata": {},
   "source": [
    "### Exercise 3\n",
    "\n",
    "Write a function that takes two lists at inputs and returns a list that sums the two input lists (element wise). Assume two input lists are of the same size\n",
    "\n",
    "Example:\n",
    "     - List 1: [1,2,3] - List 2 = [5,6,7], output = [6, 8, 10]\n",
    "     so it sums 1st element from 1st list  with 1st element and 2nd element with 2nd element, and so on\n",
    "    "
   ]
  },
  {
   "cell_type": "markdown",
   "metadata": {},
   "source": [
    "### Exercise 4\n",
    "\n",
    "Write a function that takes two lists at inputs and returns a list that zips the two lists together. Assume two input lists are of the same size\n",
    "\n",
    "Example:\n",
    "     - List 1: [1,2,3] - List 2 = [5,6,7], output = [1,5,2,6,3,7]\n",
    "     "
   ]
  }
 ],
 "metadata": {
  "kernelspec": {
   "display_name": "Python 3",
   "language": "python",
   "name": "python3"
  },
  "language_info": {
   "codemirror_mode": {
    "name": "ipython",
    "version": 3
   },
   "file_extension": ".py",
   "mimetype": "text/x-python",
   "name": "python",
   "nbconvert_exporter": "python",
   "pygments_lexer": "ipython3",
   "version": "3.6.4"
  },
  "toc": {
   "colors": {
    "hover_highlight": "#DAA520",
    "navigate_num": "#000000",
    "navigate_text": "#333333",
    "running_highlight": "#FF0000",
    "selected_highlight": "#FFD700",
    "sidebar_border": "#EEEEEE",
    "wrapper_background": "#FFFFFF"
   },
   "moveMenuLeft": true,
   "nav_menu": {
    "height": "65px",
    "width": "251px"
   },
   "navigate_menu": true,
   "number_sections": true,
   "sideBar": true,
   "threshold": 4,
   "toc_cell": true,
   "toc_section_display": "block",
   "toc_window_display": false,
   "widenNotebook": false
  }
 },
 "nbformat": 4,
 "nbformat_minor": 2
}
