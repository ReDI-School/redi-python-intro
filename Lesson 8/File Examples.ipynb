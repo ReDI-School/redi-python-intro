{
 "cells": [
  {
   "cell_type": "markdown",
   "metadata": {},
   "source": [
    "### Exercise 1\n",
    "\n",
    "Write a function that takes as input filename and a word, and returns the number of lines in the file that contain\n",
    "this word.\n",
    "\n",
    "\n",
    "Example:\n",
    "\n",
    "    Input word: hello\n",
    "    Input File:\n",
    "        In any introductory programming course, the course usually starts by implementing \n",
    "        a  hello world example. This allows you to run your first program and display\n",
    "        a welcome hello message to the user and in particular hello world. \n",
    "    Output: 2\n",
    "    \n",
    "#### Part 2:  What if we want to count how many occurrences in the file we have the word **hello** ?\n"
   ]
  },
  {
   "cell_type": "code",
   "execution_count": 8,
   "metadata": {},
   "outputs": [
    {
     "name": "stdout",
     "output_type": "stream",
     "text": [
      "Enter filenamefile1.txt\n",
      "file1.txt\n"
     ]
    }
   ],
   "source": [
    "filename = raw_input('Enter filename')\n"
   ]
  },
  {
   "cell_type": "code",
   "execution_count": 1,
   "metadata": {},
   "outputs": [
    {
     "name": "stdout",
     "output_type": "stream",
     "text": [
      "Enter filename file1.txt\n",
      "Enter word hello\n",
      "# of occurrences containing hello in file 2\n"
     ]
    }
   ],
   "source": [
    "#part 1 solution \n",
    "def counting_lines(filename, word):\n",
    "    file1 = open(filename, 'r')\n",
    "\n",
    "    count = 0\n",
    "    for line in file1:\n",
    "        if word in line:\n",
    "            count += 1\n",
    "    file1.close()\n",
    "    return count\n",
    "    \n",
    "\n",
    "\n",
    "filename = raw_input('Enter filename ')\n",
    "word = raw_input('Enter word ')\n",
    "\n",
    "count = counting_lines(filename, word)\n",
    "\n",
    "print('# of occurrences containing '+ word +' in file '+ str(count))"
   ]
  },
  {
   "cell_type": "code",
   "execution_count": 33,
   "metadata": {},
   "outputs": [
    {
     "name": "stdout",
     "output_type": "stream",
     "text": [
      "Enter filename file1.txt\n",
      "Enter word hello\n",
      "# of lines containing hello in file 4\n"
     ]
    }
   ],
   "source": [
    "#part 2 solution 1\n",
    "def counting_lines(filename, word):\n",
    "    file1 = open(filename, 'r')\n",
    "\n",
    "    count = 0\n",
    "    for line in file1:\n",
    "        line_words = line.split()\n",
    "        for line_word in line_words:\n",
    "            if word == line_word:\n",
    "                count += 1\n",
    "    file1.close()\n",
    "    return count\n",
    "    \n",
    "\n",
    "\n",
    "filename = raw_input('Enter filename ')\n",
    "word = raw_input('Enter word ')\n",
    "\n",
    "count = counting_lines(filename, word)\n",
    "\n",
    "print('# of occurrences containing '+ word +' in file '+ str(count))"
   ]
  },
  {
   "cell_type": "code",
   "execution_count": 40,
   "metadata": {
    "collapsed": true
   },
   "outputs": [],
   "source": [
    "\n",
    "def filter_out_punctuation( string ):\n",
    "    result = ''\n",
    "    for letter in string:\n",
    "        if letter not in [',', '.', '!', '?', ':', ';', '-','\\n', '\\t']:\n",
    "            result += letter\n",
    "        else:\n",
    "            result += ' '\n",
    "    return result"
   ]
  },
  {
   "cell_type": "code",
   "execution_count": 39,
   "metadata": {},
   "outputs": [
    {
     "data": {
      "text/plain": [
       "'hello   check blah  mm'"
      ]
     },
     "execution_count": 39,
     "metadata": {},
     "output_type": "execute_result"
    }
   ],
   "source": [
    "filter_out_punctuation('hello , check!blah? mm')"
   ]
  },
  {
   "cell_type": "code",
   "execution_count": 42,
   "metadata": {},
   "outputs": [
    {
     "name": "stdout",
     "output_type": "stream",
     "text": [
      "Enter filename file2.txt\n",
      "Enter word hello\n",
      "('before cleaning', 'hello!Everyone, this is a new file\\namazing how ,many hello exist\\nin this file hello hello???')\n",
      "('after cleaning', 'hello Everyone  this is a new file amazing how  many hello exist in this file hello hello   ')\n",
      "['hello', 'Everyone', 'this', 'is', 'a', 'new', 'file', 'amazing', 'how', 'many', 'hello', 'exist', 'in', 'this', 'file', 'hello', 'hello']\n",
      "# of lines containing hello in file 4\n"
     ]
    }
   ],
   "source": [
    "\n",
    "# part 2 solution 2\n",
    "\n",
    "def filter_out_punctuation( string ):\n",
    "    result = ''\n",
    "    for letter in string:\n",
    "        if letter not in [',', '.', '!', '?', ':', ';', '-','\\n', '\\t']:\n",
    "            result += letter\n",
    "        else:\n",
    "            result += ' '\n",
    "    return result\n",
    "\n",
    "def counting_lines(filename, word):\n",
    "    file1 = open(filename, 'r')\n",
    "    \n",
    "    file_content = file1.read()\n",
    "    print('before cleaning', file_content)\n",
    "    file_content_cleaned = filter_out_punctuation(file_content)\n",
    "    print('after cleaning', file_content_cleaned)\n",
    "    words = file_content_cleaned.split()\n",
    "    print(words)\n",
    "    \n",
    "\n",
    "    count = 0\n",
    "    for file_word in words:\n",
    "        if word == file_word:\n",
    "            count += 1\n",
    "    file1.close()\n",
    "    return count\n",
    "    \n",
    "\n",
    "\n",
    "filename = raw_input('Enter filename ')\n",
    "word = raw_input('Enter word ')\n",
    "\n",
    "count = counting_lines(filename, word)\n",
    "\n",
    "print('# of lines containing '+ word +' in file '+ str(count))"
   ]
  },
  {
   "cell_type": "markdown",
   "metadata": {},
   "source": [
    "### Splitting strings vs Joining"
   ]
  },
  {
   "cell_type": "code",
   "execution_count": 32,
   "metadata": {},
   "outputs": [
    {
     "name": "stdout",
     "output_type": "stream",
     "text": [
      "['hello', 'check', 'bye', 'blah']\n"
     ]
    }
   ],
   "source": [
    "text = 'hello check bye blah'\n",
    "words = text.split(' ')\n",
    "print(words)"
   ]
  },
  {
   "cell_type": "code",
   "execution_count": 28,
   "metadata": {},
   "outputs": [
    {
     "data": {
      "text/plain": [
       "'hello check bye blah'"
      ]
     },
     "execution_count": 28,
     "metadata": {},
     "output_type": "execute_result"
    }
   ],
   "source": [
    "' '.join(words)"
   ]
  },
  {
   "cell_type": "code",
   "execution_count": 16,
   "metadata": {},
   "outputs": [
    {
     "data": {
      "text/plain": [
       "'occurrences hello'"
      ]
     },
     "execution_count": 16,
     "metadata": {},
     "output_type": "execute_result"
    }
   ],
   "source": [
    "'occurrences '+ word"
   ]
  },
  {
   "cell_type": "markdown",
   "metadata": {},
   "source": [
    "### Checking whether a string contains a specific word ( or mor generally a substring)"
   ]
  },
  {
   "cell_type": "code",
   "execution_count": 17,
   "metadata": {},
   "outputs": [
    {
     "name": "stdout",
     "output_type": "stream",
     "text": [
      "yes\n"
     ]
    }
   ],
   "source": [
    "text = 'hello world'\n",
    "\n",
    "word = 'hello'\n",
    "if(word in text):\n",
    "    print('yes')\n",
    "else:\n",
    "    print('no')"
   ]
  },
  {
   "cell_type": "markdown",
   "metadata": {},
   "source": [
    "### Exercise 2\n",
    "\n",
    "In a soccer tournament, we have 4 teams, each played 3 matches. we have a csv file that contains the scores as below\n",
    "\n",
    "Easy Version\n",
    "<table class=\"table table-bordered table-hover table-condensed\">\n",
    "<tbody><tr>\n",
    "<td>Team</td>\n",
    "<td>Match1</td>\n",
    "<td>Match2</td>\n",
    "<td>Match3</td>\n",
    "</tr>\n",
    "<tr>\n",
    "<td>Italy</td>\n",
    "<td>W</td>\n",
    "<td>W</td>\n",
    "<td>W</td>\n",
    "</tr>\n",
    "<tr>\n",
    "<td>France</td>\n",
    "<td>W</td>\n",
    "<td>D</td>\n",
    "<td>L</td>\n",
    "</tr>\n",
    "<tr>\n",
    "<td>Czech</td>\n",
    "<td>L</td>\n",
    "<td>W</td>\n",
    "<td>L</td>\n",
    "</tr>\n",
    "<tr>\n",
    "<td>Romania</td>\n",
    "<td>L</td>\n",
    "<td>D</td>\n",
    "<td>L</td>\n",
    "</tr>\n",
    "</tbody></table>\n",
    "\n",
    "\n",
    "Difficult version\n",
    "\n",
    "<table class=\"table table-bordered table-hover table-condensed\">\n",
    "<tbody><tr>\n",
    "<td>Team1</td>\n",
    "<td>Team2</td>\n",
    "<td>Score</td>\n",
    "</tr>\n",
    "<tr>\n",
    "<td>Italy</td>\n",
    "<td>France</td>\n",
    "<td>2-1</td>\n",
    "</tr>\n",
    "<tr>\n",
    "<td>Italy</td>\n",
    "<td>Czech</td>\n",
    "<td>3-0</td>\n",
    "</tr>\n",
    "<tr>\n",
    "<td>Italy</td>\n",
    "<td>Romania</td>\n",
    "<td>5-0</td>\n",
    "</tr>\n",
    "<tr>\n",
    "<td>France</td>\n",
    "<td>Czech</td>\n",
    "<td>2-1</td>\n",
    "</tr>\n",
    "<tr>\n",
    "<td>France</td>\n",
    "<td>Romania</td>\n",
    "<td>1-1</td>\n",
    "</tr>\n",
    "<tr>\n",
    "<td>Czech</td>\n",
    "<td>Romania</td>\n",
    "<td>2-1</td>\n",
    "</tr>\n",
    "</tbody></table>\n",
    "\n",
    "We would like to know the overall score for each team? (W is a win=> 3 points, D is a draw => 1 point, L is a lose => 0 points)\n",
    "\n"
   ]
  },
  {
   "cell_type": "code",
   "execution_count": 5,
   "metadata": {},
   "outputs": [
    {
     "name": "stdout",
     "output_type": "stream",
     "text": [
      "country:  Italy\n",
      "result:  9\n",
      "country:  France\n",
      "result:  4\n",
      "country:  Czech\n",
      "result:  3\n",
      "country:  Romania\n",
      "result:  1\n"
     ]
    }
   ],
   "source": [
    "#solution for the simple version of the task\n",
    "\n",
    "f = open('tournament.csv', 'r')\n",
    "\n",
    "line_number = 1\n",
    "\n",
    "for line in f:\n",
    "    if line_number > 1 and line.strip() != '':\n",
    "        data = line.split(',')\n",
    "        \n",
    "        print('country: ', data[0])\n",
    "        \n",
    "        total_result = 0\n",
    "        for i in range(1, len(data)):\n",
    "            game_result = data[i]\n",
    "            \n",
    "            if  game_result == 'W' or game_result == 'W\\n':\n",
    "                total_result += 3\n",
    "            elif game_result == 'D' or game_result == 'D\\n':\n",
    "                total_result += 1\n",
    "                \n",
    "        print('result: ', total_result)\n",
    "    \n",
    "    line_number += 1\n",
    "\n",
    "f.close()"
   ]
  },
  {
   "cell_type": "code",
   "execution_count": null,
   "metadata": {},
   "outputs": [],
   "source": []
  }
 ],
 "metadata": {
  "kernelspec": {
   "display_name": "Python 3",
   "language": "python",
   "name": "python3"
  },
  "language_info": {
   "codemirror_mode": {
    "name": "ipython",
    "version": 3
   },
   "file_extension": ".py",
   "mimetype": "text/x-python",
   "name": "python",
   "nbconvert_exporter": "python",
   "pygments_lexer": "ipython3",
   "version": "3.5.2+"
  }
 },
 "nbformat": 4,
 "nbformat_minor": 2
}
