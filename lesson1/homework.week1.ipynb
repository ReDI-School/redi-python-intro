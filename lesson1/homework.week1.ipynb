{
 "cells": [
  {
   "cell_type": "markdown",
   "metadata": {},
   "source": [
    "## Homework 1: Calculate the volume of a pizza\n",
    "![](http://i.imgur.com/oDlUiFa.jpg =150x)\n",
    "\n",
    "Using the following variables:\n",
    "```\n",
    "pi = \"3.14\"\n",
    "# pizza radius z\n",
    "z = \"15\"\n",
    "# pizza height a\n",
    "a = 0.5\n",
    "```\n",
    "calculate the volume of a pizza. \n",
    "The formula for the calculation is \n",
    "pizza_volume = pi\\*z\\*z\\*a\n",
    "\n",
    "pizza_volume should be a float. Verify the type of the result\n"
   ]
  },
  {
   "cell_type": "markdown",
   "metadata": {},
   "source": [
    "## Homework 2: Playing with strings\n",
    "\n",
    "We have 3 baskets with fruits:\n",
    "- First one has 1 apple and 2 oranges\n",
    "- Second has 3 oranges and 2 bananas\n",
    "- Third has 10 bananas and 10 apples\n",
    "The weight of each fruit is in these variables (use these variables in your homework):\n",
    "\n",
    "```\n",
    "apple_weight = 100\n",
    "banana_weight = 150.0\n",
    "orange_weight = \"80\"\n",
    "\n",
    "number_of_baskets = 3\n",
    "```\n",
    "\n",
    "Calculate the total weight of all the fruits from all the baskets (Calculate the weight for each basket and add them together)\n",
    "The final weight should be converted to int\n",
    "print the total weight is a sentence like this:\n",
    "\n",
    "\"There is a total weight of X grams of fruits in Y baskets\"\n",
    "\n",
    "where X is the total weight you have calculated and Y the number of baskets (number_of_baskets from the initial variables)"
   ]
  }
 ],
 "metadata": {
  "kernelspec": {
   "display_name": "Python 3",
   "language": "python",
   "name": "python3"
  },
  "language_info": {
   "codemirror_mode": {
    "name": "ipython",
    "version": 3
   },
   "file_extension": ".py",
   "mimetype": "text/x-python",
   "name": "python",
   "nbconvert_exporter": "python",
   "pygments_lexer": "ipython3",
   "version": "3.6.3"
  }
 },
 "nbformat": 4,
 "nbformat_minor": 2
}
