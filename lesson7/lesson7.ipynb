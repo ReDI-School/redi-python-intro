{
 "cells": [
  {
   "cell_type": "markdown",
   "metadata": {},
   "source": [
    "## Lesson 7 (Files)\n"
   ]
  },
  {
   "cell_type": "markdown",
   "metadata": {},
   "source": [
    "### Revisiting print()\n",
    "\n",
    "We already know how to use print for:\n",
    "\n",
    "- strings\n",
    "- strings containing special characters\n",
    "- integers\n",
    "- concatenation of several strings or stirngs and integers\n",
    "- lists"
   ]
  },
  {
   "cell_type": "code",
   "execution_count": 9,
   "metadata": {},
   "outputs": [
    {
     "name": "stdout",
     "output_type": "stream",
     "text": [
      "Hello World!\n",
      "one\n",
      "two\tthree\n",
      "100\n",
      "Hello Nazly\n",
      "If you multiply 25 and 4, you will get: 100\n",
      "If you multiply 25 and 4, you will get: 100\n",
      "['aaa', 'bbb', 123]\n",
      "['aaa', 'bbb', 123\n"
     ]
    }
   ],
   "source": [
    "print('Hello World!')\n",
    "print('one\\ntwo\\tthree')\n",
    "print(25*4)\n",
    "print('Hello' + ' ' + 'Nazly')\n",
    "print('If you multiply 25 and 4, you will get: ' + str(25*4))\n",
    "print('If you multiply 25 and 4, you will get:', 25*4)\n",
    "\n",
    "print( ['aaa', 'bbb', 123] )\n",
    "print( \"['aaa', 'bbb', 123\" )"
   ]
  },
  {
   "cell_type": "markdown",
   "metadata": {},
   "source": [
    "### Is it possible to print not to a screen, but to a file?\n",
    "\n",
    "- yes, and this is easy!\n"
   ]
  },
  {
   "cell_type": "code",
   "execution_count": 34,
   "metadata": {},
   "outputs": [],
   "source": [
    "f = open('test.txt', 'w')\n",
    "f.write('Hello World!\\n'*5)\n",
    "f.close()     "
   ]
  },
  {
   "cell_type": "markdown",
   "metadata": {},
   "source": [
    "### What about reading from a file?\n",
    "\n",
    "two main options:\n",
    "- as a whole text\n",
    "- line by line"
   ]
  },
  {
   "cell_type": "code",
   "execution_count": 11,
   "metadata": {
    "scrolled": true
   },
   "outputs": [
    {
     "name": "stdout",
     "output_type": "stream",
     "text": [
      "Hello World!\n",
      "Hello World!\n",
      "Hello World!\n",
      "Hello World!\n",
      "Hello World!\n",
      "\n"
     ]
    }
   ],
   "source": [
    "f = open('test.txt', 'r')\n",
    "\n",
    "file_content = f.read()\n",
    "print(file_content)\n",
    "f.close()\n"
   ]
  },
  {
   "cell_type": "code",
   "execution_count": 18,
   "metadata": {},
   "outputs": [
    {
     "name": "stdout",
     "output_type": "stream",
     "text": [
      "next line\n",
      "Hello World!\n",
      "\n",
      "next line\n",
      "Hello World!\n",
      "\n",
      "next line\n",
      "Hello World!\n",
      "\n",
      "next line\n",
      "Hello World!\n",
      "\n",
      "next line\n",
      "Hello World!\n",
      "\n"
     ]
    }
   ],
   "source": [
    "f = open('test.txt', 'r')\n",
    "\n",
    "for line in f:\n",
    "    print(line)\n",
    "\n",
    "f.close()"
   ]
  },
  {
   "cell_type": "markdown",
   "metadata": {},
   "source": [
    "### Exercise 1\n",
    "Write a function *number_of_lines(filename)* that takes file name as paramenter and returns the number of lines in this file  \n",
    "\n",
    "Run this function for 3 files on your hard drive (use text files and not binary files for this)  \n",
    "Output of your programm should be:  \n",
    "\n",
    "``file_name1: has X lines``   \n",
    "``file_name2: has Y lines``  \n",
    "``file_name3: has Z lines``"
   ]
  },
  {
   "cell_type": "code",
   "execution_count": 2,
   "metadata": {},
   "outputs": [
    {
     "name": "stdout",
     "output_type": "stream",
     "text": [
      "test.txt: has 5 lines\n",
      "test2.txt: has 9 lines\n",
      "test3.txt: has 3 lines\n"
     ]
    }
   ],
   "source": [
    "def number_of_lines(filename):\n",
    "    f = open(filename, 'r')\n",
    "    \n",
    "    result = 0\n",
    "    for _ in f:\n",
    "        result += 1\n",
    "        \n",
    "    f.close()\n",
    "    return result\n",
    "\n",
    "print( 'test.txt: has ' + str(number_of_lines('test.txt')) + ' lines')\n",
    "print( 'test2.txt: has ' + str(number_of_lines('test2.txt')) + ' lines')\n",
    "print( 'test3.txt: has ' + str(number_of_lines('test3.txt')) + ' lines')\n",
    "        "
   ]
  },
  {
   "cell_type": "markdown",
   "metadata": {},
   "source": [
    "### Execise 2\n",
    "Write a programm which gets a filename from the user, and writes content of this file to another file on the hard drive adding number of the line to each line.\n",
    "\n",
    "Given file *test.txt*:  \n",
    "``\n",
    "first line\n",
    "second line\n",
    "third line\n",
    "``\n",
    "\n",
    "it should create a new file *test_numbered.txt* , which contains:  \n",
    "``\n",
    "1: first line\n",
    "2: second line\n",
    "3: third line\n",
    "``"
   ]
  },
  {
   "cell_type": "code",
   "execution_count": 23,
   "metadata": {},
   "outputs": [
    {
     "name": "stdout",
     "output_type": "stream",
     "text": [
      "Please enter the filename:test3.txt\n",
      "input file: test3.txt\n",
      "output file: test3_numbered.txt\n"
     ]
    }
   ],
   "source": [
    "def get_output_filename(input_file_name):\n",
    "    tmp_list= input_file_name.split('.')\n",
    "    tmp_list[0] += '_numbered'\n",
    "    result = '.'.join(tmp_list)    \n",
    "    return result\n",
    "\n",
    "\n",
    "filename = input('Please enter the filename:')\n",
    "\n",
    "print('input file: ' + filename)\n",
    "print('output file: ' + get_output_filename(filename))\n",
    "\n",
    "f_input = open( filename, 'r' )\n",
    "f_output = open( get_output_filename(filename), 'w')\n",
    "\n",
    "line_cnt = 0\n",
    "\n",
    "for line in f_input:\n",
    "    line_cnt += 1\n",
    "    output_line = str(line_cnt) + ':' + line\n",
    "#    print(output_line)\n",
    "    f_output.write( output_line )\n",
    "    \n",
    "\n",
    "f_input.close()\n",
    "f_output.close()"
   ]
  }
 ],
 "metadata": {
  "kernelspec": {
   "display_name": "Python 3",
   "language": "python",
   "name": "python3"
  },
  "language_info": {
   "codemirror_mode": {
    "name": "ipython",
    "version": 3
   },
   "file_extension": ".py",
   "mimetype": "text/x-python",
   "name": "python",
   "nbconvert_exporter": "python",
   "pygments_lexer": "ipython3",
   "version": "3.5.2+"
  }
 },
 "nbformat": 4,
 "nbformat_minor": 2
}
