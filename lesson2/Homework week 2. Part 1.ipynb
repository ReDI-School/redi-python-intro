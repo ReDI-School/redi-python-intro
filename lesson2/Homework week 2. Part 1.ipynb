{
 "cells": [
  {
   "cell_type": "markdown",
   "metadata": {},
   "source": [
    "###  Homework\n",
    "#### Exercise 1 \n",
    "\n",
    "- Given the width and height of rectangle, calculate either perimeter or area (ask the user!)\n",
    "- Hints:\n",
    "    - perimeter = 2 X (length + width)\n",
    "    - area = length X width\n",
    " \n",
    "\n",
    "#### Exercise 2\n",
    "\n",
    "Using **input** get the first name and then the last name of the user and save that in two variables\n",
    "Then ask the user in which order they want to print that. **1** for first name, last name, **2** for last name, first name\n",
    "\n",
    "Depending on the user's input print the full name in the correct order in the following way:\n",
    "- if user chose to show first name first:  \n",
    "*\"Your first name is X and your last name is Y\"*\n",
    "\n",
    "- if user chose to show last name first:  \n",
    "*\"Your last name is Y and your first name is X\"*"
   ]
  },
  {
   "cell_type": "code",
   "execution_count": 15,
   "metadata": {
    "ExecuteTime": {
     "end_time": "2018-02-22T18:16:42.023417Z",
     "start_time": "2018-02-22T18:16:37.469625Z"
    }
   },
   "outputs": [
    {
     "name": "stdout",
     "output_type": "stream",
     "text": [
      "what is the width?2\n",
      "what is the height?4\n",
      "what do you prefer? 1 for perimeter, 2 for area2\n"
     ]
    }
   ],
   "source": [
    "width = float(input('what is the width?'))\n",
    "height = float(input('what is the height?'))\n",
    "choice = input('what do you prefer? 1 for perimeter, 2 for area')\n",
    "\n",
    "if choice == '1':\n",
    "    print(\"Here is the perimeter:\")\n",
    "    perimeter = 2 * (width + height)\n",
    "    print(perimeter)\n",
    "if choice == 2:  \n",
    "    print(\"and here is the area:\")\n",
    "    area = width * height\n",
    "    print(area)"
   ]
  }
 ],
 "metadata": {
  "kernelspec": {
   "display_name": "Python 3",
   "language": "python",
   "name": "python3"
  },
  "language_info": {
   "codemirror_mode": {
    "name": "ipython",
    "version": 3
   },
   "file_extension": ".py",
   "mimetype": "text/x-python",
   "name": "python",
   "nbconvert_exporter": "python",
   "pygments_lexer": "ipython3",
   "version": "3.6.4"
  }
 },
 "nbformat": 4,
 "nbformat_minor": 2
}
