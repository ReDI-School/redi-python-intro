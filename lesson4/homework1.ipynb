{
 "cells": [
  {
   "cell_type": "markdown",
   "metadata": {},
   "source": [
    "### Exercise 1 - Multiply every number in the list by 2\n",
    "\n",
    "Write a program that takes a list as an input and multiplies every number in the list by 2\n",
    "\n",
    "Example:\n",
    "    - a = [1,2,3,4], output = [2,4,6,8]\n",
    "\n",
    "Hint: to take a list from user as input:\n",
    "    - Python 2 : list_numbers = input('Enter a list of numbers ')\n",
    "    - Python 3 : list_numbers = eval(input('Enter a list of numbers'))"
   ]
  },
  {
   "cell_type": "code",
   "execution_count": 3,
   "metadata": {},
   "outputs": [
    {
     "name": "stdout",
     "output_type": "stream",
     "text": [
      "Please enter the list of numbers, separated by commas:1,2,3,4,5\n",
      "[2, 4, 6, 8, 10]\n"
     ]
    }
   ],
   "source": [
    "input_list = input('Please enter the list of numbers, separated by commas:')\n",
    "# python 3 input_list = eval(input('Please enter the list of numbers, separated by commas:'))\n",
    "result_list = []\n",
    "\n",
    "for num in input_list:\n",
    "     # another way: result_list += [num * 2] \n",
    "    result_list.append(num*2)   \n",
    "print(result_list)"
   ]
  },
  {
   "cell_type": "markdown",
   "metadata": {},
   "source": [
    "### Exercise 2 - number is in list or not?\n",
    "Write a program that takes as input a list of numbers and then a number. If the list of numbers contains this number print 'exists' otherwise print 'doesn't exist'.\n",
    "\n",
    "Example:\n",
    "    - a = [1,2,3,4], element = 4, output => exists\n",
    "    - b = [1,5,3,4], element = 2, output => doesn't exist"
   ]
  },
  {
   "cell_type": "code",
   "execution_count": 5,
   "metadata": {},
   "outputs": [
    {
     "name": "stdout",
     "output_type": "stream",
     "text": [
      "Please enter a list of numbers, separated by comma:1,2,3,4,5\n",
      "Please enter an integer to search in this list:2\n",
      "----------------------------------------------\n",
      "num=1\n",
      "element=2\n",
      "is num equal to element? False\n",
      "element_found=False\n",
      "----------------------------------------------\n",
      "num=2\n",
      "element=2\n",
      "is num equal to element? True\n",
      "element_found=True\n",
      "----------------------------------------------\n",
      "num=3\n",
      "element=2\n",
      "is num equal to element? False\n",
      "element_found=True\n",
      "----------------------------------------------\n",
      "num=4\n",
      "element=2\n",
      "is num equal to element? False\n",
      "element_found=True\n",
      "----------------------------------------------\n",
      "num=5\n",
      "element=2\n",
      "is num equal to element? False\n",
      "element_found=True\n",
      "exists\n"
     ]
    }
   ],
   "source": [
    "input_list = input('Please enter a list of numbers, separated by comma:')\n",
    "element = input('Please enter an integer to search in this list:')\n",
    "\n",
    "element_found = False\n",
    "\n",
    "for num in input_list:\n",
    "    print('----------------------------------------------')\n",
    "    print('num=' + str(num))\n",
    "    print('element=' + str(element))\n",
    "    print('is num equal to element? ' + str(num==element))\n",
    "    if num == element:\n",
    "        element_found = True\n",
    "    print('element_found=' + str(element_found))\n",
    "\n",
    "if element_found:\n",
    "    print('exists')\n",
    "else:\n",
    "    print(\"doesn't exist\")"
   ]
  },
  {
   "cell_type": "markdown",
   "metadata": {},
   "source": [
    "### Exercise 3 - Check if a string is a palindrome\n",
    "\n",
    "Write a program that takes as input a string and checks whether it is a palindrome or not.\n",
    "\n",
    "According to wikipedia \"A palindrome is a word, phrase, number, or other sequence of characters which reads the same backward as forward\"\n",
    "\n",
    "Example:\n",
    "    - input= 'madam', output = 'palindrome'\n",
    "    - input = 'hello', output = 'not palindrome'\n",
    "    - input = 'lol', output = 'palindrome'\n",
    "Hint: You can use the reverse function\n"
   ]
  },
  {
   "cell_type": "markdown",
   "metadata": {},
   "source": [
    "### Using reverse"
   ]
  },
  {
   "cell_type": "code",
   "execution_count": 6,
   "metadata": {},
   "outputs": [
    {
     "name": "stdout",
     "output_type": "stream",
     "text": [
      "Enter a string to check\n",
      "madam\n",
      "palindrome\n"
     ]
    }
   ],
   "source": [
    "text = raw_input('Enter a string to check\\n')\n",
    "\n",
    "\n",
    "\n",
    "reverse = ''\n",
    "\n",
    "index = len(text) - 1\n",
    "while index >= 0:\n",
    "    reverse = reverse + text[index]\n",
    "    index = index - 1\n",
    "#print(reverse)\n",
    "\n",
    "\n",
    "if(text == reverse):\n",
    "    print('palindrome')\n",
    "else:\n",
    "    print('not palindrome')\n",
    "    \n",
    "    "
   ]
  },
  {
   "cell_type": "markdown",
   "metadata": {},
   "source": [
    "### Without using reverse"
   ]
  },
  {
   "cell_type": "code",
   "execution_count": 14,
   "metadata": {},
   "outputs": [
    {
     "name": "stdout",
     "output_type": "stream",
     "text": [
      "Enter a string to check\n",
      "\n",
      "palindrome\n"
     ]
    }
   ],
   "source": [
    "\n",
    "\n",
    "text = raw_input('Enter a string to check\\n')\n",
    "\n",
    "start_index = 0\n",
    "end_index = len(text) - 1\n",
    "\n",
    "flag = True\n",
    "while(start_index < end_index ):\n",
    "    if(text[start_index] != text[end_index]):\n",
    "        flag = False\n",
    "    start_index = start_index + 1\n",
    "    end_index = end_index - 1\n",
    "\n",
    "if(flag == True):\n",
    "    print('palindrome')\n",
    "else:\n",
    "    print('not palindrome')\n",
    "\n",
    "\n"
   ]
  },
  {
   "cell_type": "markdown",
   "metadata": {},
   "source": [
    "### Exercise 4 - Print a pyramid\n",
    "\n",
    "- Take as input a number n from user and print a pyramid shape with base n.\n",
    "\n",
    "- Example:\n",
    "        input = 2\n",
    "        outputs:\n",
    "        *\n",
    "        **\n",
    "        \n",
    "        input = 3\n",
    "        outputs:\n",
    "        *\n",
    "        **\n",
    "        ***\n",
    "        \n",
    "        input = 5\n",
    "        outputs:\n",
    "        *\n",
    "        **\n",
    "        ***\n",
    "        ****\n",
    "        *****\n",
    "\n"
   ]
  },
  {
   "cell_type": "code",
   "execution_count": 11,
   "metadata": {},
   "outputs": [
    {
     "name": "stdout",
     "output_type": "stream",
     "text": [
      "Enter size of base of pyrimad 5\n",
      "*\n",
      "**\n",
      "***\n",
      "****\n",
      "*****\n"
     ]
    }
   ],
   "source": [
    "# First way\n",
    "n = input('Enter size of base of pyrimad ')\n",
    "\n",
    "i = 1\n",
    "\n",
    "while i <= n:\n",
    "    print(\"*\"*i)\n",
    "    i += 1\n"
   ]
  },
  {
   "cell_type": "code",
   "execution_count": 17,
   "metadata": {},
   "outputs": [
    {
     "name": "stdout",
     "output_type": "stream",
     "text": [
      "Enter size of base of pyrimad 5\n",
      "*\n",
      "**\n",
      "***\n",
      "****\n",
      "*****\n",
      "\n"
     ]
    }
   ],
   "source": [
    "# Second way:\n",
    "\n",
    "n = input('Enter size of base of pyrimad ')\n",
    "\n",
    "row = 1\n",
    "\n",
    "pyramid = ''\n",
    "while row <= n:\n",
    "    column = 1\n",
    "    line = ''\n",
    "    while column <= row:\n",
    "        line += '*'\n",
    "        column += 1\n",
    "    pyramid  = pyramid + line + '\\n'\n",
    "    row += 1\n",
    "\n",
    "print(pyramid) \n",
    "    \n",
    "    "
   ]
  },
  {
   "cell_type": "code",
   "execution_count": null,
   "metadata": {
    "collapsed": true
   },
   "outputs": [],
   "source": []
  }
 ],
 "metadata": {
  "kernelspec": {
   "display_name": "Python 2.7",
   "language": "python",
   "name": "env27"
  },
  "language_info": {
   "codemirror_mode": {
    "name": "ipython",
    "version": 2
   },
   "file_extension": ".py",
   "mimetype": "text/x-python",
   "name": "python",
   "nbconvert_exporter": "python",
   "pygments_lexer": "ipython2",
   "version": "2.7.13"
  }
 },
 "nbformat": 4,
 "nbformat_minor": 2
}
