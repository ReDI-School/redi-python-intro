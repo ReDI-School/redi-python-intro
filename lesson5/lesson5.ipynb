{
 "cells": [
  {
   "cell_type": "markdown",
   "metadata": {
    "slideshow": {
     "slide_type": "slide"
    }
   },
   "source": [
    "## Lecture 5 -  Functions\n",
    "\n",
    "- Builtin Functions\n",
    "- User-defined functions, and why use them?\n",
    "- Writing your first function\n",
    "- Variables' Scope  & functions\n",
    "- Other functions - Python Standard Library \n",
    "\n"
   ]
  },
  {
   "cell_type": "markdown",
   "metadata": {
    "slideshow": {
     "slide_type": "slide"
    }
   },
   "source": [
    "### What is a function?\n",
    "        x = input() ##input is a function\n",
    "        print('hello world') ## hello world is a function\n",
    "        type(x) ## type is a function\n",
    "        num = int(\"1000\") ## converts string to integer\n",
    "        num = float(\"7.12\") ## converts string to float\n",
    "        \n",
    "        "
   ]
  },
  {
   "cell_type": "markdown",
   "metadata": {
    "slideshow": {
     "slide_type": "slide"
    }
   },
   "source": [
    "### Python documentation\n",
    "\n",
    "- You can find useful bulitin functions to use\n",
    "- Builtin  functions for Python 3: https://docs.python.org/3.6/library/functions.html\n",
    "- Some programming terminology:\n",
    "    - When we use a function e.g. type(100), we refer to this as **function call** and we refer to input 100 to be **argument**\n",
    "    - a function can have more than one argument\n",
    "\n",
    "<img src='images/builtin_functions.png'/>"
   ]
  },
  {
   "cell_type": "code",
   "execution_count": 15,
   "metadata": {
    "slideshow": {
     "slide_type": "slide"
    }
   },
   "outputs": [
    {
     "name": "stdout",
     "output_type": "stream",
     "text": [
      "x: 15 y: 25 z: 12\n"
     ]
    }
   ],
   "source": [
    "##useful numeric operations\n",
    "\n",
    "x = abs(-15)\n",
    "y = pow(5,2) ##same as x`\n",
    "z = round(12.5)\n",
    "print ('x:', x, 'y:', y, 'z:',z)"
   ]
  },
  {
   "cell_type": "code",
   "execution_count": 43,
   "metadata": {},
   "outputs": [
    {
     "name": "stdout",
     "output_type": "stream",
     "text": [
      "Help on built-in function abs in module __builtin__:\n",
      "\n",
      "abs(...)\n",
      "    abs(number) -> number\n",
      "    \n",
      "    Return the absolute value of the argument.\n",
      "\n"
     ]
    }
   ],
   "source": [
    "help(abs)"
   ]
  },
  {
   "cell_type": "code",
   "execution_count": 16,
   "metadata": {
    "slideshow": {
     "slide_type": "slide"
    }
   },
   "outputs": [
    {
     "name": "stdout",
     "output_type": "stream",
     "text": [
      "Array's maximum: 10 , minimum: 2 , sum: 19 , No. of elements: 4\n"
     ]
    }
   ],
   "source": [
    "### Useful builtin array functions in python\n",
    "\n",
    "num_arr = [10,2,3,4]\n",
    "max_number = max(num_arr)\n",
    "min_number = min(num_arr)\n",
    "no_elements = len(num_arr)\n",
    "total = sum(num_arr)\n",
    "print ('Array\\'s maximum:', max_number,\n",
    "       ', minimum:', min_number,\n",
    "       ', sum:',total,\n",
    "       ', No. of elements:', no_elements)"
   ]
  },
  {
   "cell_type": "markdown",
   "metadata": {
    "slideshow": {
     "slide_type": "slide"
    }
   },
   "source": [
    "### What is wrong with this code?\n",
    "        \n",
    "\n",
    "        \n",
    "        "
   ]
  },
  {
   "cell_type": "code",
   "execution_count": 13,
   "metadata": {
    "slideshow": {
     "slide_type": "slide"
    }
   },
   "outputs": [
    {
     "name": "stdout",
     "output_type": "stream",
     "text": [
      "Areas: 314.0 78.5\n",
      "Circumference: 62.8 31.4 125.60000000000001\n"
     ]
    }
   ],
   "source": [
    "radius1 = 10\n",
    "radius2 = 5\n",
    "radius3 = 20\n",
    "pi = 3.14\n",
    "\n",
    "def calculate_area(pi, radius):\n",
    "    area = pi * pow(radius, 2)\n",
    "    return area\n",
    "    \n",
    "    \n",
    "area1 = calculate_area(pi, radius1)\n",
    "area2 = pi * radius2 * radius2\n",
    "area3 = pi * radius3 * radius3\n",
    "\n",
    "\n",
    "print ('Areas:', area1, area2 )\n",
    "\n",
    "def calculate_circumference(pi, radius):\n",
    "    return round(2 * pi * radius, 2)\n",
    "\n",
    "circumference1 = round(2 * pi * radius1, 2)\n",
    "circumference2 = calculate_circumference(pi, radius2)\n",
    "circumference3 = 2 * pi * radius3\n",
    "\n",
    "print ('Circumference:', circumference1, circumference2, circumference3)\n",
    "\n"
   ]
  },
  {
   "cell_type": "code",
   "execution_count": 11,
   "metadata": {},
   "outputs": [
    {
     "name": "stdout",
     "output_type": "stream",
     "text": [
      "452.16\n"
     ]
    }
   ],
   "source": [
    "def calculate_area(pi, radius):\n",
    "    return pi * pow(radius, 2)\n",
    "    \n",
    "    \n",
    "    \n",
    "print(calculate_area(3.14, 12))\n"
   ]
  },
  {
   "cell_type": "markdown",
   "metadata": {
    "slideshow": {
     "slide_type": "slide"
    }
   },
   "source": [
    "### User-defined functions\n",
    "\n",
    "- Aside from the builtin functions, you can define your own functions.\n",
    "- Why is that useful?\n",
    "    - More structured code => better readability\n",
    "    - Reusing programs\n",
    "    - abstraction => allows you to focus on performing one task at a time\n",
    "    \n",
    "- Syntax: \n",
    "```python\n",
    "def func_name(argument1, argument2,...):\n",
    "    # function operators\n",
    "    return output # optional\n",
    "```"
   ]
  },
  {
   "cell_type": "code",
   "execution_count": 20,
   "metadata": {
    "slideshow": {
     "slide_type": "slide"
    }
   },
   "outputs": [
    {
     "name": "stdout",
     "output_type": "stream",
     "text": [
      "Areas: 133.45000000000002 78.5\n"
     ]
    }
   ],
   "source": [
    "pi = 3.14\n",
    "\n",
    "def calculate_area(radius_in, radius_out = 4.25):\n",
    "    area = pi * radius_in * radius_out\n",
    "    return area\n",
    "\n",
    "radius1 = 10\n",
    "radius2  = 5\n",
    "\n",
    "area1 = calculate_area(radius_in=radius1)\n",
    "area2 =  calculate_area(radius2, radius2)\n",
    "\n",
    "print ('Areas:', area1, area2)\n"
   ]
  },
  {
   "cell_type": "code",
   "execution_count": 44,
   "metadata": {
    "slideshow": {
     "slide_type": "slide"
    }
   },
   "outputs": [
    {
     "name": "stdout",
     "output_type": "stream",
     "text": [
      "Help on function calculate_area in module __main__:\n",
      "\n",
      "calculate_area(radius)\n",
      "    number -> number\n",
      "    Return area of circle given the radius as input.\n",
      "\n"
     ]
    }
   ],
   "source": [
    "def calculate_area(radius):\n",
    "    ''' number -> number\n",
    "        Return area of circle given the radius as input.\n",
    "    '''\n",
    "    area = pi * radius * radius\n",
    "    return area\n",
    "\n",
    "\n",
    "help(calculate_area)\n"
   ]
  },
  {
   "cell_type": "markdown",
   "metadata": {
    "slideshow": {
     "slide_type": "slide"
    }
   },
   "source": [
    "### Example 1\n",
    "\n",
    "- In website movie-fans, each user gives a rating to a movie (0-5 stars). The overall rating of movie is considered to be the average of all the ratings from all users.\n",
    "\n",
    "Part 1\n",
    "- Write a function *calculate\\_rating* that calculates the  overall movie rating:  \n",
    "  Example:\n",
    "```python\n",
    "inception_ratings = [4, 5, 3, 5, 2, 5, 5, 4, 3, 5]\n",
    "calculate_rating(inception_ratings)\n",
    "4.1\n",
    "```\n",
    "\n",
    "Part 2\n",
    "- Write a function *get\\_better\\_movie* that given two movie ratings, returns the movie with best overall rating  \n",
    "Example:\n",
    "```python\n",
    "inception_ratings = [4,5,3,5,2,5,5,4,3,5]\n",
    "departed_ratings = [5,5,5,5,5,3,2,4,5,4]\n",
    "get_better_movie(inception_ratings, departed_ratings)\n",
    "\"Second Movie\"\n",
    "```       "
   ]
  },
  {
   "cell_type": "code",
   "execution_count": 3,
   "metadata": {},
   "outputs": [
    {
     "name": "stdout",
     "output_type": "stream",
     "text": [
      "4.1\n",
      "Movie 2\n"
     ]
    }
   ],
   "source": [
    "### Part 1\n",
    "def calculate_rating(movie_ratings):\n",
    "    overall_rating = sum(movie_ratings)/float(len(movie_ratings))\n",
    "    return overall_rating\n",
    "\n",
    "def get_better_movie(rating_list1, rating_list2):\n",
    "    overall_rating1 = calculate_rating(rating_list1)\n",
    "    overall_rating2 = calculate_rating(rating_list2)\n",
    "    if(overall_rating1 == overall_rating2):\n",
    "        return 'Both have same overall rating'\n",
    "    elif overall_rating1 > overall_rating2:\n",
    "        return 'Movie 1'\n",
    "    else:\n",
    "        return 'Movie 2'\n",
    "    \n",
    "\n",
    "inception_ratings = [4,5,3,5,2,5,5,4,3,5]\n",
    "print(calculate_rating(inception_ratings))\n",
    "\n",
    "departed_ratings = [5,5,5,5,5,3,2,4,5,4]\n",
    "print(get_better_movie(inception_ratings, departed_ratings))\n",
    "\n"
   ]
  },
  {
   "cell_type": "markdown",
   "metadata": {},
   "source": [
    "### Using functions from another file:\n",
    "\n",
    "\n",
    "<img src =\"images/calling_functions2.png\"/>\n",
    "\n"
   ]
  },
  {
   "cell_type": "markdown",
   "metadata": {
    "slideshow": {
     "slide_type": "slide"
    }
   },
   "source": [
    "### Other functions - Python Standard Library\n",
    "\n",
    "\n",
    "- More functions are available here: https://docs.python.org/3.6/library/index.html\n",
    "- Functions that are not built in needs to be imported\n",
    "\n",
    "- Examples:\n",
    "    - Math functions : https://docs.python.org/3.6/library/math.html\n",
    "    - Web browser : https://docs.python.org/3.6/library/webbrowser.html"
   ]
  },
  {
   "cell_type": "code",
   "execution_count": 21,
   "metadata": {
    "slideshow": {
     "slide_type": "slide"
    }
   },
   "outputs": [
    {
     "name": "stdout",
     "output_type": "stream",
     "text": [
      "2\n"
     ]
    }
   ],
   "source": [
    "import math\n",
    "c = math.ceil(1.5)\n",
    "print(c)"
   ]
  },
  {
   "cell_type": "code",
   "execution_count": 1,
   "metadata": {
    "slideshow": {
     "slide_type": "slide"
    }
   },
   "outputs": [
    {
     "data": {
      "text/plain": [
       "True"
      ]
     },
     "execution_count": 1,
     "metadata": {},
     "output_type": "execute_result"
    }
   ],
   "source": [
    "import webbrowser\n",
    "webbrowser.open(\"https://www.youtube.com\")"
   ]
  },
  {
   "cell_type": "markdown",
   "metadata": {
    "slideshow": {
     "slide_type": "slide"
    }
   },
   "source": [
    "### Variables' scope & functions\n",
    "```python\n",
    "def dummy_func():\n",
    "    x = 10\n",
    "    print(\"Value inside function:\",x)\n",
    "x = 20\n",
    "dummy_func()\n",
    "print(\"Value outside function:\",x)\n",
    "```        \n",
    "- Variables defined in a function are not visible from outside\n"
   ]
  },
  {
   "cell_type": "markdown",
   "metadata": {
    "slideshow": {
     "slide_type": "slide"
    }
   },
   "source": [
    "### Homework\n",
    "\n",
    "#### Example 1\n",
    "\n",
    "- In Twitter, users can write tweets up to 140 characters long. While a user is writing a tweet, twitter informs them of no. of characters left, when they exceed the 140, it starts counting in negative.\n",
    "- Write a function remaining_chars(tweet) that prints such a number to user\n",
    "\n",
    "- Example\n",
    "```python\n",
    "remaining_chars(\"Good morning twitter\")\n",
    "120\n",
    "remaining_chars(\"\")\n",
    "140\n",
    "remaining_chars(\"Space is big. You just won't believe how vastly, hugely, mind-bogglingly big it is. I mean, you may think it's a long way down the road to the chemist's, but that's just peanuts to space.\")\n",
    "-47\n",
    "```        \n",
    "- Hint: function **len** can be used to return no. of characters in a string\n",
    "```python\n",
    "len(\"hi\")\n",
    "2\n",
    "``` "
   ]
  }
 ],
 "metadata": {
  "celltoolbar": "Slideshow",
  "kernelspec": {
   "display_name": "Python 3",
   "language": "python",
   "name": "python3"
  },
  "language_info": {
   "codemirror_mode": {
    "name": "ipython",
    "version": 3
   },
   "file_extension": ".py",
   "mimetype": "text/x-python",
   "name": "python",
   "nbconvert_exporter": "python",
   "pygments_lexer": "ipython3",
   "version": "3.6.3"
  }
 },
 "nbformat": 4,
 "nbformat_minor": 2
}
