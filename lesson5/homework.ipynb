{
 "cells": [
  {
   "cell_type": "markdown",
   "metadata": {},
   "source": [
    "### Homework"
   ]
  },
  {
   "cell_type": "markdown",
   "metadata": {},
   "source": [
    "### Exercise 1\n",
    "\n",
    "Write a function that takes as input temparature in celsius °C and converts it to fahrenheit °F.\n",
    "\n",
    "Hint:\n",
    "The formula used to convert from celsius to fahrenheit T(°F) = T(°C) × 9/5 + 32\n",
    "\n",
    "Examples:\n",
    "    \n",
    "    - input = 40, output = 104\n",
    "    - input = 28, output = 82.5\n",
    "\n"
   ]
  },
  {
   "cell_type": "code",
   "execution_count": 2,
   "metadata": {},
   "outputs": [
    {
     "name": "stdout",
     "output_type": "stream",
     "text": [
      "104.0\n"
     ]
    }
   ],
   "source": [
    "def celsius_to_fahrenheit(celsius_temp):\n",
    "    fahrenheit_temp = celsius_temp * 9/5.0 + 32\n",
    "    return fahrenheit_temp\n",
    "\n",
    "result = celsius_to_fahrenheit(40)\n",
    "print(result)\n"
   ]
  },
  {
   "cell_type": "markdown",
   "metadata": {},
   "source": [
    "### Exercise 2\n",
    "\n",
    "Write a function that a number n as input and it prints all numbers from 1 till n on one line.\n",
    "\n",
    "Example:\n",
    "    - input = 5, output displayed:\n",
    "     1 2 3 4 5\n",
    "    - input = 3, output displayed:\n",
    "     1 2 3"
   ]
  },
  {
   "cell_type": "code",
   "execution_count": 3,
   "metadata": {},
   "outputs": [
    {
     "name": "stdout",
     "output_type": "stream",
     "text": [
      " 1 2 3 4 5\n"
     ]
    }
   ],
   "source": [
    "def print_number_line(n):\n",
    "    i = 1\n",
    "    text = \"\"\n",
    "    while i<=n:\n",
    "        #print(i)\n",
    "        text = text + \" \" +str(i)\n",
    "        i += 1\n",
    "    return text\n",
    "\n",
    "result_text = print_number_line(5)\n",
    "\n",
    "print(result_text)"
   ]
  },
  {
   "cell_type": "markdown",
   "metadata": {},
   "source": [
    "### Exercise 3\n",
    "\n",
    "Write a function that takes as input a list of strings and it returns the longest string\n",
    "\n",
    "Example:\n",
    "    - input =['hello', 'check', 'amazing'], output = 'amazing'\n",
    "    - input = ['lol', 'wow', 'great'], output = 'great'"
   ]
  },
  {
   "cell_type": "markdown",
   "metadata": {},
   "source": [
    "### Exercise 4\n",
    "Write a function that takes a number n as input and prints a pyramid of numbers as the examples below.\n",
    "\n",
    "Example:\n",
    "    - input = 2, output displayed:\n",
    "    1\n",
    "    1 2\n",
    "    - input = 5, output displayed:\n",
    "    1\n",
    "    1 2\n",
    "    1 2 3\n",
    "    1 2 3 4\n",
    "    1 2 3 4 5\n",
    "Hint:\n",
    "you can use the function in exercise 2"
   ]
  },
  {
   "cell_type": "code",
   "execution_count": null,
   "metadata": {
    "collapsed": true
   },
   "outputs": [],
   "source": []
  }
 ],
 "metadata": {
  "kernelspec": {
   "display_name": "Python 2.7",
   "language": "python",
   "name": "env27"
  },
  "language_info": {
   "codemirror_mode": {
    "name": "ipython",
    "version": 2
   },
   "file_extension": ".py",
   "mimetype": "text/x-python",
   "name": "python",
   "nbconvert_exporter": "python",
   "pygments_lexer": "ipython2",
   "version": "2.7.13"
  }
 },
 "nbformat": 4,
 "nbformat_minor": 2
}
