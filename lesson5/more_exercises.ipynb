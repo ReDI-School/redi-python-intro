{
 "cells": [
  {
   "cell_type": "markdown",
   "metadata": {},
   "source": [
    "\n",
    "### Exercice 1\n",
    "\n",
    "We have stored in a list the results of different football matches for our favorite team.\n",
    "We would like to write a function that calculates the number of points that the team has at the end of all the matches. \n",
    "\n",
    "W = WIN => 3 points\n",
    "D = DRAW => 1 point\n",
    "L = LOSS => 0 points\n",
    "\n",
    "man_united_results = ['W', 'D', 'W', 'L', 'W', 'D', 'D', 'D']\n",
    "\n",
    "The function should return 13 points"
   ]
  },
  {
   "cell_type": "code",
   "execution_count": 1,
   "metadata": {},
   "outputs": [
    {
     "name": "stdout",
     "output_type": "stream",
     "text": [
      "('Score for the team is', 13, 'points')\n"
     ]
    }
   ],
   "source": [
    "\n",
    "def calculate_score(score_list):\n",
    "    total_score = 0\n",
    "    for game in score_list:\n",
    "        if game == 'W':\n",
    "            total_score = total_score +3\n",
    "        elif game == 'D':\n",
    "            total_score = total_score + 1\n",
    "    return total_score\n",
    "\n",
    "man_united_results = ['W', 'D', 'W', 'L', 'W', 'D', 'D', 'D']\n",
    "score = calculate_score(man_united_results)\n",
    "print('Score for the team is',score, 'points')\n",
    "\n",
    "\n"
   ]
  },
  {
   "cell_type": "markdown",
   "metadata": {},
   "source": [
    "### Exercise 3\n",
    "\n",
    "Write a function that takes two lists at inputs and returns a list that sums the two input lists (element wise). Assume two input lists are of the same size\n",
    "\n",
    "Example:\n",
    "     - List 1: [1,2,3] - List 2 = [5,6,7], output = [6, 8, 10]\n",
    "     so it sums 1st element from 1st list  with 1st element and 2nd element with 2nd element, and so on\n",
    "    "
   ]
  },
  {
   "cell_type": "markdown",
   "metadata": {},
   "source": [
    "### Exercise 4\n",
    "\n",
    "Write a function that takes two lists at inputs and returns a list that zips the two lists together. Assume two input lists are of the same size\n",
    "\n",
    "Example:\n",
    "     - List 1: [1,2,3] - List 2 = [5,6,7], output = [1,5,2,6,3,7]\n",
    "     "
   ]
  },
  {
   "cell_type": "markdown",
   "metadata": {},
   "source": []
  }
 ],
 "metadata": {
  "kernelspec": {
   "display_name": "Python 2.7",
   "language": "python",
   "name": "env27"
  },
  "language_info": {
   "codemirror_mode": {
    "name": "ipython",
    "version": 2
   },
   "file_extension": ".py",
   "mimetype": "text/x-python",
   "name": "python",
   "nbconvert_exporter": "python",
   "pygments_lexer": "ipython2",
   "version": "2.7.13"
  }
 },
 "nbformat": 4,
 "nbformat_minor": 2
}
