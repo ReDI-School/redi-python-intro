{
 "cells": [
  {
   "cell_type": "markdown",
   "metadata": {},
   "source": [
    "### Exercise 1  - Biggest of two numbers - Are these programs equivalent? Why"
   ]
  },
  {
   "cell_type": "code",
   "execution_count": null,
   "metadata": {},
   "outputs": [],
   "source": [
    "### program 1\n",
    "\n",
    "x = 10\n",
    "y = 5\n",
    "if(x > y):\n",
    "    print('x is bigger')\n",
    "elif (y < x):\n",
    "    print('y is bigger')\n",
    "else:\n",
    "    print('equal')\n",
    "    "
   ]
  },
  {
   "cell_type": "code",
   "execution_count": null,
   "metadata": {
    "collapsed": true
   },
   "outputs": [],
   "source": [
    "### program 2\n",
    "x = 10\n",
    "y = 5\n",
    "if (x = y):\n",
    "    print('equal')\n",
    "elif(x > y):\n",
    "    print('x is bigger')\n",
    "else:\n",
    "    print('y is bigger')\n"
   ]
  },
  {
   "cell_type": "code",
   "execution_count": null,
   "metadata": {
    "collapsed": true
   },
   "outputs": [],
   "source": [
    "## program 3\n",
    "diff = x - y\n",
    "if (diff == 0):\n",
    "    print('equal')\n",
    "elif(diff > 0):\n",
    "    print('x is bigger')\n",
    "else:\n",
    "    print('y is bigger')\n"
   ]
  },
  {
   "cell_type": "markdown",
   "metadata": {},
   "source": [
    "### Answer\n",
    "\n",
    "- Problem 3 is correct.\n",
    "- Program 1's first and second condition are actually the same, the variables are just swapped, they both check that y is less than x. So if y is bigger than x, the program will print 'equal'. if we change the second condition to be \"y>x\" instead of \"y<x\" , the program will be correct\n",
    "- Pogram 2 has a syntax error in the first if condition , we use \"==\" for comparing equality and one \"=\" to do assignment.\n"
   ]
  },
  {
   "cell_type": "markdown",
   "metadata": {},
   "source": [
    "### Exercise 2 - Absolute number\n",
    "\n",
    "Write a program that calculates the absolute value of a number\n",
    "\n",
    "Example:\n",
    "    - num = 10, output = 10\n",
    "    - num = -10, output = 10\n",
    "    \n",
    "(the absolute of a positive number is just the same number, the absolute of negative number is the positive version of number)\n",
    "    \n",
    "\n"
   ]
  },
  {
   "cell_type": "code",
   "execution_count": 1,
   "metadata": {},
   "outputs": [
    {
     "name": "stdout",
     "output_type": "stream",
     "text": [
      "Enter a number10\n",
      "10\n"
     ]
    }
   ],
   "source": [
    "## Answer\n",
    "num = input('Enter a number')\n",
    "\n",
    "if(num >= 0):\n",
    "    print(num)\n",
    "else:\n",
    "    print(-1*num)\n",
    "\n"
   ]
  },
  {
   "cell_type": "markdown",
   "metadata": {},
   "source": [
    "### Exercise 3 - Repeat the text\n",
    "\n",
    "write a program which takes as input text and a number n, and prints out the text repeated n times\n",
    "\n",
    "Example:\n",
    "    - text = 'hello', n = 3, outputs => hello hello hello\n",
    "    - text= 'hi', n = 2, outputs => hi hi\n",
    "Hint:\n",
    " Check string operations from last lecture\n",
    "    "
   ]
  },
  {
   "cell_type": "code",
   "execution_count": 3,
   "metadata": {},
   "outputs": [
    {
     "name": "stdout",
     "output_type": "stream",
     "text": [
      "Enter text hello\n",
      "Enter number 5\n",
      "hellohellohellohellohello\n"
     ]
    }
   ],
   "source": [
    "### Answer\n",
    "text = raw_input('Enter text ')\n",
    "n = input('Enter number ')\n",
    "print(text * n)\n"
   ]
  },
  {
   "cell_type": "markdown",
   "metadata": {},
   "source": [
    "### Exercise 4 - Sum from 1 to n\n",
    "\n",
    "write a program that takes a number as input and outputs the sum from 1 to this number.\n",
    "\n",
    "Example:\n",
    "    n= 5, output= 1 + 2 + 3 + 4 + 5 = 15"
   ]
  },
  {
   "cell_type": "code",
   "execution_count": 5,
   "metadata": {},
   "outputs": [
    {
     "name": "stdout",
     "output_type": "stream",
     "text": [
      "Enter a number 5\n",
      "15\n"
     ]
    }
   ],
   "source": [
    "n = input('Enter a number ')\n",
    "i = 1\n",
    "sum = 0\n",
    "while i <=n:\n",
    "    sum = sum + i\n",
    "    i = i + 1\n",
    "print(sum)\n",
    "    \n",
    "    "
   ]
  },
  {
   "cell_type": "markdown",
   "metadata": {},
   "source": [
    "### Strings & Lists -  Revisiting"
   ]
  },
  {
   "cell_type": "markdown",
   "metadata": {},
   "source": [
    "Strings and lists are similar. String can be considered as a special case of list. It has a list of letters/characters. List can contain of any type of elements.\n",
    "\n",
    "        list_numbers = [1,2,3,4]\n",
    "        list_strings = [\"hello\", \"world\", \"hii\"]\n",
    "        list_mixed = [1, \"hello\", 4, 5.0]\n",
    "        list_of_lists = [[1,2,3],['a','b','c']]\n",
    "        \n",
    "** strings and lists have many similar in the operations that you can perform on them **        \n"
   ]
  },
  {
   "cell_type": "code",
   "execution_count": 3,
   "metadata": {
    "collapsed": true
   },
   "outputs": [],
   "source": [
    "text = 'hello'"
   ]
  },
  {
   "cell_type": "code",
   "execution_count": 4,
   "metadata": {},
   "outputs": [
    {
     "data": {
      "text/plain": [
       "'h'"
      ]
     },
     "execution_count": 4,
     "metadata": {},
     "output_type": "execute_result"
    }
   ],
   "source": [
    "## get first character of string\n",
    "text[0]"
   ]
  },
  {
   "cell_type": "code",
   "execution_count": null,
   "metadata": {
    "collapsed": true
   },
   "outputs": [],
   "source": [
    "## get length of string"
   ]
  },
  {
   "cell_type": "code",
   "execution_count": 22,
   "metadata": {},
   "outputs": [
    {
     "data": {
      "text/plain": [
       "5"
      ]
     },
     "execution_count": 22,
     "metadata": {},
     "output_type": "execute_result"
    }
   ],
   "source": [
    "len(text)"
   ]
  },
  {
   "cell_type": "code",
   "execution_count": 5,
   "metadata": {},
   "outputs": [
    {
     "data": {
      "text/plain": [
       "'o'"
      ]
     },
     "execution_count": 5,
     "metadata": {},
     "output_type": "execute_result"
    }
   ],
   "source": [
    "## get last character of string\n",
    "text[4]"
   ]
  },
  {
   "cell_type": "code",
   "execution_count": 13,
   "metadata": {
    "collapsed": true
   },
   "outputs": [],
   "source": [
    "list_numbers = [1, 2, 3, 4, 10]"
   ]
  },
  {
   "cell_type": "code",
   "execution_count": 11,
   "metadata": {},
   "outputs": [
    {
     "data": {
      "text/plain": [
       "1"
      ]
     },
     "execution_count": 11,
     "metadata": {},
     "output_type": "execute_result"
    }
   ],
   "source": [
    "## get first element of list\n",
    "list_numbers[0]"
   ]
  },
  {
   "cell_type": "code",
   "execution_count": 14,
   "metadata": {},
   "outputs": [
    {
     "data": {
      "text/plain": [
       "5"
      ]
     },
     "execution_count": 14,
     "metadata": {},
     "output_type": "execute_result"
    }
   ],
   "source": [
    "## get number of elements in list \n",
    "len(list_numbers)"
   ]
  },
  {
   "cell_type": "code",
   "execution_count": 15,
   "metadata": {},
   "outputs": [
    {
     "data": {
      "text/plain": [
       "10"
      ]
     },
     "execution_count": 15,
     "metadata": {},
     "output_type": "execute_result"
    }
   ],
   "source": [
    "## get last element of list\n",
    "list_numbers[4]"
   ]
  },
  {
   "cell_type": "code",
   "execution_count": 22,
   "metadata": {},
   "outputs": [
    {
     "data": {
      "text/plain": [
       "'hello....'"
      ]
     },
     "execution_count": 22,
     "metadata": {},
     "output_type": "execute_result"
    }
   ],
   "source": [
    "## concatenating/appending two strings\n",
    "text = 'hello'\n",
    "text + '....'"
   ]
  },
  {
   "cell_type": "code",
   "execution_count": 6,
   "metadata": {},
   "outputs": [
    {
     "data": {
      "text/plain": [
       "[1, 2, 3, 4, 10, 11, 12, 13]"
      ]
     },
     "execution_count": 6,
     "metadata": {},
     "output_type": "execute_result"
    }
   ],
   "source": [
    "### appending two lists\n",
    "list_numbers = [1, 2, 3, 4, 10]\n",
    "list_numbers + [11,12,13]"
   ]
  },
  {
   "cell_type": "code",
   "execution_count": 41,
   "metadata": {},
   "outputs": [
    {
     "name": "stdout",
     "output_type": "stream",
     "text": [
      "text contains ell\n"
     ]
    }
   ],
   "source": [
    "## checking if a string contains another string\n",
    "substring = 'ell'\n",
    "if(substring in text):\n",
    "    print 'text contains ell'"
   ]
  },
  {
   "cell_type": "code",
   "execution_count": 7,
   "metadata": {},
   "outputs": [
    {
     "name": "stdout",
     "output_type": "stream",
     "text": [
      "list contains 1\n"
     ]
    }
   ],
   "source": [
    "## checking if an element is in a list\n",
    "num = 1\n",
    "if(num in list_numbers):\n",
    "    print 'list contains 1'"
   ]
  },
  {
   "cell_type": "markdown",
   "metadata": {},
   "source": [
    "###  Exercise 5 - Are these 3 programs equivalent ? Why?"
   ]
  },
  {
   "cell_type": "code",
   "execution_count": null,
   "metadata": {},
   "outputs": [],
   "source": [
    "### Program 1\n",
    "text = 'hello'\n",
    "\n",
    "for letter in text:\n",
    "    print(letter)"
   ]
  },
  {
   "cell_type": "code",
   "execution_count": null,
   "metadata": {},
   "outputs": [],
   "source": [
    "## Program 2\n",
    "text = \"hello\"\n",
    "index = 0 \n",
    "while index < len(text):\n",
    "    print(text[index])\n",
    "    index = index + 1\n",
    "    "
   ]
  },
  {
   "cell_type": "code",
   "execution_count": null,
   "metadata": {},
   "outputs": [],
   "source": [
    "text = \"hello\"\n",
    "letters = ['h','e','l','l','o']\n",
    "count = 0\n",
    "\n",
    "while count <= len(letters)-1:\n",
    "    print(letters[count])\n",
    "    count = count + 1 \n"
   ]
  },
  {
   "cell_type": "markdown",
   "metadata": {},
   "source": [
    "### Answer\n",
    "\n",
    "All above three programs are correct.\n",
    "- Program 1 uses a for loop to go through each letter in string and prints it\n",
    "- Program 2 uses while loop and a variable index, used to access each character from string. The index is incremented by 1 in each iteration, to go to the next letter.\n",
    "- Program 3 uses while loop as well, but the text is represented as a list of characters instead of a string.\n"
   ]
  },
  {
   "cell_type": "markdown",
   "metadata": {
    "collapsed": true
   },
   "source": [
    "### Exercise 6 - Occurrences of a letter in text\n",
    "Write a program that takes a text from user and a letter, and output the number of occurrences of that letter in the string. **Use while loop and not for loop!**\n",
    "\n",
    "Hint:\n",
    "- you can use len() to know the # of characters of the string.\n",
    "- Example:\n",
    "    - len('hello') gives as output 5\n"
   ]
  },
  {
   "cell_type": "code",
   "execution_count": 13,
   "metadata": {},
   "outputs": [
    {
     "name": "stdout",
     "output_type": "stream",
     "text": [
      "Enter text hello\n",
      "Enter letter l\n",
      "2\n"
     ]
    }
   ],
   "source": [
    "### Answer\n",
    "\n",
    "text = raw_input('Enter text ')\n",
    "special_letter = raw_input('Enter letter ')\n",
    "index = 0\n",
    "letter_count = 0 \n",
    "while index < len(text):\n",
    "    if text[index] == special_letter:\n",
    "        letter_count = letter_count +1\n",
    "    index = index + 1\n",
    "print(letter_count)"
   ]
  },
  {
   "cell_type": "markdown",
   "metadata": {},
   "source": [
    "## Homework"
   ]
  },
  {
   "cell_type": "markdown",
   "metadata": {},
   "source": [
    "## Exercise 7\n",
    "\n",
    "Write a program that takes from user a number n and prints out the product from 1 till n.\n",
    "\n",
    "Example:\n",
    "\n",
    "- n = 2, output =1*2 = 2\n",
    "- n = 3, output = 1 \\* 2 \\* 3 = 6\n",
    "\n",
    "\n"
   ]
  },
  {
   "cell_type": "code",
   "execution_count": 16,
   "metadata": {},
   "outputs": [
    {
     "name": "stdout",
     "output_type": "stream",
     "text": [
      "Please enter the number n:3\n",
      "If you multiply all numbers from 1 to n, you will get:\n",
      "6\n"
     ]
    }
   ],
   "source": [
    "n = int(input('Please enter the number n:'))\n",
    "i = 1\n",
    "result = 1\n",
    "\n",
    "while i <= n:\n",
    "    result = result * i\n",
    "    i = i + 1\n",
    "    \n",
    "print('If you multiply all numbers from 1 to n, you will get:')\n",
    "print(result)"
   ]
  },
  {
   "cell_type": "markdown",
   "metadata": {},
   "source": [
    "### Exercise 8\n",
    "\n",
    "Write a program that takes from user text as input and outputs how many vowels occur in text. vowels: a, e, i, o, u.\n",
    "\n",
    "Example:\n",
    "    - text = 'hello', output = 2\n",
    "    - text = 'cat', output = 1\n",
    "   \n",
    "\n",
    "\n"
   ]
  },
  {
   "cell_type": "code",
   "execution_count": 17,
   "metadata": {},
   "outputs": [
    {
     "name": "stdout",
     "output_type": "stream",
     "text": [
      "Please enter a string: hello\n",
      "Number of vowels in your string:\n",
      "2\n"
     ]
    }
   ],
   "source": [
    "vowels = ['a','e','i', 'o','u']\n",
    "\n",
    "str = raw_input('Please enter a string: ')\n",
    "vowels_counter = 0\n",
    "\n",
    "for letter in str:\n",
    "    if letter in vowels:\n",
    "        vowels_counter = vowels_counter + 1\n",
    "\n",
    "print('Number of vowels in your string:')\n",
    "print(vowels_counter)"
   ]
  },
  {
   "cell_type": "markdown",
   "metadata": {},
   "source": [
    "\n",
    "### Exercise 9 - Year by Year Balance\n",
    "\n",
    "You have amount X saved in the bank. Each year your balance in the bank increases by interest rate 2%\n",
    "\n",
    "Example:\n",
    "    - if in 2016 you had an amount 100 euros in the bank\n",
    "    - in 2017, it will be 102\n",
    "    - in 2018, it will be 104.04\n",
    "\n",
    "Assuming the amount in the bank doesn't change (you do not spend from it or add to it )\n",
    "Below is a program that takes as input the amount you have in the bank (e.g. 100) and the interest rate (e.g. 0.2), then print the balance for next 5 years.\n",
    " \n",
    "*modify the program so that you take the number of years as input n, and print the balance for each year (from year 1 till year n)\n"
   ]
  },
  {
   "cell_type": "code",
   "execution_count": 18,
   "metadata": {},
   "outputs": [
    {
     "name": "stdout",
     "output_type": "stream",
     "text": [
      "How much money will you put to your account:100\n",
      "What is the interest your bank is offering (in percent):2\n",
      "How many years will your money be stored in the bank:3\n",
      "Year:\n",
      "1\n",
      "Result:\n",
      "102.0\n",
      "\n",
      "\n",
      "Year:\n",
      "2\n",
      "Result:\n",
      "104.04\n",
      "\n",
      "\n",
      "Year:\n",
      "3\n",
      "Result:\n",
      "106.1208\n",
      "\n",
      "\n"
     ]
    }
   ],
   "source": [
    "money = int(input('How much money will you put to your account:'))\n",
    "interest = int(input('What is the interest your bank is offering (in percent):'))\n",
    "total_years = int(input('How many years will your money be stored in the bank:'))\n",
    "\n",
    "year = 1\n",
    "while year <= total_years:\n",
    "    money = money + money*(interest/100.0) \n",
    "    print('Year:')\n",
    "    print(year)\n",
    "    print('Result:')\n",
    "    print(money)\n",
    "    print('\\n')\n",
    "    year = year + 1\n"
   ]
  },
  {
   "cell_type": "markdown",
   "metadata": {},
   "source": [
    "### Exercise 10- Reverse a string\n",
    "Write a program which takes a text string from user, and prints out the reverse string.\n",
    "\n",
    "Example:\n",
    "- text = 'hello', output = 'olleh'"
   ]
  },
  {
   "cell_type": "code",
   "execution_count": 19,
   "metadata": {},
   "outputs": [
    {
     "name": "stdout",
     "output_type": "stream",
     "text": [
      "Please enter a string: 123456789\n",
      "Your string reversed:\n",
      "987654321\n"
     ]
    }
   ],
   "source": [
    "str = raw_input('Please enter a string: ')\n",
    "result = ''\n",
    "\n",
    "index = len(str) - 1\n",
    "while index >= 0:\n",
    "    result = result + str[index]\n",
    "    index = index - 1\n",
    "\n",
    "print('Your string reversed:')\n",
    "print(result)"
   ]
  }
 ],
 "metadata": {
  "kernelspec": {
   "display_name": "Python 2.7",
   "language": "python",
   "name": "env27"
  },
  "language_info": {
   "codemirror_mode": {
    "name": "ipython",
    "version": 2
   },
   "file_extension": ".py",
   "mimetype": "text/x-python",
   "name": "python",
   "nbconvert_exporter": "python",
   "pygments_lexer": "ipython2",
   "version": "2.7.13"
  }
 },
 "nbformat": 4,
 "nbformat_minor": 2
}
