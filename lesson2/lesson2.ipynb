{
 "cells": [
  {
   "cell_type": "markdown",
   "metadata": {
    "slideshow": {
     "slide_type": "slide"
    }
   },
   "source": [
    "## Lesson 2\n",
    "- Data Types - In Detail\n",
    "- First step towards interactive programs\n",
    "    - write your first interactive program\n",
    "- Conditional Operations\n",
    "    - write your first conditional program\n",
    "    - write your second conditional program\n",
    "    - your first tracing example"
   ]
  },
  {
   "cell_type": "markdown",
   "metadata": {
    "slideshow": {
     "slide_type": "slide"
    }
   },
   "source": [
    "### Data Types & Operators - Revisiting\n",
    "\n",
    "- Data types:\n",
    "    - int \n",
    "    - float\n",
    "    - string\n",
    "    - bool\n",
    "    - list\n",
    "    - dict\n",
    "    - ...\n",
    "\n",
    "            i = 10\n",
    "            pi = 3.14\n",
    "            hello = \"Hello\"\n",
    "            hi = 'Hi'\n",
    "            b = True\n",
    "            elements_list = [1,2,3,4,5,10]\n",
    "            elements_dict = {'Ahmed':31, 'Malek':19, 'Nazly':29}\n",
    "         \n",
    "\n",
    "        \n",
    "- *type* function can be used to know what is the type of variable\n",
    "        \n",
    "            type(10)\n",
    "            >> <class 'int'>\n",
    "\n",
    "- When to use each type?\n",
    "        \n"
   ]
  },
  {
   "cell_type": "markdown",
   "metadata": {
    "slideshow": {
     "slide_type": "slide"
    }
   },
   "source": [
    "### Examples\n",
    "\n",
    "- float:\n",
    "            2/3\n",
    "            2.0/3\n",
    "            5.0/3\n",
    "            7.0/3\n",
    "- string:\n",
    "            \"hello\"\n",
    "            'hi'\n",
    "             print(\"hello \\n hi\") # other escape characters \\t \\\\ \\' \\\"\n",
    "             \"my Name is \" + \" Kareem\"\n",
    "             \"hello\"*5\n",
    "- bool \n",
    "            x = False\n",
    "            y = True\n",
    "            not x\n",
    "            x and y\n",
    "            x or y\n",
    "            5 ==7\n",
    "            5 !=7\n",
    "            7 > 5\n",
    "- list\n",
    "            l = [1,2,3,4,10]\n",
    "            print(l[0])\n",
    "            m = [1,5] + [6,7]\n",
    "\n",
    "            "
   ]
  },
  {
   "cell_type": "markdown",
   "metadata": {
    "slideshow": {
     "slide_type": "notes"
    }
   },
   "source": [
    "- Taking string as input from user will that be a problem or not?\n",
    "- why do we use int or float variables? => we can be able to apply mathematical operations \n",
    "- try \"10\" / 2"
   ]
  },
  {
   "cell_type": "markdown",
   "metadata": {
    "slideshow": {
     "slide_type": "slide"
    }
   },
   "source": [
    "### Precedence - Revisiting\n",
    "<img src='precedence.png'/>"
   ]
  },
  {
   "cell_type": "markdown",
   "metadata": {
    "slideshow": {
     "slide_type": "slide"
    }
   },
   "source": [
    "### Input & Output\n",
    "\n",
    "- A lot of programs depend on input from the user, e.g. click of a button or text he types in a searchbar\n",
    "- Output:  for now we use *print* function\n",
    "- Input:  we can use *input* function\n",
    "- Try it out:\n",
    "        print('Enter your name')\n",
    "        user_input = raw_input()\n",
    "        print(\"This is the user's name:\")\n",
    "        print(user_input)\n",
    "        \n",
    "        print('Enter your age')\n",
    "        user_age= input()\n",
    "        print(\"This is the user's age:\")\n",
    "        print(user_age)\n",
    " \n",
    "        "
   ]
  },
  {
   "cell_type": "markdown",
   "metadata": {
    "slideshow": {
     "slide_type": "slide"
    }
   },
   "source": [
    "### Excerise 1 - Your first interactive program\n",
    "\n",
    "Part 1:\n",
    "- Given the radius of a circle, we would like to print out both circumference and area.\n",
    "- Hints:\n",
    "    - circumference = $2 {\\pi} r $\n",
    "    - area = ${\\pi} r^2$\n",
    "    - you can assume ${\\pi} = 3.14 $\n",
    "\n",
    "Part 2:\n",
    "- What if we want the user to tell us whether he wants to calculate area or circumference?\n",
    "- What else do we need?"
   ]
  },
  {
   "cell_type": "markdown",
   "metadata": {
    "slideshow": {
     "slide_type": "slide"
    }
   },
   "source": [
    "## Conditional Operations\n",
    "\n",
    "- Test a certain condition\n",
    "- Depending on this condition, decide what are the next steps\n",
    "\n",
    "\n"
   ]
  },
  {
   "cell_type": "code",
   "execution_count": null,
   "metadata": {
    "collapsed": true,
    "slideshow": {
     "slide_type": "slide"
    }
   },
   "outputs": [],
   "source": [
    "weather = input()\n",
    "if(weather == 'Sunny'):\n",
    "    print('Go out and enjoy the sun')\n",
    "else:\n",
    "    print('Stay Home')"
   ]
  },
  {
   "cell_type": "markdown",
   "metadata": {
    "collapsed": true,
    "slideshow": {
     "slide_type": "slide"
    }
   },
   "source": [
    "### How to write conditional operations? (Syntax)\n",
    "\n",
    "    if(condition):\n",
    "        # perform operations when condition is true\n",
    "    else:\n",
    "        # perform operations when condition is false\n",
    "        \n"
   ]
  },
  {
   "cell_type": "markdown",
   "metadata": {
    "collapsed": true,
    "slideshow": {
     "slide_type": "slide"
    }
   },
   "source": [
    "#### How to write conditions?\n",
    " \n",
    "- Operators: ==, >= , <=, !=, >, <\n",
    "        \n",
    "        num > 5\n",
    "        num >= 10\n",
    "        num != 10\n",
    "        num == 10\n",
    "- What is type for these conditions ? \n",
    "- What is difference between?\n",
    "\n",
    "        weather = 'Sunny'\n",
    "        weather == 'Sunny'\n"
   ]
  },
  {
   "cell_type": "markdown",
   "metadata": {
    "slideshow": {
     "slide_type": "slide"
    }
   },
   "source": [
    "### Exercise 2 - Your first conditional program\n",
    "- Given two numbers, print out the bigger of the two numbers.\n",
    "\n",
    "    - Examples:\n",
    "        - n=10 m = 5, output = 10\n",
    "        - n= -10 m = 5, output = 5\n",
    "\n",
    "\n",
    "*What if we are given three numbers?*\n",
    "    \n",
    "   \n",
    "    \n"
   ]
  },
  {
   "cell_type": "markdown",
   "metadata": {
    "collapsed": true,
    "slideshow": {
     "slide_type": "slide"
    }
   },
   "source": [
    "#### What if we want to test for more than one condition?\n",
    "\n",
    "\n",
    "\n",
    "    if(condition1):\n",
    "        # perform operations for condition1\n",
    "    elif(condition2):\n",
    "        # perform operations for condition2 (and condition 1 is false)\n",
    "    elif(condition3):\n",
    "        # perform operations for condition3 (and conditions 1,2 are false)\n",
    "    ........\n",
    "    \n",
    "    else:\n",
    "        # perform operations when conditions 1, 2 and 3 are false\n",
    "        \n",
    "- You can have as many *elif* as you want and optional else part in the end\n",
    " \n"
   ]
  },
  {
   "cell_type": "markdown",
   "metadata": {
    "slideshow": {
     "slide_type": "slide"
    }
   },
   "source": [
    "### Exercise 3 - Your second conditional program\n",
    "- Given three numbers, print out the biggest of the three numbers.\n"
   ]
  },
  {
   "cell_type": "markdown",
   "metadata": {
    "collapsed": true,
    "slideshow": {
     "slide_type": "slide"
    }
   },
   "source": [
    "### Exercise 4 - Your first tracing example\n",
    "- if n=11, What will be printed for each of these two programs and why?\n",
    "\n",
    "- Program 1\n",
    "        if(n > 5):\n",
    "            print('Number is more than 5')\n",
    "        elif(n > 10):\n",
    "            print('Number is more than 10')\n",
    "        else:\n",
    "            print('Number is less than 5')\n",
    "\n",
    "            \n",
    "- Program 2   \n",
    "\n",
    "        if(n > 5):\n",
    "            print('Number is more than 5')\n",
    "        if(n > 10):\n",
    "            print('Number is more than 10')\n",
    "        else:\n",
    "            print('Number is less than 5')  \n",
    "            \n",
    "- What about for n=7? which program should you use?"
   ]
  },
  {
   "cell_type": "markdown",
   "metadata": {
    "collapsed": true,
    "slideshow": {
     "slide_type": "slide"
    }
   },
   "source": [
    "###  Homework\n",
    "#### Exercise 5 \n",
    "\n",
    "- Given the width and height of rectangle, calculate either perimeter or area (ask the user!)\n",
    "- Hints:\n",
    "    - perimeter = 2 X (length + width)\n",
    "    - area = length X width\n",
    " \n",
    "\n",
    "#### Exercise 6\n",
    "\n",
    "- You have 3 lists for different kinds of workshop events: Programming, Art, and Photography. Ask the user about his interest , and show him the corresponding list to his interest. Below are the lists:\n",
    "        programming_list = ['Basic Python workshop', 'Basic Java workshop', 'Intermediate Java']\n",
    "        art_list = ['Painting workshop', 'Sculpture workshop', 'Fashion design workshop']\n",
    "        photo_list = ['Photography 1.0', 'Photography 2.0']\n",
    "\n",
    "   \n",
    "\n"
   ]
  },
  {
   "cell_type": "code",
   "execution_count": null,
   "metadata": {
    "collapsed": true
   },
   "outputs": [],
   "source": []
  }
 ],
 "metadata": {
  "celltoolbar": "Slideshow",
  "kernelspec": {
   "display_name": "Python 3",
   "language": "python",
   "name": "python3"
  },
  "language_info": {
   "codemirror_mode": {
    "name": "ipython",
    "version": 3
   },
   "file_extension": ".py",
   "mimetype": "text/x-python",
   "name": "python",
   "nbconvert_exporter": "python",
   "pygments_lexer": "ipython3",
   "version": "3.6.1"
  }
 },
 "nbformat": 4,
 "nbformat_minor": 2
}
