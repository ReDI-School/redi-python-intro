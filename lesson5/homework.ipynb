{
 "cells": [
  {
   "cell_type": "markdown",
   "metadata": {},
   "source": [
    "### Homework"
   ]
  },
  {
   "cell_type": "markdown",
   "metadata": {},
   "source": [
    "### Exercise 1\n",
    "\n",
    "#### Part 1\n",
    "Write a function that takes as input temperature in celsius °C and converts it to fahrenheit °F.\n",
    "\n",
    "Hint:\n",
    "The formula used to convert from celsius to fahrenheit T(°F) = T(°C) × 9/5 + 32\n",
    "\n",
    "Examples:\n",
    "\n",
    "- input = 40, output = 104\n",
    "- input = 28, output = 82.5\n",
    "\n",
    "#### Part 2\n",
    "Using *input* get a list of temperatures, in celcius, from the user and convert them to fahrenheit using the function you wrote in part 1"
   ]
  },
  {
   "cell_type": "markdown",
   "metadata": {},
   "source": [
    "### Exercise 2\n",
    "\n",
    "Write a function that gets a number n as input and it prints all numbers from 1 till n on one line.\n",
    "\n",
    "Example:\n",
    "\n",
    "- input = 5, output displayed:  \n",
    "    1 2 3 4 5\n",
    "- input = 3, output displayed:  \n",
    "    1 2 3"
   ]
  },
  {
   "cell_type": "markdown",
   "metadata": {},
   "source": [
    "### Exercise 3\n",
    "\n",
    "Write a function that takes as input a list of strings and it returns the longest string\n",
    "\n",
    "Example:\n",
    "    - input =['hello', 'check', 'amazing'], output = 'amazing'\n",
    "    - input = ['lol', 'wow', 'great'], output = 'great'"
   ]
  },
  {
   "cell_type": "markdown",
   "metadata": {},
   "source": [
    "### Exercise 4\n",
    "Write a function that takes a number n as input and prints a pyramid of numbers as the examples below.\n",
    "\n",
    "Example:\n",
    "    - input = 2, output displayed:\n",
    "    1\n",
    "    1 2\n",
    "    - input = 5, output displayed:\n",
    "    1\n",
    "    1 2\n",
    "    1 2 3\n",
    "    1 2 3 4\n",
    "    1 2 3 4 5\n",
    "Hint:\n",
    "you can use the function in exercise 2"
   ]
  },
  {
   "cell_type": "code",
   "execution_count": null,
   "metadata": {
    "collapsed": true
   },
   "outputs": [],
   "source": []
  }
 ],
 "metadata": {
  "kernelspec": {
   "display_name": "Python 3",
   "language": "python",
   "name": "python3"
  },
  "language_info": {
   "codemirror_mode": {
    "name": "ipython",
    "version": 3
   },
   "file_extension": ".py",
   "mimetype": "text/x-python",
   "name": "python",
   "nbconvert_exporter": "python",
   "pygments_lexer": "ipython3",
   "version": "3.6.3"
  }
 },
 "nbformat": 4,
 "nbformat_minor": 2
}
