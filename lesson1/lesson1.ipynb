{
 "cells": [
  {
   "cell_type": "markdown",
   "metadata": {},
   "source": [
    "<p style=\"page-break-after:always;\"></p>"
   ]
  },
  {
   "cell_type": "markdown",
   "metadata": {
    "slideshow": {
     "slide_type": "slide"
    }
   },
   "source": [
    "# Lesson 1\n",
    "\n",
    "1. What is a program?\n",
    "2. Course Objectives\n",
    "3. Python:\n",
    "    + Running your first program\n",
    "    +  Writing your first program\n",
    "    + Python as a calculator\n",
    "    + Variables"
   ]
  },
  {
   "cell_type": "markdown",
   "metadata": {
    "collapsed": true,
    "slideshow": {
     "slide_type": "slide"
    }
   },
   "source": [
    "### What is a program?"
   ]
  },
  {
   "cell_type": "markdown",
   "metadata": {
    "slideshow": {
     "slide_type": "subslide"
    }
   },
   "source": [
    "\n",
    "<img src=\"images/windows-10-explorer.png\">\n",
    "<table>\n",
    "<tr  style='background-color:white'>\n",
    "<td><img src=\"images/calculator.png\"  style= 'display:inline;'> </td>\n",
    "<td><img src=\"images/chrome.jpg\" style= 'display:inline;'> </td>\n",
    "</tr>\n",
    "</table>"
   ]
  },
  {
   "cell_type": "markdown",
   "metadata": {
    "slideshow": {
     "slide_type": "notes"
    }
   },
   "source": [
    "- Programs are not just about buttons and visable features\n",
    "- a lot of things are happening in the background\n",
    "- Try searching on Google, autocompletion? search results?\n",
    "- Youtube => how does it know what to recommend you when you open a video? https://www.youtube.com/watch?v=9TC8yF9GV8A"
   ]
  },
  {
   "cell_type": "markdown",
   "metadata": {
    "slideshow": {
     "slide_type": "notes"
    }
   },
   "source": [
    "### Programming languages \n",
    "\n",
    "<table>\n",
    "<tr  style='background-color:white'>\n",
    "<td><img src=\"images/java.png\"  style= 'display:inline;'> </td>\n",
    "<td><img src=\"images/c_plus.png\" style= 'display:inline;'> </td>\n",
    "<td><img src=\"images/python.jpeg\" style= 'display:inline;'> </td>\n",
    "\n",
    "<tr>\n",
    "</table>"
   ]
  },
  {
   "cell_type": "markdown",
   "metadata": {
    "slideshow": {
     "slide_type": "slide"
    }
   },
   "source": [
    "### Programming\n",
    "\n",
    "- Programming is just a tool\n",
    "- Problem solving skills are essential\n",
    "- Programming is used to implement Algorithms\n",
    "- An Algorithm is a step by step method to solve a problem, we use it all the time but we are not aware of it, Examples?\n"
   ]
  },
  {
   "cell_type": "markdown",
   "metadata": {
    "slideshow": {
     "slide_type": "slide"
    }
   },
   "source": [
    "### By the end of this course\n",
    "\n",
    "1. Programming (black box -> open box)\n",
    "2. Implementing your own programs (Project/ mini projects)\n",
    "3. What you can reach using programming? and put you on the track of how to get there"
   ]
  },
  {
   "cell_type": "markdown",
   "metadata": {
    "slideshow": {
     "slide_type": "slide"
    }
   },
   "source": [
    "##  Why Python?\n",
    "### Easy language + Huge Capabilities + Online Support\n",
    "\n",
    "<table>\n",
    "<tr>\n",
    "<th>Python </th>\n",
    "<th> Java </th>\n",
    "<th>C++</th>\n",
    "<th>Ruby </th>\n",
    "</tr>\n",
    "<tr  style='background-color:white'>\n",
    "<td><img src=\"images/hello_world_python_.png\" style= 'display:inline;'> </td>\n",
    "<td><img src=\"images/hello_world_java.png\"  style= 'display:inline;'> </td>\n",
    "<td><img src=\"images/hello_world_c_plus.png\" style= 'display:inline;'> </td>\n",
    "<td><img src=\"images/hello_world_ruby.png\" style= 'display:inline;'> </td>\n",
    "</tr>\n",
    "</table>\n",
    "<table>\n",
    "<tr>\n",
    "<td>\n",
    "<img src=\"images/why_python.png\" style= 'display:inline;'>\n",
    "source: https://en.wikipedia.org/wiki/Programming_languages_used_in_most_popular_websites\n",
    "</td>\n",
    "</tr>\n",
    "</table>\n",
    "\n"
   ]
  },
  {
   "cell_type": "markdown",
   "metadata": {
    "slideshow": {
     "slide_type": "slide"
    }
   },
   "source": [
    "### Installing Python\n",
    "\n",
    "1. If you are using Linux => Good news! python is already installed (version 2.7)\n",
    "2. If you are using Windows => https://www.python.org/downloads/  (choose version 2.7)"
   ]
  },
  {
   "cell_type": "markdown",
   "metadata": {
    "slideshow": {
     "slide_type": "slide"
    }
   },
   "source": [
    "### Installing Code Editor\n",
    "- For this course we will be using Pycharm\n",
    "- There are other common editors used for python e.g. Sublime, Atom, etc.\n",
    "\n",
    "#### Installation\n",
    "1. Go here https://www.jetbrains.com/pycharm/download/\n",
    "2. Choose Community Edition\n",
    "3. For windows, installation is straightforward\n",
    "4. For linux:\n",
    "    1. The download file has tar.gz (this is just a compressed file for linux)\n",
    "    2. Uncompress the file\n",
    "    3. Inside the extracted folder you will find bin folder which has a pycharmXXX.sh file\n",
    "    3. To open Pycharm you need to open terminal\n",
    "    4. type 'cd <path of bin folder inside pycharm folder>'\n",
    "    5. then type 'sh pycharmXXX.sh'\n",
    "\n"
   ]
  },
  {
   "cell_type": "markdown",
   "metadata": {
    "slideshow": {
     "slide_type": "slide"
    }
   },
   "source": [
    "## Running your first python program\n",
    "\n",
    "1. Open PyCharm\n",
    "2. Open python_examples folder\n",
    "3. Run hello_world.py\n"
   ]
  },
  {
   "cell_type": "markdown",
   "metadata": {
    "slideshow": {
     "slide_type": "slide"
    }
   },
   "source": [
    "## Writing your first program\n",
    "#### Example 1 \n",
    " - write a program that prints out your name \n",
    " - Hint: you can modify the hello_world.py file to print your name instead of hello world and rerun it"
   ]
  },
  {
   "cell_type": "markdown",
   "metadata": {
    "slideshow": {
     "slide_type": "slide"
    }
   },
   "source": [
    "### Using Python Shell\n",
    "- View -> Tool Windows -> Terminal -> write 'python'\n"
   ]
  },
  {
   "cell_type": "markdown",
   "metadata": {
    "slideshow": {
     "slide_type": "notes"
    }
   },
   "source": [
    "- There are different ways to run python code (python shell, running a file)"
   ]
  },
  {
   "cell_type": "markdown",
   "metadata": {
    "slideshow": {
     "slide_type": "slide"
    }
   },
   "source": [
    "### Using Python as a calculator\n",
    "- Operators: \n",
    "    - +\n",
    "    - - \n",
    "    - *\n",
    "    - /\n",
    "    - // \n",
    "    - %\n",
    "- Types: int vs float\n",
    "- Precedence"
   ]
  },
  {
   "cell_type": "markdown",
   "metadata": {
    "slideshow": {
     "slide_type": "slide"
    }
   },
   "source": [
    "### Errors\n",
    "- Syntax Errors\n",
    "<img src=\"images/syntax_error.png\" >\n",
    "- Semantic Errors\n",
    "<img src=\"images/semantic_error.png\">\n"
   ]
  },
  {
   "cell_type": "markdown",
   "metadata": {
    "slideshow": {
     "slide_type": "slide"
    }
   },
   "source": [
    "### Variables\n",
    "- For now anything we calculated is just printed\n",
    "- How to remember a value of an expression?\n",
    "- Similar to variables in math\n",
    "<img src=\"images/variables.png\">\n",
    "<img src=\"images/variables_named.png\">\n"
   ]
  },
  {
   "cell_type": "markdown",
   "metadata": {
    "collapsed": true,
    "slideshow": {
     "slide_type": "slide"
    }
   },
   "source": [
    "#### Example 2:\n",
    "You are in a country X and travelling to Germany next week. You have 100 dollars and you want to convert them to euros. You go to a currency exchange center and they tell you that they cannot convert it directly. They have to first convert the 100 dollars to currency X, and then convert it from currency X to euros. How many euros will you have in the end?\n",
    "\n",
    "\n",
    "- Exchange rate from dollars to currency X is 15\n",
    "\n",
    "- Exchange rate from currency X to euros is 0.05\n",
    "\n",
    "- Exchange rate from dollars to euros is 0.8\n",
    "\n"
   ]
  }
 ],
 "metadata": {
  "celltoolbar": "Slideshow",
  "kernelspec": {
   "display_name": "Python 3",
   "language": "python",
   "name": "python3"
  },
  "language_info": {
   "codemirror_mode": {
    "name": "ipython",
    "version": 3.0
   },
   "file_extension": ".py",
   "mimetype": "text/x-python",
   "name": "python",
   "nbconvert_exporter": "python",
   "pygments_lexer": "ipython3",
   "version": "3.6.1"
  }
 },
 "nbformat": 4,
 "nbformat_minor": 0
}