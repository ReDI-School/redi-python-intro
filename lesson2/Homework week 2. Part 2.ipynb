{
 "cells": [
  {
   "cell_type": "markdown",
   "metadata": {},
   "source": [
    "# Exercise 1\n",
    "Ask to the user the hour of the day (0 if it's midnight, 3 for 3 in the morning, 17 for 5PM and so on)\n",
    "\n",
    "Then, congratule our user by time of day:\n",
    "* before 11 its morning (so the program can say, for example, \"Good morning!\")\n",
    "* between 11 and 17 its afternoon\n",
    "* between 17 and 22 is good evening\n",
    "* after 22 is night time\n",
    "\n",
    "## Exercise 1 - variation\n",
    "If you prefer, ask for the hour and then tell the user what to eat:\n",
    "* breakfast when betwen 10 and 11\n",
    "* lunch between 12 and 13\n",
    "* dinner between 17 to 18\n",
    "* nothing when none above (*Hint*: this means it's before 11 *or* after 18)"
   ]
  },
  {
   "cell_type": "markdown",
   "metadata": {},
   "source": [
    "# Esercise 2\n",
    "\n",
    "The user loves cakes, and also going by bike! So, ask if one of the two things happened and, if so, congratulate. If not, say \"good luck next time\" (or another message of your choice).\n",
    "\n"
   ]
  },
  {
   "cell_type": "code",
   "execution_count": null,
   "metadata": {},
   "outputs": [],
   "source": []
  }
 ],
 "metadata": {
  "kernelspec": {
   "display_name": "Python 3",
   "language": "python",
   "name": "python3"
  },
  "language_info": {
   "codemirror_mode": {
    "name": "ipython",
    "version": 3
   },
   "file_extension": ".py",
   "mimetype": "text/x-python",
   "name": "python",
   "nbconvert_exporter": "python",
   "pygments_lexer": "ipython3",
   "version": "3.6.4"
  }
 },
 "nbformat": 4,
 "nbformat_minor": 2
}
