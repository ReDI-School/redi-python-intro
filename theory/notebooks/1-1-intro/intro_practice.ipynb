{
  "nbformat": 4,
  "nbformat_minor": 0,
  "metadata": {
    "colab": {
      "name": "intro-practice.ipynb",
      "provenance": [],
      "private_outputs": true,
      "collapsed_sections": []
    },
    "kernelspec": {
      "name": "python3",
      "display_name": "Python 3"
    }
  },
  "cells": [
    {
      "cell_type": "markdown",
      "metadata": {
        "id": "bKFqFwPpWtZZ",
        "colab_type": "text"
      },
      "source": [
        "# What is IPython notebook?\n",
        "\n",
        "* IPython notebook can be though of as a text document, which can run Python code. \n",
        "* Google Collab (comes within Google Drive) allows to create, edit and run IPython notebooks\n",
        "* You can also download the notebooks to your computer and run them there, but you need to set up the environment for this first \n",
        "* (for the curious minds we can also show this - how to create IPython notebooks locally without any need for Google)\n",
        "\n",
        "## First of all do: **File** -> **Save a copy in Drive**\n",
        "\n",
        "![alt text](https://drive.google.com/uc?id=1N7PDzf3Uoic0wXzQ9zaB-SEHgeL7yhaK)\n",
        "\n",
        "Now you have a copy of the notebook in your drive - you can change it, save it for later etc\n",
        "\n",
        "\n",
        "\n",
        "\n",
        "\n",
        "\n",
        "\n",
        "\n",
        "\n"
      ]
    },
    {
      "cell_type": "markdown",
      "metadata": {
        "id": "a6-xwS4s9OWP",
        "colab_type": "text"
      },
      "source": [
        "# Your first program\n",
        "\n",
        "There are two kind of cells in IPython Notebooks: \"text\", like this one and \"code\" - the one that can be run. "
      ]
    },
    {
      "cell_type": "code",
      "metadata": {
        "id": "la71mrjt9agm",
        "colab_type": "code",
        "colab": {}
      },
      "source": [
        "# print hello world to the screen\n",
        "print('hello world!')"
      ],
      "execution_count": 0,
      "outputs": []
    },
    {
      "cell_type": "markdown",
      "metadata": {
        "id": "E69jQ8hcOZ8P",
        "colab_type": "text"
      },
      "source": [
        "# Understanding your first program\n",
        "\n",
        "\n",
        "## Built-in functions:\n",
        "```python\n",
        "print()\n",
        "```\n",
        "* Part of the language\n",
        "* Sub-program\n",
        " *Has unique name, effect or result, list of arguments (parameters)\n",
        "* https://docs.python.org/3/library/functions.html\n",
        "\n",
        "## Literals:\n",
        "```python\n",
        "'hello world!'\n",
        "```\n",
        "* Represent  fixed values in code\n",
        "* Different types: numbers (also floating-point),  boolean, string and some others\n"
      ]
    },
    {
      "cell_type": "markdown",
      "metadata": {
        "id": "Se0t6YMmPS3d",
        "colab_type": "text"
      },
      "source": [
        "# Comments - another useful thing\n",
        "\n",
        "\n",
        "\n",
        "\n",
        "\n"
      ]
    },
    {
      "cell_type": "code",
      "metadata": {
        "id": "SLF84BQVPO_u",
        "colab_type": "code",
        "colab": {}
      },
      "source": [
        "# This is my first program in Python\n",
        "# It prints the line 'Hello world' to\n",
        "# the console output\n",
        "\n",
        "print('hello world!')  # this line prints\n",
        "#print('1,2,3')\n"
      ],
      "execution_count": 0,
      "outputs": []
    },
    {
      "cell_type": "markdown",
      "metadata": {
        "id": "IeYXWstlPntV",
        "colab_type": "text"
      },
      "source": [
        "* Ignored by the interpreter\n",
        "* Write it for yourself or for somebody else who is supposed to read your code in future\n",
        "* You can use it to disable lines of code in your program without deleting them\n"
      ]
    },
    {
      "cell_type": "code",
      "metadata": {
        "colab_type": "code",
        "id": "B6j1ZnBSQRLh",
        "colab": {}
      },
      "source": [
        "''' \n",
        "Another way to \n",
        "write mutiline\n",
        "comments\n",
        "\n",
        "fddasdfasdf\n",
        "asdfasdfasdf\n",
        "asdfasdfsadf\n",
        "\n",
        "'''\n",
        "\n",
        "print('hello world!')\n"
      ],
      "execution_count": 0,
      "outputs": []
    },
    {
      "cell_type": "markdown",
      "metadata": {
        "id": "QBtsHJyTQ2-E",
        "colab_type": "text"
      },
      "source": [
        "# Breaking your first program"
      ]
    },
    {
      "cell_type": "code",
      "metadata": {
        "colab_type": "code",
        "id": "DZnE37sYRrXh",
        "colab": {}
      },
      "source": [
        "# This is my first program in Python\n",
        "# It prints the line 'Hello world' to\n",
        "# the console output\n",
        "\n",
        "print('hello world!')\n",
        "print( 10/0 )"
      ],
      "execution_count": 0,
      "outputs": []
    },
    {
      "cell_type": "markdown",
      "metadata": {
        "id": "8cwKtGTzSBhV",
        "colab_type": "text"
      },
      "source": [
        "# Multi-instruction program\n"
      ]
    },
    {
      "cell_type": "code",
      "metadata": {
        "id": "isa9pqCMSOIX",
        "colab_type": "code",
        "colab": {}
      },
      "source": [
        "# This is my first multi-instruction\n",
        "# program in Python: It prints two\n",
        "# lines to the console output\n",
        "\n",
        "print('hello world!')\n",
        "\n",
        "print(\"this runs on Ilya's notebook\")\n",
        "print('I can use it like this: \"bla\"')"
      ],
      "execution_count": 0,
      "outputs": []
    },
    {
      "cell_type": "markdown",
      "metadata": {
        "id": "_YncAroDSSXC",
        "colab_type": "text"
      },
      "source": [
        "* Only one “instruction” per line\n",
        "* Empty lines are allowed\n",
        "* Instructions are executed one after another\n",
        "* Look at the quotes (both ways work with string literals)\n"
      ]
    },
    {
      "cell_type": "markdown",
      "metadata": {
        "id": "SwZFCjeiSjSl",
        "colab_type": "text"
      },
      "source": [
        "# Additional materials and where to find help\n",
        "\n",
        "* https://automatetheboringstuff.com/ - Online book, covers all the basics of Python and how to use it\n",
        "* https://docs.python.org/3/index.html - Python3 documentation (including Tutorial)\n",
        "* Internet search - community is big, many questions were already posted somewhere\n",
        "  * Pay special attention to the information at stackoverflow.com  \n"
      ]
    },
    {
      "cell_type": "markdown",
      "metadata": {
        "id": "fw3bGqoVWrlh",
        "colab_type": "text"
      },
      "source": [
        "# Feedback time\n",
        "\n",
        "https://www.menti.com/uk98b4qj88"
      ]
    }
  ]
}