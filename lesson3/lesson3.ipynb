{
 "cells": [
  {
   "cell_type": "markdown",
   "metadata": {
    "slideshow": {
     "slide_type": "slide"
    }
   },
   "source": [
    "## Lesson 3\n",
    "- Motivational Demo: How great python is\n",
    "- Type str: Strings in Python\n",
    "- Input/Output and str Formatting  \n",
    "- for loop over str\n",
    "- OPTIONAL: while loops"
   ]
  },
  {
   "cell_type": "markdown",
   "metadata": {
    "slideshow": {
     "slide_type": "slide"
    }
   },
   "source": [
    "### Data Types & Operators - Revisiting\n",
    "\n",
    "- Data types:\n",
    "    - int \n",
    "    - float\n",
    "    - string\n",
    "    - bool\n",
    "    - list\n",
    "    - dict\n",
    "    - ...\n",
    "\n",
    "            i = 10\n",
    "            pi = 3.14\n",
    "            hello = \"Hello\"\n",
    "            hi = 'Hi'\n",
    "            b = True       \n"
   ]
  },
  {
   "cell_type": "markdown",
   "metadata": {
    "slideshow": {
     "slide_type": "slide"
    }
   },
   "source": [
    "### Type str: Strings in Python\n",
    "\n",
    "- String Literal:\n",
    "    A string literal is a sequence of characters. In Python, this type is called str. Strings in Python start and end with a single quotes (') or double quotes (\"). A string can be made up of letters, numbers, and special characters. For example:\n",
    "\n",
    "   If a string begins with a single quote, it must end with a single quote. The same applies to double-quoted strings. You can not mix the type of quotes.   \n",
    "   \n",
    "- String Operators\n",
    "          \n",
    "        str1 + str2\tconcatenate str1 and str1\t\n",
    "               \n",
    "        str1 * int1\tconcatenate int1 copies of str1\t\n",
    "                \n",
    "        int1 * str1\tconcatenate int1 copies of str1\t\n",
    "            \n",
    "    Note: concatenate means to join together\n",
    "    The * and + operands obey by the standard precedence rules when used with strings.\n",
    "    All other mathematical operators and operands result in a TypeError."
   ]
  },
  {
   "cell_type": "code",
   "execution_count": 1,
   "metadata": {
    "ExecuteTime": {
     "end_time": "2018-02-26T18:18:51.416778Z",
     "start_time": "2018-02-26T18:18:51.409974Z"
    }
   },
   "outputs": [
    {
     "name": "stdout",
     "output_type": "stream",
     "text": [
      "Hello, how are you, today?\n",
      "Hello, how is Jane's life today\n"
     ]
    }
   ],
   "source": [
    "string = 'Hello, how are you, today?'\n",
    "print(string)\n",
    "\n",
    "print(\"Hello, how is Jane's life today\")"
   ]
  },
  {
   "cell_type": "code",
   "execution_count": 2,
   "metadata": {
    "ExecuteTime": {
     "end_time": "2018-02-26T18:18:56.460592Z",
     "start_time": "2018-02-26T18:18:56.455954Z"
    },
    "slideshow": {
     "slide_type": "notes"
    }
   },
   "outputs": [
    {
     "name": "stdout",
     "output_type": "stream",
     "text": [
      "abc\n",
      "aaaaa\n",
      "bcbcbcbcbcbcbcbcbcbc\n"
     ]
    }
   ],
   "source": [
    "print('ab' + 'c')\n",
    "print('a' * 5)\n",
    "print(10 * 'bc')"
   ]
  },
  {
   "cell_type": "markdown",
   "metadata": {},
   "source": [
    "You can use `lower()` to get a string as lowercase, and `upper()` to get it as UPPERCASE."
   ]
  },
  {
   "cell_type": "code",
   "execution_count": 3,
   "metadata": {
    "ExecuteTime": {
     "end_time": "2018-02-26T18:20:15.568691Z",
     "start_time": "2018-02-26T18:20:15.564359Z"
    }
   },
   "outputs": [
    {
     "name": "stdout",
     "output_type": "stream",
     "text": [
      "John\n",
      "john\n",
      "JOHN\n"
     ]
    }
   ],
   "source": [
    "name = 'John'\n",
    "print(name)\n",
    "print(name.lower())\n",
    "print(name.upper())"
   ]
  },
  {
   "cell_type": "markdown",
   "metadata": {},
   "source": [
    "## Exercise\n",
    "Create a program that asks for the user whether he went biking today (yes or no as usual) but do not care about cases (i.e. accepts YES, Yes or yes) Hint: use the lower or upper functions"
   ]
  },
  {
   "cell_type": "code",
   "execution_count": 10,
   "metadata": {
    "ExecuteTime": {
     "end_time": "2018-02-26T18:54:02.649045Z",
     "start_time": "2018-02-26T18:54:00.399085Z"
    }
   },
   "outputs": [
    {
     "name": "stdout",
     "output_type": "stream",
     "text": [
      "Did you go biking today?yes\n",
      "Your answer was yes\n",
      "Your answer after using lower() was yes\n",
      "ok you did bike today\n",
      "WRONG ok you did bike today\n"
     ]
    }
   ],
   "source": [
    "ask = input('Did you go biking today?')\n",
    "print('Your answer was ' + ask)\n",
    "ask_as_lowercase = ask.lower()\n",
    "\n",
    "print('Your answer after using lower() was ' + ask_as_lowercase)\n",
    "did_bike_today = ask_as_lowercase == 'yes'\n",
    "\n",
    "if did_bike_today:\n",
    "    print('ok you did bike today')\n",
    "else:\n",
    "    print('No you did not')\n",
    "\n",
    "# let's see what would have happened if I used the \n",
    "did_bike_wrong = ask == 'yes'\n",
    "\n",
    "if did_bike_wrong:\n",
    "    print('WRONG ok you did bike today')\n",
    "else:\n",
    "    print('WRONG No you did not')"
   ]
  },
  {
   "cell_type": "markdown",
   "metadata": {},
   "source": [
    "There is a simpler way to solve the same problem:"
   ]
  },
  {
   "cell_type": "code",
   "execution_count": 9,
   "metadata": {
    "ExecuteTime": {
     "end_time": "2018-02-26T18:50:43.205490Z",
     "start_time": "2018-02-26T18:50:38.963833Z"
    }
   },
   "outputs": [
    {
     "name": "stdout",
     "output_type": "stream",
     "text": [
      "Did you go biking? yes or no?Yes\n",
      "yes you did\n"
     ]
    }
   ],
   "source": [
    "answer = input('Did you go biking? yes or no?')\n",
    "if answer.upper() == 'YES':\n",
    "    print('yes you did')\n",
    "else:\n",
    "    print('Nope, did not')"
   ]
  },
  {
   "cell_type": "markdown",
   "metadata": {
    "slideshow": {
     "slide_type": "slide"
    }
   },
   "source": [
    "### Input/Output and str Formatting\n",
    "\n",
    "- Python has a built-in function named print that displays messages to the user. For example, the following function call displays the string \"hello\":\n",
    "\n",
    "        print(\"hello\")\n",
    "        hello\n",
    "\n",
    "- The print function may also be called with a mathematical expression for an argument\n",
    "\n",
    "        print(3 + 7 - 3)\n",
    "\n",
    "- Finally, print can take in more than one argument. Each pair of arguments is separated by a comma and a space is inserted between them when they are displayed. For example:\n",
    "\n",
    "        print(\"hello\", \"there\")\n",
    "        print(\"Anser=\", 3)\n",
    "\n",
    "- String Escape Sequences\n",
    "\n",
    "    Python has a special character called an escape character: `\\`. When the escape character is used in a string, the character following the escape character is treated differently from normal. The escape character together with the character that follows it is an escape sequence. The table below contains some of Python's commonly used escape sequences.\n",
    "\n",
    "        \\n\tnewline (ASCII linefeed - LF)\n",
    "        \\t\ttab (ASCII horizontal tab - TAB)\n",
    "        \\\\\tbackslash (\\)\n",
    "        \\'\tsingle quote (')\n",
    "        \\\"\tdouble quote (\")       "
   ]
  },
  {
   "cell_type": "code",
   "execution_count": 13,
   "metadata": {
    "ExecuteTime": {
     "end_time": "2018-02-26T19:08:26.852630Z",
     "start_time": "2018-02-26T19:08:26.831102Z"
    }
   },
   "outputs": [
    {
     "name": "stdout",
     "output_type": "stream",
     "text": [
      "x == y: False\n",
      "x != y: True\n",
      "x < y: True\n",
      "x > y: False\n",
      "x <= y: True\n",
      "x >= y: False\n",
      "x > y and z > y: False\n",
      "x > y and z > y: False\n",
      "x > y and z > y: True\n",
      "\n",
      "\n",
      "x > y and z > y: False\n",
      "x > y and z > y: True\n",
      "x > y and z > y: True\n"
     ]
    }
   ],
   "source": [
    "x = 5\n",
    "y = 8\n",
    "z = 7\n",
    "\n",
    "print(\"x == y:\", x == y)\n",
    "print(\"x != y:\", x != y)\n",
    "print(\"x < y:\", x < y)\n",
    "print(\"x > y:\", x > y)\n",
    "print(\"x <= y:\", x <= y)\n",
    "print(\"x >= y:\", x >= y)\n",
    "\n",
    "print(\"x > y and z > y:\", x > y and z > y)\n",
    "print(\"x > y and z > y:\", x < y and z > y)\n",
    "print(\"x > y and z > y:\", x < y and z < y)\n",
    "print(\"\\n\")\n",
    "print(\"x > y and z > y:\", x > y or z > y)\n",
    "print(\"x > y and z > y:\", x < y or z > y)\n",
    "print(\"x > y and z > y:\", x < y or z < y)\n",
    "\n"
   ]
  },
  {
   "cell_type": "code",
   "execution_count": 15,
   "metadata": {
    "ExecuteTime": {
     "end_time": "2018-02-26T19:22:18.518364Z",
     "start_time": "2018-02-26T19:22:18.514350Z"
    }
   },
   "outputs": [
    {
     "name": "stdout",
     "output_type": "stream",
     "text": [
      "hello\n",
      "Python\n",
      "Answer with yes\\no\n",
      "This is John's house\n"
     ]
    }
   ],
   "source": [
    "print('hello\\nPython')\n",
    "print('Answer with yes\\\\no')\n",
    "print('This is John\\'s house')\n"
   ]
  },
  {
   "cell_type": "markdown",
   "metadata": {
    "slideshow": {
     "slide_type": "slide"
    }
   },
   "source": [
    "### Exercise 1 - Ask user for their first name, family name and age. Say 'Hi' to them properly\n",
    "\n",
    "\n",
    "- your program should ask the user 3 questions about\n",
    "        name\n",
    "        family name\n",
    "        age\n",
    "   \n",
    "    and print following text:\n",
    "   \n",
    "        Hello <first name> <second name>!\n",
    "        I know, that you are <put age here> years old.\n",
    "    \n",
    "    you can only use print() function once in your code\n",
    "\n"
   ]
  },
  {
   "cell_type": "code",
   "execution_count": 20,
   "metadata": {
    "ExecuteTime": {
     "end_time": "2018-02-26T19:44:19.720135Z",
     "start_time": "2018-02-26T19:44:07.353542Z"
    }
   },
   "outputs": [
    {
     "name": "stdout",
     "output_type": "stream",
     "text": [
      "Plese enter your first name:s35fHHkjoi879\n",
      "Plese enter your family name:JOHN\n",
      "Plese enter your age:23\n",
      "\n",
      "Hello S35FHHKJOI879 John !\n",
      "I know, that you are 23 years old\n"
     ]
    }
   ],
   "source": [
    "first_name = input('Plese enter your first name:')\n",
    "family_name = input('Plese enter your family name:')\n",
    "age = input('Plese enter your age:')\n",
    "\n",
    "first_name =  first_name.upper()\n",
    "family_name = family_name.capitalize()\n",
    "\n",
    "print('\\nHello', first_name, family_name, '!\\nI know, that you are', age, 'years old')\n"
   ]
  },
  {
   "cell_type": "markdown",
   "metadata": {
    "slideshow": {
     "slide_type": "slide"
    }
   },
   "source": [
    "## For loop over strings\n",
    "\n",
    "- For Loops\n",
    "\n",
    "    The general form of a for loop over a string is:\n",
    "\n",
    "        for variable in str:\n",
    "            statements"
   ]
  },
  {
   "cell_type": "code",
   "execution_count": 22,
   "metadata": {
    "ExecuteTime": {
     "end_time": "2018-02-26T19:48:13.078313Z",
     "start_time": "2018-02-26T19:48:13.071401Z"
    },
    "slideshow": {
     "slide_type": "slide"
    }
   },
   "outputs": [
    {
     "name": "stdout",
     "output_type": "stream",
     "text": [
      "hello!\n",
      "j\n",
      "hello!\n",
      "o\n",
      "hello!\n",
      "h\n",
      "hello!\n",
      "n\n",
      "hello!\n",
      "n\n",
      "hello!\n",
      "y\n"
     ]
    }
   ],
   "source": [
    "string = 'johnny'\n",
    "\n",
    "for letter in string:\n",
    "    print('hello!')\n",
    "    print(letter)\n"
   ]
  },
  {
   "cell_type": "markdown",
   "metadata": {
    "collapsed": true,
    "slideshow": {
     "slide_type": "slide"
    }
   },
   "source": [
    "### Excerise2 - Calculate 'a' letters in a string\n",
    "\n",
    "- write a programm which asks a user to input a word and calculates how many occurences of letter 'a' are there\n",
    "    \n",
    "    for this you will need 'for loop over strings' and 'if' operator\n"
   ]
  },
  {
   "cell_type": "code",
   "execution_count": null,
   "metadata": {},
   "outputs": [],
   "source": [
    "word = input('Please enter a word:')\n",
    "\n",
    "number_of_a = 0\n",
    "\n",
    "for letter in word:\n",
    "    #if letter == 'a' or letter == 'A':\n",
    "    if letter.lower() == 'a':\n",
    "        number_of_a = number_of_a + 1\n",
    "        print('another occurence of \"a\" found...')\n",
    "\n",
    "print('I have counted', number_of_a, 'occurence(s) of \"a\" in the word', word)\n"
   ]
  },
  {
   "cell_type": "markdown",
   "metadata": {},
   "source": [
    "### while loops\n",
    "\n",
    "The general form of a while loop:\n",
    "\n",
    "        while expression:\n",
    "            statements"
   ]
  },
  {
   "cell_type": "code",
   "execution_count": null,
   "metadata": {
    "ExecuteTime": {
     "end_time": "2018-02-26T10:03:30.148470Z",
     "start_time": "2018-02-26T10:03:30.142219Z"
    }
   },
   "outputs": [],
   "source": [
    "a = 0\n",
    "\n",
    "while a < 10:\n",
    "    print(a)\n",
    "    a = a + 1"
   ]
  },
  {
   "cell_type": "code",
   "execution_count": null,
   "metadata": {},
   "outputs": [],
   "source": []
  },
  {
   "cell_type": "markdown",
   "metadata": {
    "collapsed": true,
    "slideshow": {
     "slide_type": "slide"
    }
   },
   "source": [
    "###  Homework\n",
    "\n",
    "\n"
   ]
  }
 ],
 "metadata": {
  "celltoolbar": "Slideshow",
  "kernelspec": {
   "display_name": "Python 3",
   "language": "python",
   "name": "python3"
  },
  "language_info": {
   "codemirror_mode": {
    "name": "ipython",
    "version": 3
   },
   "file_extension": ".py",
   "mimetype": "text/x-python",
   "name": "python",
   "nbconvert_exporter": "python",
   "pygments_lexer": "ipython3",
   "version": "3.6.4"
  }
 },
 "nbformat": 4,
 "nbformat_minor": 2
}
