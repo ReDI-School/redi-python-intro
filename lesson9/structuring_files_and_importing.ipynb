{
 "cells": [
  {
   "cell_type": "markdown",
   "metadata": {},
   "source": [
    "## Revisiting Functions\n",
    "\n",
    "    x = input() ##input is a function\n",
    "    type(x) ## type is a function\n",
    "    num = int(\"1000\") ## converts string to integer\n",
    "    num = float(\"7.12\") ## converts string to float"
   ]
  },
  {
   "cell_type": "code",
   "execution_count": null,
   "metadata": {
    "collapsed": true
   },
   "outputs": [],
   "source": [
    "x = abs(-15)\n",
    "y = pow(5,2) ##same as 5**2\n",
    "z = round(12.5)\n",
    "print 'x:', x, 'y:', y, 'z:',z"
   ]
  },
  {
   "cell_type": "markdown",
   "metadata": {},
   "source": [
    "### Other functions - Python Standard Library\n",
    "\n",
    "\n",
    "- More functions are available here: https://docs.python.org/2/library/index.html\n",
    "- Functions that are not built in needs to be imported\n",
    "\n",
    "- Examples:\n",
    "    - Math functions : https://docs.python.org/2/library/math.html\n",
    "    - Web browser : https://docs.python.org/2/library/webbrowser.html\n",
    "    - Time functions: https://docs.python.org/2/library/time.html"
   ]
  },
  {
   "cell_type": "code",
   "execution_count": null,
   "metadata": {
    "collapsed": true
   },
   "outputs": [],
   "source": [
    "import math\n",
    "c = math.ceil(1.5)\n",
    "print(c)"
   ]
  },
  {
   "cell_type": "code",
   "execution_count": null,
   "metadata": {
    "collapsed": true
   },
   "outputs": [],
   "source": [
    "import webbrowser\n",
    "webbrowser.open(\"https://www.youtube.com\")"
   ]
  },
  {
   "cell_type": "code",
   "execution_count": null,
   "metadata": {
    "collapsed": true
   },
   "outputs": [],
   "source": [
    "import time\n",
    "print('hello world')\n",
    "time.sleep(5)\n",
    "print('hello world after 5 seconds')\n"
   ]
  },
  {
   "cell_type": "markdown",
   "metadata": {},
   "source": [
    "### Example 1 - Take a break program\n",
    "\n",
    "https://classroom.udacity.com/courses/ud036/lessons/993460168/concepts/10157285860923"
   ]
  },
  {
   "cell_type": "markdown",
   "metadata": {},
   "source": [
    "### Example 2 -  Secret Message -Homework\n",
    "\n",
    "https://classroom.udacity.com/courses/ud036/lessons/993460168/concepts/10157286030923"
   ]
  },
  {
   "cell_type": "markdown",
   "metadata": {},
   "source": [
    "### External Libraries\n",
    "\n",
    "- You need to install it before importing and using it in your code.\n",
    "\n",
    "- Python package index https://pypi.python.org/pypi\n",
    "\n",
    "- Let's try installing one library e.g. https://pypi.python.org/pypi/nltk/3.2.5\n",
    "\n",
    "- Some packages provide exe installer, but the most typical way of installing python packages is through a command called pip.\n",
    " \n",
    "             >>> pip install nltk\n",
    "             >>> python\n",
    "             >>> import nltk\n",
    "             >>> nltk.download('punkt')\n",
    "             >>> sentence = \"At eight o'clock on Thursday morning Arthur didn't feel very good.\"\n",
    "             >>> nltk.word_tokenize(sentence)"
   ]
  },
  {
   "cell_type": "markdown",
   "metadata": {},
   "source": [
    "## Structuring your code\n"
   ]
  },
  {
   "cell_type": "markdown",
   "metadata": {},
   "source": [
    "### Using functions from another file:\n",
    "\n",
    "\n",
    "<img src =\"../Lesson 5/images/calling_functions2.png\"/>"
   ]
  },
  {
   "cell_type": "markdown",
   "metadata": {},
   "source": [
    "### Example 1 \n",
    "\n",
    "Code below contains several functions for movie ratings, put them in a file structure similar to the above figure."
   ]
  },
  {
   "cell_type": "code",
   "execution_count": 2,
   "metadata": {},
   "outputs": [
    {
     "name": "stdout",
     "output_type": "stream",
     "text": [
      "4.1\n",
      "Movie 2\n"
     ]
    }
   ],
   "source": [
    "### Part 1\n",
    "def calculate_rating(movie_ratings):\n",
    "    overall_rating = sum(movie_ratings)/float(len(movie_ratings))\n",
    "    return overall_rating\n",
    "\n",
    "def get_better_movie(rating_list1, rating_list2):\n",
    "    overall_rating1 = calculate_rating(rating_list1)\n",
    "    overall_rating2 = calculate_rating(rating_list2)\n",
    "    if(overall_rating1 == overall_rating2):\n",
    "        return 'Both have same overall rating'\n",
    "    elif overall_rating1 > overall_rating2:\n",
    "        return 'Movie 1'\n",
    "    else:\n",
    "        return 'Movie 2'\n",
    "    \n",
    "\n",
    "inception_ratings = [4,5,3,5,2,5,5,4,3,5]\n",
    "print(calculate_rating(inception_ratings))\n",
    "\n",
    "departed_ratings = [5,5,5,5,5,3,2,4,5,4]\n",
    "print(get_better_movie(inception_ratings, departed_ratings))"
   ]
  },
  {
   "cell_type": "markdown",
   "metadata": {},
   "source": [
    "### Python modules\n",
    "A **module** allows you to logically organize your Python code. Grouping related code into a module makes the code easier to understand and use.\n",
    "\n",
    "Simply, a module is a file consisting of Python code.\n",
    "\n",
    "Syntax:\n",
    "\n",
    "        import <module name>\n",
    "        from <module name> import <variable/function name/etc>\n",
    "        from <module name> import * \n",
    "        \n",
    "More: https://www.tutorialspoint.com/python/python_modules.htm\n",
    "        "
   ]
  },
  {
   "cell_type": "markdown",
   "metadata": {},
   "source": [
    "### Example 2\n",
    "\n",
    "\n",
    "- Write two modules used to read files :\n",
    "\n",
    "**Part 1**\n",
    "\n",
    "module1: file_utils.py => reads and writes to text files\n",
    "    - read_as_str(filepath)\n",
    "    - read_as_lines(filepath)\n",
    "    - add_line(filepath, line)\n",
    "\n",
    "**Part 2**\n",
    "\n",
    "module2: csv_utils.py\n",
    "\n",
    "functions:\n",
    "    - read_as_lists(filepath)\n",
    "    - add_row(filepath, row)\n",
    "    - read_as_dicts(filepath)\n",
    "    \n",
    " \n",
    "   \n"
   ]
  },
  {
   "cell_type": "code",
   "execution_count": 4,
   "metadata": {},
   "outputs": [
    {
     "name": "stdout",
     "output_type": "stream",
     "text": [
      "<type 'str'>\n",
      "Team1,Team2,Score\n",
      "Italy,France,2-1\n",
      "Italy,Czech,3-0\n",
      "Italy,Romania,5-0\n",
      "France,Czech,2-1\n",
      "France,Romania,1-1\n",
      "Czech,Romania,2-1\n",
      "\n",
      "--------\n",
      "<type 'list'>\n",
      "['Team1,Team2,Score', 'Italy,France,2-1', 'Italy,Czech,3-0', 'Italy,Romania,5-0', 'France,Czech,2-1', 'France,Romania,1-1', 'Czech,Romania,2-1']\n",
      "--------\n",
      "['Team1,Team2,Score', 'Italy,France,2-1', 'Italy,Czech,3-0', 'Italy,Romania,5-0', 'France,Czech,2-1', 'France,Romania,1-1', 'Czech,Romania,2-1', 'Czech,Albania,2-1']\n"
     ]
    }
   ],
   "source": [
    "import file_utils\n",
    "\n",
    "filepath = 'tournament.csv'\n",
    "\n",
    "text = file_utils.read_as_str(filepath)\n",
    "print(type(text))\n",
    "print(text)\n",
    "\n",
    "print('--------')\n",
    "\n",
    "lines = file_utils.read_as_lines(filepath)\n",
    "print(type(lines))\n",
    "print(lines)\n",
    "\n",
    "print('--------')\n",
    "file_utils.add_line(filepath, \"Czech,Albania,2-1\")\n",
    "lines = file_utils.read_as_lines(filepath)\n",
    "print(lines)\n",
    "\n",
    "\n",
    "\n",
    "\n"
   ]
  },
  {
   "cell_type": "code",
   "execution_count": 2,
   "metadata": {},
   "outputs": [
    {
     "name": "stdout",
     "output_type": "stream",
     "text": [
      "[['Team1', 'Team2', 'Score'], ['Italy', 'France', '2-1'], ['Italy', 'Czech', '3-0'], ['Italy', 'Romania', '5-0'], ['France', 'Czech', '2-1'], ['France', 'Romania', '1-1'], ['Czech', 'Romania', '2-1'], ['Czech', 'Albania', '2-1']]\n",
      "--------\n",
      "[{'Score': '2-1', 'Team1': 'Italy', 'Team2': 'France'}, {'Score': '3-0', 'Team1': 'Italy', 'Team2': 'Czech'}, {'Score': '5-0', 'Team1': 'Italy', 'Team2': 'Romania'}, {'Score': '2-1', 'Team1': 'France', 'Team2': 'Czech'}, {'Score': '1-1', 'Team1': 'France', 'Team2': 'Romania'}, {'Score': '2-1', 'Team1': 'Czech', 'Team2': 'Romania'}, {'Score': '2-1', 'Team1': 'Czech', 'Team2': 'Albania'}]\n",
      "--------\n"
     ]
    },
    {
     "ename": "NameError",
     "evalue": "name 'lines' is not defined",
     "output_type": "error",
     "traceback": [
      "\u001b[0;31m---------------------------------------------------------------------------\u001b[0m",
      "\u001b[0;31mNameError\u001b[0m                                 Traceback (most recent call last)",
      "\u001b[0;32m<ipython-input-2-bbf2e9a7f5e0>\u001b[0m in \u001b[0;36m<module>\u001b[0;34m()\u001b[0m\n\u001b[1;32m     16\u001b[0m \u001b[0mcsv_utils\u001b[0m\u001b[0;34m.\u001b[0m\u001b[0madd_row\u001b[0m\u001b[0;34m(\u001b[0m\u001b[0mfilepath\u001b[0m\u001b[0;34m,\u001b[0m \u001b[0;34m[\u001b[0m\u001b[0;34m'Albania'\u001b[0m\u001b[0;34m,\u001b[0m\u001b[0;34m'Italy'\u001b[0m\u001b[0;34m,\u001b[0m\u001b[0;34m'2-1'\u001b[0m\u001b[0;34m]\u001b[0m\u001b[0;34m)\u001b[0m\u001b[0;34m\u001b[0m\u001b[0m\n\u001b[1;32m     17\u001b[0m \u001b[0mlists\u001b[0m \u001b[0;34m=\u001b[0m \u001b[0mcsv_utils\u001b[0m\u001b[0;34m.\u001b[0m\u001b[0mread_as_lists\u001b[0m\u001b[0;34m(\u001b[0m\u001b[0mfilepath\u001b[0m\u001b[0;34m)\u001b[0m\u001b[0;34m\u001b[0m\u001b[0m\n\u001b[0;32m---> 18\u001b[0;31m \u001b[0;32mprint\u001b[0m\u001b[0;34m(\u001b[0m\u001b[0mlines\u001b[0m\u001b[0;34m)\u001b[0m\u001b[0;34m\u001b[0m\u001b[0m\n\u001b[0m",
      "\u001b[0;31mNameError\u001b[0m: name 'lines' is not defined"
     ]
    }
   ],
   "source": [
    "import csv_utils\n",
    "\n",
    "filepath = 'tournament.csv'\n",
    "\n",
    "lists = csv_utils.read_as_lists(filepath)\n",
    "\n",
    "print(lists)\n",
    "\n",
    "print('--------')\n",
    "\n",
    "dicts = csv_utils.read_as_dicts(filepath)\n",
    "\n",
    "print(dicts)\n",
    "\n",
    "print('--------')\n",
    "csv_utils.add_row(filepath, ['Albania','Italy','2-1'])\n",
    "lists = csv_utils.read_as_lists(filepath)\n",
    "print(lists)"
   ]
  },
  {
   "cell_type": "code",
   "execution_count": null,
   "metadata": {
    "collapsed": true
   },
   "outputs": [],
   "source": []
  }
 ],
 "metadata": {
  "kernelspec": {
   "display_name": "Python 2.7",
   "language": "python",
   "name": "env27"
  },
  "language_info": {
   "codemirror_mode": {
    "name": "ipython",
    "version": 2
   },
   "file_extension": ".py",
   "mimetype": "text/x-python",
   "name": "python",
   "nbconvert_exporter": "python",
   "pygments_lexer": "ipython2",
   "version": "2.7.13"
  }
 },
 "nbformat": 4,
 "nbformat_minor": 2
}
