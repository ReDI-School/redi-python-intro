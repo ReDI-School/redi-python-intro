{
 "cells": [
  {
   "cell_type": "markdown",
   "metadata": {},
   "source": [
    "## 1. Check if a number exists in a list\n",
    "\n",
    "Extend the following code:\n",
    "```python\n",
    "import random\n",
    "my_randoms = random.sample(range(100), 10)\n",
    "print(my_randoms)\n",
    "```\n",
    "\n",
    "to ask the user for a number from 0 to 100, (input) and check if that number exists in the my_randoms list (using a for loop and if).  \n",
    "Your for loop should stop as soon as the number is found\n",
    "\n",
    "### 2. Print all numbers in a list that are greater than a number\n",
    "Extend the following code:\n",
    "```python\n",
    "import random\n",
    "my_randoms = random.sample(range(100), 10)\n",
    "print(my_randoms)\n",
    "```\n",
    "\n",
    "to ask the user for a number for 0 to 100 (input).  \n",
    "Then using a for loop print all numbers that are bigger than the number the user has given\n",
    "\n",
    "### 3. (advanced version of 2) Print all number in a range\n",
    "Extend the following code:\n",
    "```python\n",
    "import random\n",
    "my_randoms = random.sample(range(100), 10)\n",
    "print(my_randoms)\n",
    "```\n",
    "\n",
    "to ask the user for 2 numbers (number_1: 0 to 50, and number_2 from 50 to 100) (input)  \n",
    "Then using a for loop print all numbers between number_1 and number_2 (>= number_1 and <= number_2). (Hint: use for, if, <=, >=)"
   ]
  }
 ],
 "metadata": {
  "kernelspec": {
   "display_name": "Python 3",
   "language": "python",
   "name": "python3"
  },
  "language_info": {
   "codemirror_mode": {
    "name": "ipython",
    "version": 3
   },
   "file_extension": ".py",
   "mimetype": "text/x-python",
   "name": "python",
   "nbconvert_exporter": "python",
   "pygments_lexer": "ipython3",
   "version": "3.6.3"
  }
 },
 "nbformat": 4,
 "nbformat_minor": 2
}
