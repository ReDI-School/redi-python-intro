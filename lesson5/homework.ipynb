{
 "cells": [
  {
   "cell_type": "markdown",
   "metadata": {
    "toc": "true"
   },
   "source": [
    "# Table of Contents\n",
    " <p><div class=\"lev3 toc-item\"><a href=\"#Homework\" data-toc-modified-id=\"Homework-001\"><span class=\"toc-item-num\">0.0.1&nbsp;&nbsp;</span>Homework</a></div><div class=\"lev3 toc-item\"><a href=\"#Exercise-1\" data-toc-modified-id=\"Exercise-1-002\"><span class=\"toc-item-num\">0.0.2&nbsp;&nbsp;</span>Exercise 1</a></div><div class=\"lev4 toc-item\"><a href=\"#Part-1\" data-toc-modified-id=\"Part-1-0021\"><span class=\"toc-item-num\">0.0.2.1&nbsp;&nbsp;</span>Part 1</a></div><div class=\"lev4 toc-item\"><a href=\"#Part-2\" data-toc-modified-id=\"Part-2-0022\"><span class=\"toc-item-num\">0.0.2.2&nbsp;&nbsp;</span>Part 2</a></div><div class=\"lev3 toc-item\"><a href=\"#Exercise-2\" data-toc-modified-id=\"Exercise-2-003\"><span class=\"toc-item-num\">0.0.3&nbsp;&nbsp;</span>Exercise 2</a></div><div class=\"lev3 toc-item\"><a href=\"#Exercise-3\" data-toc-modified-id=\"Exercise-3-004\"><span class=\"toc-item-num\">0.0.4&nbsp;&nbsp;</span>Exercise 3</a></div><div class=\"lev3 toc-item\"><a href=\"#Exercise-4\" data-toc-modified-id=\"Exercise-4-005\"><span class=\"toc-item-num\">0.0.5&nbsp;&nbsp;</span>Exercise 4</a></div><div class=\"lev3 toc-item\"><a href=\"#Extra-exercise-(advanced)\" data-toc-modified-id=\"Extra-exercise-(advanced)-006\"><span class=\"toc-item-num\">0.0.6&nbsp;&nbsp;</span>Extra exercise (advanced)</a></div>"
   ]
  },
  {
   "cell_type": "markdown",
   "metadata": {},
   "source": [
    "### Homework"
   ]
  },
  {
   "cell_type": "markdown",
   "metadata": {},
   "source": [
    "### Exercise 1\n",
    "\n",
    "#### Part 1\n",
    "Write a function that takes as input temperature in celsius °C and converts it to fahrenheit °F.\n",
    "\n",
    "Hint:\n",
    "The formula used to convert from celsius to fahrenheit T(°F) = T(°C) × 9/5 + 32\n",
    "\n",
    "Examples:\n",
    "\n",
    "- input = 40, output = 104\n",
    "- input = 28, output = 82.5"
   ]
  },
  {
   "cell_type": "code",
   "execution_count": 2,
   "metadata": {
    "ExecuteTime": {
     "end_time": "2018-03-15T18:10:59.739347Z",
     "start_time": "2018-03-15T18:10:59.734000Z"
    }
   },
   "outputs": [
    {
     "name": "stdout",
     "output_type": "stream",
     "text": [
      "53.6\n"
     ]
    }
   ],
   "source": [
    "def celsius_to_fahrenheit(temperature):\n",
    "    result = temperature * 9/5 +32\n",
    "    return result\n",
    "\n",
    "print(celsius_to_fahrenheit(12))"
   ]
  },
  {
   "cell_type": "markdown",
   "metadata": {},
   "source": [
    "#### Part 2\n",
    "Using *input* get a list of temperatures, in Celsius, from the user and convert them to Fahrenheit using the function you wrote in part 1"
   ]
  },
  {
   "cell_type": "code",
   "execution_count": 14,
   "metadata": {
    "ExecuteTime": {
     "end_time": "2018-03-15T18:29:18.185519Z",
     "start_time": "2018-03-15T18:29:12.870521Z"
    }
   },
   "outputs": [
    {
     "name": "stdout",
     "output_type": "stream",
     "text": [
      "Give me a list of temperatures, with spaces in the middle\n",
      "12 23.23 100 -11\n",
      "the list after splitting is ['12', '23.23', '100', '-11']\n",
      "the list after splitting and converting is [12.0, 23.23, 100.0, -11.0]\n",
      "the temperature 12  is converted to 53.6\n",
      "the temperature 23.23  is converted to 73.814\n",
      "the temperature 100  is converted to 212.0\n",
      "the temperature -11  is converted to 12.2\n"
     ]
    }
   ],
   "source": [
    "# the function split() divides the string into parts based on spaces\n",
    "temp_list = input(\"Give me a list of temperatures, with spaces in the middle\\n\").split()\n",
    "\n",
    "# temp_list is a list of strings,\n",
    "# let's use a for cycle and convert them to float one by one\n",
    "# each value is then appended to the new list temp_list_as_floats\n",
    "temp_list_as_floats = []\n",
    "for temperature_as_string in temp_list:\n",
    "    temp_list_as_floats.append(float(temperature_as_string))\n",
    "\n",
    "print(\"the list after splitting is\", temp_list)\n",
    "print(\"the list after splitting and converting is\", temp_list_as_floats)\n",
    "\n",
    "    \n",
    "for temp in temp_list_as_floats:\n",
    "    print(\"the temperature\", temp, \" is converted to\", celsius_to_fahrenheit(temp))"
   ]
  },
  {
   "cell_type": "code",
   "execution_count": 32,
   "metadata": {
    "ExecuteTime": {
     "end_time": "2018-03-15T21:51:43.818796Z",
     "start_time": "2018-03-15T21:51:38.765351Z"
    }
   },
   "outputs": [
    {
     "name": "stdout",
     "output_type": "stream",
     "text": [
      "Give me a temperature, or write STOP when fine\n",
      "12\n",
      "Give me a temperature, or write STOP when fine\n",
      "34.5\n",
      "Give me a temperature, or write STOP when fine\n",
      "STOP\n",
      "the list is [12.0, 34.5]\n",
      "the temperature 12.0  is converted to 53.6\n",
      "the temperature 34.5  is converted to 94.1\n"
     ]
    }
   ],
   "source": [
    "# another solution.\n",
    "# This time, instead of askign one and splitting with spaces, we ask many times until the user inputs STOP\n",
    "temp_list = []\n",
    "single_temperature = input(\"Give me a temperature, or write STOP when fine\\n\")\n",
    "while single_temperature != 'STOP':\n",
    "    temp_list.append(float(single_temperature))\n",
    "    # we have to ask again inside the cycle, or it will never end since the condition stays True\n",
    "    single_temperature = input(\"Give me a temperature, or write STOP when fine\\n\")\n",
    "\n",
    "\n",
    "print(\"the list is\", temp_list)\n",
    "\n",
    "for temp in temp_list:\n",
    "    print(\"the temperature\", temp, \" is converted to\", celsius_to_fahrenheit(temp))"
   ]
  },
  {
   "cell_type": "code",
   "execution_count": 33,
   "metadata": {
    "ExecuteTime": {
     "end_time": "2018-03-15T21:55:25.589997Z",
     "start_time": "2018-03-15T21:55:20.722793Z"
    }
   },
   "outputs": [
    {
     "name": "stdout",
     "output_type": "stream",
     "text": [
      "Give me a list of temperatures, with spaces in the middle\n",
      "12.4 67\n",
      "the list after splitting is ['12.4', '67']\n",
      "the temperature 12.4  is converted to 54.32\n",
      "the temperature 67  is converted to 152.6\n"
     ]
    }
   ],
   "source": [
    "# Variant of the first one, but instead of generating a new list\n",
    "# with the elements converted from str to float, the conversion is done right when calling the function\n",
    "# (Notice the float at the end of the last line)\n",
    "temp_list = input(\"Give me a list of temperatures, with spaces in the middle\\n\").split()\n",
    "\n",
    "print(\"the list after splitting is\", temp_list)\n",
    "    \n",
    "for temp in temp_list:\n",
    "    print(\"the temperature\", temp, \" is converted to\", celsius_to_fahrenheit(float(temp)))"
   ]
  },
  {
   "cell_type": "markdown",
   "metadata": {},
   "source": [
    "### Exercise 2\n",
    "\n",
    "Write a function that gets a number n as input and it prints all numbers from 1 till n on one line.\n",
    "\n",
    "Example:\n",
    "\n",
    "- input = 5, output displayed:  \n",
    "    1 2 3 4 5\n",
    "- input = 3, output displayed:  \n",
    "    1 2 3"
   ]
  },
  {
   "cell_type": "code",
   "execution_count": 26,
   "metadata": {
    "ExecuteTime": {
     "end_time": "2018-03-15T19:44:24.078860Z",
     "start_time": "2018-03-15T19:44:21.336168Z"
    }
   },
   "outputs": [
    {
     "name": "stdout",
     "output_type": "stream",
     "text": [
      "give me a number23\n",
      "1 2 3 4 5 6 7 8 9 10 11 12 13 14 15 16 17 18 19 20 21 22 23 "
     ]
    }
   ],
   "source": [
    "\n",
    "def print_numbers_in_between(n):\n",
    "    # range here starts with 1 and ends with n+1 (range stops at the value before the one given)\n",
    "    for this_number in range(1, n+1):\n",
    "        print(this_number, end=' ')\n",
    "\n",
    "my_number = int(input(\"give me a number\"))\n",
    "print_numbers_in_between(my_number)\n"
   ]
  },
  {
   "cell_type": "markdown",
   "metadata": {},
   "source": [
    "### Exercise 3\n",
    "\n",
    "Write a function that takes as input a list of strings and it returns the longest string\n",
    "\n",
    "Example:\n",
    "    - input =['hello', 'check', 'amazing'], output = 'amazing'\n",
    "    - input = ['lol', 'wow', 'great'], output = 'great'"
   ]
  },
  {
   "cell_type": "code",
   "execution_count": 25,
   "metadata": {
    "ExecuteTime": {
     "end_time": "2018-03-15T18:43:54.296074Z",
     "start_time": "2018-03-15T18:43:50.922892Z"
    }
   },
   "outputs": [
    {
     "name": "stdout",
     "output_type": "stream",
     "text": [
      "give me strings with spacesas sdfsddsf f gf\n",
      "this is the longest word: sdfsddsf\n"
     ]
    }
   ],
   "source": [
    "\n",
    "def find_longest(list_of_strings):\n",
    "    longest_for_now = ''\n",
    "\n",
    "    for candidate_longest in list_of_strings:\n",
    "        if len(candidate_longest) > len(longest_for_now):\n",
    "            longest_for_now = candidate_longest\n",
    "            \n",
    "    return longest_for_now\n",
    "\n",
    "mylist = input(\"give me strings with spaces\").split()           \n",
    "print(\"this is the longest word:\", find_longest(mylist))"
   ]
  },
  {
   "cell_type": "markdown",
   "metadata": {},
   "source": [
    "### Exercise 4\n",
    "Write a function that takes a number n as input and prints a pyramid of numbers as the examples below.\n",
    "\n",
    "Example:\n",
    "    - input = 2, output displayed:\n",
    "    1\n",
    "    1 2\n",
    "    - input = 5, output displayed:\n",
    "    1\n",
    "    1 2\n",
    "    1 2 3\n",
    "    1 2 3 4\n",
    "    1 2 3 4 5\n",
    "Hint:\n",
    "you can use the function in exercise 2"
   ]
  },
  {
   "cell_type": "code",
   "execution_count": 29,
   "metadata": {
    "ExecuteTime": {
     "end_time": "2018-03-15T19:47:07.917804Z",
     "start_time": "2018-03-15T19:47:06.812848Z"
    }
   },
   "outputs": [
    {
     "name": "stdout",
     "output_type": "stream",
     "text": [
      "give me a number of lines\n",
      "12\n",
      "1 \n",
      "1 2 \n",
      "1 2 3 \n",
      "1 2 3 4 \n",
      "1 2 3 4 5 \n",
      "1 2 3 4 5 6 \n",
      "1 2 3 4 5 6 7 \n",
      "1 2 3 4 5 6 7 8 \n",
      "1 2 3 4 5 6 7 8 9 \n",
      "1 2 3 4 5 6 7 8 9 10 \n",
      "1 2 3 4 5 6 7 8 9 10 11 \n",
      "1 2 3 4 5 6 7 8 9 10 11 12 \n"
     ]
    }
   ],
   "source": [
    "n = int(input(\"give me a number of lines\\n\"))\n",
    "\n",
    "# for each line, we call the function defined before\n",
    "def print_pyramid(numer_of_lines):\n",
    "    for l in range(1, numer_of_lines+1):\n",
    "        print_numbers_in_between(l)\n",
    "        # the function defined earlier doesn't add the newline, an empty print() does it\n",
    "        print()\n",
    "        \n",
    "print_pyramid(n)   "
   ]
  },
  {
   "cell_type": "markdown",
   "metadata": {},
   "source": [
    "### Extra exercise (advanced)\n",
    "Print a pyramid of numbers as before, but centering it in the middle.\n",
    "\n",
    "Hint: to center, print some spaces before each line"
   ]
  },
  {
   "cell_type": "code",
   "execution_count": 31,
   "metadata": {
    "ExecuteTime": {
     "end_time": "2018-03-15T19:49:41.323294Z",
     "start_time": "2018-03-15T19:49:41.293255Z"
    }
   },
   "outputs": [
    {
     "name": "stdout",
     "output_type": "stream",
     "text": [
      "                   1 \n",
      "                  1 2 \n",
      "                 1 2 3 \n",
      "                1 2 3 4 \n",
      "               1 2 3 4 5 \n",
      "              1 2 3 4 5 6 \n",
      "             1 2 3 4 5 6 7 \n",
      "            1 2 3 4 5 6 7 8 \n",
      "           1 2 3 4 5 6 7 8 9 \n",
      "          1 2 3 4 5 6 7 8 9 10 \n",
      "         1 2 3 4 5 6 7 8 9 10 11 \n",
      "        1 2 3 4 5 6 7 8 9 10 11 12 \n",
      "       1 2 3 4 5 6 7 8 9 10 11 12 13 \n",
      "      1 2 3 4 5 6 7 8 9 10 11 12 13 14 \n",
      "     1 2 3 4 5 6 7 8 9 10 11 12 13 14 15 \n",
      "    1 2 3 4 5 6 7 8 9 10 11 12 13 14 15 16 \n",
      "   1 2 3 4 5 6 7 8 9 10 11 12 13 14 15 16 17 \n",
      "  1 2 3 4 5 6 7 8 9 10 11 12 13 14 15 16 17 18 \n",
      " 1 2 3 4 5 6 7 8 9 10 11 12 13 14 15 16 17 18 19 \n",
      "1 2 3 4 5 6 7 8 9 10 11 12 13 14 15 16 17 18 19 20 \n"
     ]
    }
   ],
   "source": [
    "def print_pyramid_with_space(numer_of_lines):\n",
    "    for l in range(1, numer_of_lines+1):\n",
    "        # the code is the same as before, except this line to print the spaces\n",
    "        # (number_of_lines - l) is the number of lines missing to reach the last one\n",
    "        # which is the number of spaces needed\n",
    "        print(\" \" * (numer_of_lines - l), end='')\n",
    "        print_numbers_in_between(l)\n",
    "        print()\n",
    "        \n",
    "print_pyramid_with_space(20)"
   ]
  }
 ],
 "metadata": {
  "kernelspec": {
   "display_name": "Python 3",
   "language": "python",
   "name": "python3"
  },
  "language_info": {
   "codemirror_mode": {
    "name": "ipython",
    "version": 3
   },
   "file_extension": ".py",
   "mimetype": "text/x-python",
   "name": "python",
   "nbconvert_exporter": "python",
   "pygments_lexer": "ipython3",
   "version": "3.6.4"
  },
  "toc": {
   "colors": {
    "hover_highlight": "#DAA520",
    "navigate_num": "#000000",
    "navigate_text": "#333333",
    "running_highlight": "#FF0000",
    "selected_highlight": "#FFD700",
    "sidebar_border": "#EEEEEE",
    "wrapper_background": "#FFFFFF"
   },
   "moveMenuLeft": true,
   "nav_menu": {
    "height": "135px",
    "width": "251px"
   },
   "navigate_menu": true,
   "number_sections": true,
   "sideBar": true,
   "threshold": 4,
   "toc_cell": true,
   "toc_section_display": "block",
   "toc_window_display": false,
   "widenNotebook": false
  }
 },
 "nbformat": 4,
 "nbformat_minor": 2
}
