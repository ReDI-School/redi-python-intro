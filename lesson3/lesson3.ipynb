{
 "cells": [
  {
   "cell_type": "markdown",
   "metadata": {
    "slideshow": {
     "slide_type": "slide"
    }
   },
   "source": [
    "## Lesson 3\n",
    "- Motivational Demo: How great python is\n",
    "- Type str: Strings in Python\n",
    "- Input/Output and str Formatting  \n",
    "- for loop over str\n",
    "- OPTIONAL: while loops"
   ]
  },
  {
   "cell_type": "markdown",
   "metadata": {
    "slideshow": {
     "slide_type": "slide"
    }
   },
   "source": [
    "### Data Types & Operators - Revisiting\n",
    "\n",
    "- Data types:\n",
    "    - int \n",
    "    - float\n",
    "    - string\n",
    "    - bool\n",
    "    - list\n",
    "    - dict\n",
    "    - ...\n",
    "\n",
    "            i = 10\n",
    "            pi = 3.14\n",
    "            hello = \"Hello\"\n",
    "            hi = 'Hi'\n",
    "            b = True       \n"
   ]
  },
  {
   "cell_type": "markdown",
   "metadata": {
    "slideshow": {
     "slide_type": "slide"
    }
   },
   "source": [
    "### Type str: Strings in Python\n",
    "\n",
    "- String Literal:\n",
    "    A string literal is a sequence of characters. In Python, this type is called str. Strings in Python start and end with a single quotes (') or double quotes (\"). A string can be made up of letters, numbers, and special characters. For example:\n",
    "\n",
    "   If a string begins with a single quote, it must end with a single quote. The same applies to double-quoted strings. You can not mix the type of quotes.   \n",
    "   \n",
    "- String Operators\n",
    "          \n",
    "        str1 + str2\tconcatenate str1 and str1\t\n",
    "               \n",
    "        str1 * int1\tconcatenate int1 copies of str1\t\n",
    "                \n",
    "        int1 * str1\tconcatenate int1 copies of str1\t\n",
    "            \n",
    "    Note: concatenate means to join together\n",
    "    The * and + operands obey by the standard precedence rules when used with strings.\n",
    "    All other mathematical operators and operands result in a TypeError."
   ]
  },
  {
   "cell_type": "code",
   "execution_count": 3,
   "metadata": {},
   "outputs": [
    {
     "name": "stdout",
     "output_type": "stream",
     "text": [
      "Hello, how are you, today?\n",
      "Hello how is Jane's life today\n"
     ]
    }
   ],
   "source": [
    "str = 'Hello, how are you, today?'\n",
    "print(str)\n",
    "\n",
    "print(\"Hello, how is Jane's life today\")"
   ]
  },
  {
   "cell_type": "code",
   "execution_count": 4,
   "metadata": {
    "slideshow": {
     "slide_type": "notes"
    }
   },
   "outputs": [
    {
     "name": "stdout",
     "output_type": "stream",
     "text": [
      "abc\n",
      "aaaaa\n",
      "bcbcbcbcbcbcbcbcbcbc\n"
     ]
    }
   ],
   "source": [
    "print('ab' + 'c')\n",
    "print('a' * 5)\n",
    "print(10 * 'bc')"
   ]
  },
  {
   "cell_type": "markdown",
   "metadata": {
    "slideshow": {
     "slide_type": "slide"
    }
   },
   "source": [
    "### Input/Output and str Formatting\n",
    "\n",
    "- Python has a built-in function named print that displays messages to the user. For example, the following function call displays the string \"hello\":\n",
    "\n",
    "        print(\"hello\")\n",
    "        hello\n",
    "\n",
    "- The print function may also be called with a mathematical expression for an argument\n",
    "\n",
    "        print(3 + 7 - 3)\n",
    "\n",
    "- Finally, print can take in more than one argument. Each pair of arguments is separated by a comma and a space is inserted between them when they are displayed. For example:\n",
    "\n",
    "        print(\"hello\", \"there\")\n",
    "        print(\"Anser=\", 3)\n",
    "\n",
    "- String Escape Sequences\n",
    "\n",
    "    Python has a special character called an escape character: \\. When the escape character is used in a string, the character following the escape character is treated differently from normal. The escape character together with the character that follows it is an escape sequence. The table below contains some of Python's commonly used escape sequences.\n",
    "\n",
    "        \\n\tnewline (ASCII linefeed - LF)\n",
    "        \\t\ttab (ASCII horizontal tab - TAB)\n",
    "        \\\\\tbackslash (\\)\n",
    "        \\'\tsingle quote (')\n",
    "        \\\"\tdouble quote (\")       "
   ]
  },
  {
   "cell_type": "code",
   "execution_count": 8,
   "metadata": {},
   "outputs": [
    {
     "name": "stdout",
     "output_type": "stream",
     "text": [
      "hello\n",
      "Python\n",
      "Your file is stored at C:\\Home\\UserA\n",
      "This is John's house\n"
     ]
    }
   ],
   "source": [
    "print('hello\\nPython')\n",
    "print('Your file is stored at C:\\\\Home\\\\UserA')\n",
    "print('This is John\\'s house')\n"
   ]
  },
  {
   "cell_type": "markdown",
   "metadata": {
    "slideshow": {
     "slide_type": "slide"
    }
   },
   "source": [
    "### Excerise 1 - Ask user for his first name, family name and age. Say him 'Hi' properly\n",
    "\n",
    "\n",
    "- your programm should ask the user 3 questions about\n",
    "        name\n",
    "        family name\n",
    "        age\n",
    "   \n",
    "    and print following text:\n",
    "   \n",
    "        Hello <first name> <second name>!\n",
    "        I know, that you are <put age here> years old.\n",
    "    \n",
    "    you can only use print() function once in your code\n"
   ]
  },
  {
   "cell_type": "code",
   "execution_count": 16,
   "metadata": {},
   "outputs": [
    {
     "name": "stdout",
     "output_type": "stream",
     "text": [
      "Plese enter your first name:John\n",
      "Plese enter your family name:Ivanov\n",
      "Plese enter your age:15\n",
      "\n",
      "Hello John Ivanov !\n",
      " I know, that you are 15 years old\n"
     ]
    }
   ],
   "source": [
    "first_name = input('Plese enter your first name:')\n",
    "family_name = input('Plese enter your family name:')\n",
    "age = input('Plese enter your age:')\n",
    "\n",
    "print('\\nHello', first_name, family_name, '!\\n', 'I know, that you are', age, 'years old')\n"
   ]
  },
  {
   "cell_type": "markdown",
   "metadata": {
    "slideshow": {
     "slide_type": "slide"
    }
   },
   "source": [
    "## For loop over strings\n",
    "\n",
    "- For Loops\n",
    "\n",
    "    The general form of a for loop over a string is:\n",
    "\n",
    "        for variable in str:\n",
    "            statements"
   ]
  },
  {
   "cell_type": "code",
   "execution_count": 19,
   "metadata": {
    "slideshow": {
     "slide_type": "slide"
    }
   },
   "outputs": [
    {
     "name": "stdout",
     "output_type": "stream",
     "text": [
      "a\n",
      "b\n",
      "c\n"
     ]
    }
   ],
   "source": [
    "string = 'abc'\n",
    "\n",
    "for letter in string:\n",
    "    print(letter)\n"
   ]
  },
  {
   "cell_type": "markdown",
   "metadata": {
    "collapsed": true,
    "slideshow": {
     "slide_type": "slide"
    }
   },
   "source": [
    "### Excerise2 - Calculate 'a' letters in a string\n",
    "\n",
    "- write a programm which asks a user to input a word and calculates how many occurences of letter 'a' are there\n",
    "    \n",
    "    for this you will need 'for loop over strings' and 'if' operator\n"
   ]
  },
  {
   "cell_type": "code",
   "execution_count": 32,
   "metadata": {},
   "outputs": [
    {
     "name": "stdout",
     "output_type": "stream",
     "text": [
      "Please enter a word:Abracadabra\n",
      "another occurence of \"a\" found...\n",
      "another occurence of \"a\" found...\n",
      "another occurence of \"a\" found...\n",
      "another occurence of \"a\" found...\n",
      "another occurence of \"a\" found...\n",
      "I have counted 5 occurence(s) of \"a\" in the word Abracadabra\n"
     ]
    }
   ],
   "source": [
    "word = input('Please enter a word:')\n",
    "\n",
    "number_of_a = 0\n",
    "\n",
    "for letter in word:\n",
    "    #if letter == 'a' or letter == 'A':\n",
    "    if letter.lower() == 'a':\n",
    "        number_of_a = number_of_a + 1\n",
    "        print('another occurence of \"a\" found...')\n",
    "\n",
    "print('I have counted', number_of_a, 'occurence(s) of \"a\" in the word', word)\n"
   ]
  },
  {
   "cell_type": "markdown",
   "metadata": {},
   "source": [
    "### while loops\n",
    "\n",
    "The general form of a while loop:\n",
    "\n",
    "        while expression:\n",
    "            statements"
   ]
  },
  {
   "cell_type": "code",
   "execution_count": 33,
   "metadata": {},
   "outputs": [
    {
     "name": "stdout",
     "output_type": "stream",
     "text": [
      "0\n",
      "1\n",
      "2\n",
      "3\n",
      "4\n",
      "5\n",
      "6\n",
      "7\n",
      "8\n",
      "9\n"
     ]
    }
   ],
   "source": [
    "a = 0\n",
    "\n",
    "while a < 10:\n",
    "    print(a)\n",
    "    a = a + 1"
   ]
  },
  {
   "cell_type": "code",
   "execution_count": 22,
   "metadata": {},
   "outputs": [
    {
     "name": "stdout",
     "output_type": "stream",
     "text": [
      "['Y', 'e', 's', 't', 'e', 'r', 'd', 'a', 'y']\n"
     ]
    }
   ],
   "source": []
  },
  {
   "cell_type": "markdown",
   "metadata": {
    "collapsed": true,
    "slideshow": {
     "slide_type": "slide"
    }
   },
   "source": [
    "###  Homework\n",
    "\n",
    "\n"
   ]
  }
 ],
 "metadata": {
  "celltoolbar": "Slideshow",
  "kernelspec": {
   "display_name": "Python 3",
   "language": "python",
   "name": "python3"
  },
  "language_info": {
   "codemirror_mode": {
    "name": "ipython",
    "version": 3
   },
   "file_extension": ".py",
   "mimetype": "text/x-python",
   "name": "python",
   "nbconvert_exporter": "python",
   "pygments_lexer": "ipython3",
   "version": "3.6.1"
  }
 },
 "nbformat": 4,
 "nbformat_minor": 2
}
