{
 "cells": [
  {
   "cell_type": "markdown",
   "metadata": {
    "slideshow": {
     "slide_type": "slide"
    }
   },
   "source": [
    "# Lesson 1\n",
    "\n",
    "1. What is a program?\n",
    "2. Course Objectives\n",
    "3. Python:\n",
    "    + Running your first program\n",
    "    +  Writing your first program\n",
    "    + Python as a calculator\n",
    "    + Variables"
   ]
  },
  {
   "cell_type": "markdown",
   "metadata": {
    "collapsed": true,
    "slideshow": {
     "slide_type": "slide"
    }
   },
   "source": [
    "### What is a program?"
   ]
  },
  {
   "cell_type": "markdown",
   "metadata": {
    "slideshow": {
     "slide_type": "subslide"
    }
   },
   "source": [
    "\n",
    "<img src=\"images/windows-10-explorer.png\">\n",
    "<table>\n",
    "<tr  style='background-color:white'>\n",
    "<td><img src=\"images/calculator.png\"  style= 'display:inline;'> </td>\n",
    "<td><img src=\"images/chrome.jpg\" style= 'display:inline;'> </td>\n",
    "</tr>\n",
    "</table>"
   ]
  },
  {
   "cell_type": "markdown",
   "metadata": {
    "slideshow": {
     "slide_type": "notes"
    }
   },
   "source": [
    "- Programs are not just about buttons and visible features\n",
    "- a lot of things are happening in the background\n",
    "- Try searching on Google, autocompletion? search results?\n",
    "- Youtube => how does it know what to recommend you when you open a video? https://www.youtube.com/watch?v=9TC8yF9GV8A"
   ]
  },
  {
   "cell_type": "markdown",
   "metadata": {
    "slideshow": {
     "slide_type": "notes"
    }
   },
   "source": [
    "### Programming languages \n",
    "\n",
    "<table>\n",
    "<tr  style='background-color:white'>\n",
    "<td><img src=\"images/java.png\"  style= 'display:inline;'> </td>\n",
    "<td><img src=\"images/c_plus.png\" style= 'display:inline;'> </td>\n",
    "<td><img src=\"images/python.jpeg\" style= 'display:inline;'> </td>\n",
    "\n",
    "<tr>\n",
    "</table>"
   ]
  },
  {
   "cell_type": "markdown",
   "metadata": {
    "slideshow": {
     "slide_type": "slide"
    }
   },
   "source": [
    "### Programming\n",
    "\n",
    "- Programming is just a tool\n",
    "- Problem solving skills are essential\n",
    "- Programming is used to implement Algorithms\n",
    "- An Algorithm is a step by step method to solve a problem, we use it all the time but we are not aware of it, Examples?\n",
    "  - Who can explain? \n",
    "  - Simple explanation: https://www.reddit.com/r/explainlikeimfive/comments/1fpdnt/eli5_algorithms/"
   ]
  },
  {
   "cell_type": "markdown",
   "metadata": {
    "slideshow": {
     "slide_type": "slide"
    }
   },
   "source": [
    "### By the end of this course\n",
    "\n",
    "1. Programming (black box -> open box)\n",
    "2. Implementing your own programs (Project/ mini projects)\n",
    "3. What you can reach using programming? and put you on the track of how to get there"
   ]
  },
  {
   "cell_type": "markdown",
   "metadata": {
    "slideshow": {
     "slide_type": "slide"
    }
   },
   "source": [
    "##  Why Python?\n",
    "### Easy language + Huge Capabilities + Online Support\n",
    "\n",
    "<table>\n",
    "<tr>\n",
    "<th>Python </th>\n",
    "<th> Java </th>\n",
    "<th>C++</th>\n",
    "<th>Ruby </th>\n",
    "</tr>\n",
    "<tr  style='background-color:white'>\n",
    "<td><img src=\"images/hello_world_python_.png\" style= 'display:inline;'> </td>\n",
    "<td><img src=\"images/hello_world_java.png\"  style= 'display:inline;'> </td>\n",
    "<td><img src=\"images/hello_world_c_plus.png\" style= 'display:inline;'> </td>\n",
    "<td><img src=\"images/hello_world_ruby.png\" style= 'display:inline;'> </td>\n",
    "</tr>\n",
    "</table>\n",
    "<table>\n",
    "<tr>\n",
    "<td>\n",
    "<img src=\"images/why_python.png\" style= 'display:inline;'>\n",
    "source: https://en.wikipedia.org/wiki/Programming_languages_used_in_most_popular_websites\n",
    "</td>\n",
    "</tr>\n",
    "</table>\n",
    "\n"
   ]
  },
  {
   "cell_type": "markdown",
   "metadata": {
    "slideshow": {
     "slide_type": "slide"
    }
   },
   "source": [
    "### Installing Python\n",
    "\n",
    "1. If you are using Linux => Good news! python is already installed (version 3.x)\n",
    "2. If you are using Windows => https://www.python.org/downloads/  (choose version 3.x)"
   ]
  },
  {
   "cell_type": "markdown",
   "metadata": {
    "slideshow": {
     "slide_type": "slide"
    }
   },
   "source": [
    "### Installing Code Editor\n",
    "- For this course we will be using Pycharm\n",
    "- There are other common editors used for python e.g. Sublime, Atom, etc.\n",
    "\n",
    "#### Installation\n",
    "1. Go here https://www.jetbrains.com/pycharm/download/\n",
    "2. Choose Community Edition\n",
    "3. For windows, installation is straightforward\n",
    "4. For linux:\n",
    "    If you are using ubuntu: sudo snap install pycharm-community --classic\n",
    "    If not please install manually\n",
    "    1. The download file has tar.gz (this is just a compressed file for linux)\n",
    "    2. Uncompress the file\n",
    "    3. Inside the extracted folder you will find bin folder which has a pycharmXXX.sh file\n",
    "    3. To open Pycharm you need to open terminal\n",
    "    4. type 'cd <path of bin folder inside pycharm folder>'\n",
    "    5. then type 'sh pycharmXXX.sh'\n",
    "\n"
   ]
  },
  {
   "cell_type": "markdown",
   "metadata": {
    "slideshow": {
     "slide_type": "slide"
    }
   },
   "source": [
    "## Running your first python program\n",
    "\n",
    "1. Open PyCharm\n",
    "2. Open python_examples folder\n",
    "3. Run hello_world.py\n"
   ]
  },
  {
   "cell_type": "markdown",
   "metadata": {
    "slideshow": {
     "slide_type": "slide"
    }
   },
   "source": [
    "### Using Python Shell\n",
    "- View -> Tool Windows -> Terminal -> write 'python'\n"
   ]
  },
  {
   "cell_type": "markdown",
   "metadata": {
    "slideshow": {
     "slide_type": "notes"
    }
   },
   "source": [
    "- There are different ways to run python code (python shell, running a file)"
   ]
  },
  {
   "cell_type": "markdown",
   "metadata": {
    "slideshow": {
     "slide_type": "slide"
    }
   },
   "source": [
    "### Using Python as a calculator\n",
    "- Operators: \n",
    "    - +\n",
    "    - - \n",
    "    - *\n",
    "    - /\n",
    "    - // \n",
    "    - %\n",
    "- Types: int vs float\n",
    "- Precedence"
   ]
  },
  {
   "cell_type": "markdown",
   "metadata": {
    "slideshow": {
     "slide_type": "slide"
    }
   },
   "source": [
    "## Examples from class\n",
    "### Create 3 variables\n",
    "```\n",
    "days = 7\n",
    "weeks = 4\n",
    "months = 12\n",
    "```\n",
    "### Calculate dayspermonth and print result\n",
    "```\n",
    "dayspermonth = days * weeks\n",
    "print(dayspermonth)\n",
    "```\n",
    "\n",
    "### Calculate days per year and print result\n",
    "```\n",
    "daysperyear = dayspermonth * months\n",
    "print(daysperyear)\n",
    "```\n",
    "### Create a variable for hours in a day, calculate how many hours are in a wee and print result\n",
    "```\n",
    "hours = 24\n",
    "hoursperweek = days * hours\n",
    "\n",
    "print(hoursperweek)\n",
    "```"
   ]
  },
  {
   "cell_type": "markdown",
   "metadata": {
    "slideshow": {
     "slide_type": "slide"
    }
   },
   "source": [
    "### Variables\n",
    "- For now anything we calculated is just printed\n",
    "- How to remember a value of an expression?\n",
    "- Similar to variables in math\n",
    "<img src=\"images/variables.png\">\n",
    "<img src=\"images/variables_named.png\">\n"
   ]
  },
  {
   "cell_type": "markdown",
   "metadata": {
    "slideshow": {
     "slide_type": "slide"
    }
   },
   "source": [
    "## Homework: Writing your first program\n",
    "#### Example 1 \n",
    " - write a program that prints out your name \n",
    " - Hint: you can modify the hello_world.py file to print your name instead of hello world and rerun it"
   ]
  },
  {
   "cell_type": "markdown",
   "metadata": {
    "slideshow": {
     "slide_type": "slide"
    }
   },
   "source": [
    "## Homework: Calculate and print result\n",
    "- Calculate apartments per floor\n",
    " - Create a variable with the total apartments in a building (e.g. totalapartments = 50). Create a variable with number of floors (e.g. floors=10). Calculate apartments per floor (use divisions x/y and save result to a new variable apartPerFloor)\n",
    "  - print result using print\n",
    " - Create a variable witn the number of students in a class (variable students), a variable for how many total minutes are in a lesson (variable total_time) and a variable with how much time each exercise lasts (exercise_time). For example 22 students, 60 minutes in total and 10 minutes per exercise\n",
    "  1. Calculate how much time we can give to every student: divide total_time with students and save result in a new variable\n",
    "  2. Calculate how many exercices every student can make: divide total_time with exercise_time and save result in a new variable\n",
    "  3. How many exercices can be done in total for all students. Multiple variable of number of students with result from step 2.\n",
    "  4. print results. Hint: use print and instead of \"hello_world\" inside the parenthesis use the variables you used\n",
    "   - Bonus: Make output more beautiful using multiple prints. For example:\n",
    "   ```\n",
    "   print(\"Total number of students\")\n",
    "   print(students)\n",
    "   ```\n",
    "   and do this for all your variables.\n",
    "\n"
   ]
  },
  {
   "cell_type": "markdown",
   "metadata": {
    "collapsed": true,
    "slideshow": {
     "slide_type": "notes"
    }
   },
   "source": [
    "## Recommended book\n",
    " - https://automatetheboringstuff.com/"
   ]
  },
  {
   "cell_type": "markdown",
   "metadata": {},
   "source": [
    "## Project ideas\n",
    "### Recipe manager (Intermediate to advanced)\n",
    "- Get input from user: recipe ingredients, amount\n",
    "- Calculate nutrient information (calories, protein etc)\n",
    " - Optional step: Get nutrient information from a database or online\n",
    "- Save recipe to disk\n",
    " - Simple: save to file\n",
    " - Advanced: sqlite database\n",
    "- Ability to search recipes\n",
    "\n",
    "### Chatbot (Intermediate)\n",
    "- Get messages from user\n",
    "- Read answers from file and answer to user\n",
    " - Simple: read answers from file\n",
    " - Advanced: read answers from database\n",
    " \n",
    "### reddit parser (Advanced)\n",
    "- Get news articles from reddit.com\n",
    " - Connect over http: Use reddit APIs\n",
    " - Retrieve articles\n",
    " - Filter\n",
    " - Save articles to disk\n",
    "- Allow the user to filter and read specific articles\n",
    "    - Advanced: Search for words \n",
    "\n"
   ]
  },
  {
   "cell_type": "markdown",
   "metadata": {},
   "source": [
    "### Data Types\n",
    "\n",
    "\n",
    "Integers:\n",
    "-2, -1, 0, 1, 2, 3, 4, 5\n",
    "\n",
    "Floating-point numbers:\n",
    "-1.25, -1.0, --0.5, 0.0, 0.5, 1.0, 1.25\n",
    "\n",
    "Strings:\n",
    "'a', 'aa', 'aaa', 'Hello!', '11 cats'\n"
   ]
  },
  {
   "cell_type": "markdown",
   "metadata": {},
   "source": [
    "### Operators and order of operations (precedence)\n",
    "\n",
    "| Operator | Operation | Example | Evaluates to... |\n",
    "| -------- | --------- | ------- | --------------- |\n",
    "| / | Division | 22 / 8 | 2.75 |\n",
    "| * | Multiplication | 3 * 5 | 15 |\n",
    "| - | Subtraction | 5 - 2 | 3 |\n",
    "| + | Addition | 2 + 2 | 4 |\n",
    "\n",
    "The order of operations (also called precedence) of Python math operators is similar to that of mathematics. The ** operator is evaluated first; the *, /, //, and % operators are evaluated next, from left to right; and the + and - operators are evaluated last (also from left to right). Enter the following expressions into the interactive shell:\n",
    "\n",
    "```\n",
    ">>> 2 + 3 * 6\n",
    "20\n",
    ">>> (2 + 3) * 6\n",
    "30\n",
    ">>> 48565878 * 578453\n",
    "28093077826734\n",
    ">>> 2 ** 8\n",
    "256\n",
    ">>> 23 / 7\n",
    "3.2857142857142856\n",
    ">>> 23 // 7\n",
    "3\n",
    ">>> 23 % 7\n",
    "2\n",
    ">>> 2     +            2\n",
    "4\n",
    "```\n",
    "You can use parentheses to override the usual precedence if you need to.\n",
    "```\n",
    ">>> 3 + 3 * 4\n",
    ">>> (3 + 3) * 4\n",
    "```\n"
   ]
  },
  {
   "cell_type": "markdown",
   "metadata": {},
   "source": [
    "## Exercise 1\n",
    "You are in a country X and travelling to Germany next week. You have 100 dollars and you want to convert them to euros. You go to a currency exchange center and they tell you that they cannot convert it directly. They have to first convert the 100 dollars to currency X, and then convert it from currency X to euros. How many euros will you have in the end?\n",
    "\n",
    "- Exchange rate from dollars to currency X is 15\n",
    "\n",
    "- Exchange rate from currency X to euros is 0.05"
   ]
  },
  {
   "cell_type": "code",
   "execution_count": 2,
   "metadata": {},
   "outputs": [
    {
     "data": {
      "text/plain": [
       "75.0"
      ]
     },
     "execution_count": 2,
     "metadata": {},
     "output_type": "execute_result"
    }
   ],
   "source": [
    "# Exercise 1 Solution\n",
    "dollars = 100\n",
    "X = 15\n",
    "exchange = dollars * X\n",
    "exchange\n",
    "1500\n",
    "euros = 0.05\n",
    "total = exchange * euros\n",
    "total\n",
    "75.0"
   ]
  },
  {
   "cell_type": "markdown",
   "metadata": {},
   "source": [
    "## Building strings\n",
    "\n",
    "firstName = \"Alexandros\"\n",
    "\n",
    "lastName = \"Antonopoulos\"\n",
    "\n",
    "fullName = firstName + lastName\n",
    "\n",
    "print(??) Try with your name\n",
    "\n",
    "\\+ between strings creates a new longer string\n",
    "This is different compared to number addition\n",
    "```\n",
    ">>> 3 + 3\n",
    "6\n",
    ">>> \"3\" + \"3\"\n",
    "'33'\n",
    ">>> \"Alexandros is number \" + 3\n",
    "Traceback (most recent call last):\n",
    "  File \"<stdin>\", line 1, in <module>\n",
    "TypeError: cannot concatenate 'str' and 'int' objects\n",
    "```\n",
    "\n",
    "But what if we really want to add 3 to the previous string?\n",
    "We can convert types by asking python to do that for us:\n",
    "```\n",
    ">>>str(3)\n",
    "'3'\n",
    "\n",
    ">>> my_number = 3\n",
    "\n",
    ">>> \"Alexandros is number \" + str(my_number)\n",
    "'Alexandros is number 3\"\n",
    "```\n"
   ]
  },
  {
   "cell_type": "markdown",
   "metadata": {},
   "source": [
    "## Comments\n",
    "\n",
    "Python has two ways of adding comments in scripts\n",
    "Single line comments:\n",
    "```\n",
    "# In the next line I will create a variable and give it a value\n",
    "i_am_prime = 42227 \n",
    "```\n",
    "or multi-line comments:\n",
    "```\n",
    "\"\"\"\n",
    "This will comment a multi-line comment\n",
    "Create 2 variables that are prime\n",
    "Add them and print the result\n",
    "\"\"\"\n",
    "i_am_one_prime = 3\n",
    "i_am_another_prime = 5\n",
    "but_i_am_not = i_am_one_prime + i_am_another_prime\n",
    "print(but_i_am_not)\n",
    "```\n",
    "\n",
    "But why should I comment? Some may ask.  \n",
    "Documenting is soooo boring.  \n",
    "Can you think why?"
   ]
  },
  {
   "cell_type": "markdown",
   "metadata": {},
   "source": [
    "## Exercise 2\n",
    "\n",
    "Using the numbers 3, 4 and 2 how do we use them to calculate 18?\n",
    "Hint: Multiply 3 and 4\n",
    "Bonus point: use variables\n",
    "\n",
    "Do this in the pycharm python console"
   ]
  },
  {
   "cell_type": "code",
   "execution_count": 6,
   "metadata": {},
   "outputs": [
    {
     "data": {
      "text/plain": [
       "18"
      ]
     },
     "execution_count": 6,
     "metadata": {},
     "output_type": "execute_result"
    }
   ],
   "source": [
    "3*(4+2)\n"
   ]
  },
  {
   "cell_type": "markdown",
   "metadata": {},
   "source": [
    "## Exercise 3\n",
    "\n",
    "Let's create a variable bananas (give it any value you want)\n",
    "\n",
    "How can we print a message saying:\n",
    "```\n",
    "\"I have eaten X ripe bananas\"\n",
    "```\n",
    "where X is the value you have assigned to the variable bananas earlier?"
   ]
  },
  {
   "cell_type": "code",
   "execution_count": 11,
   "metadata": {},
   "outputs": [
    {
     "name": "stdout",
     "output_type": "stream",
     "text": [
      "I have eaten 42 bananas\n",
      "I have eaten 42 bananas\n",
      "I have eaten 42 bananas\n"
     ]
    }
   ],
   "source": [
    "# Solution exercise 3\n",
    "X = 42\n",
    "\n",
    "# Approach 1\n",
    "print(\"I have eaten \" + str(X) + \" bananas\")\n",
    "# Approach 2\n",
    "sentence_1 = \"I have eaten \"\n",
    "sentence_2 = \" bananas\"\n",
    "X = str(X)\n",
    "print(sentence_1 + X + sentence_2)\n",
    "\n",
    "\n",
    "# Warning: Fairly advanced approach; only for the curious.\n",
    "# Python gives us many powerful ways to handle strings.\n",
    "# We will explain and address this later in the class\n",
    "print(\"I have eaten {} bananas\".format(X))"
   ]
  }
 ],
 "metadata": {
  "celltoolbar": "Slideshow",
  "kernelspec": {
   "display_name": "Python 3",
   "language": "python",
   "name": "python3"
  },
  "language_info": {
   "codemirror_mode": {
    "name": "ipython",
    "version": 3
   },
   "file_extension": ".py",
   "mimetype": "text/x-python",
   "name": "python",
   "nbconvert_exporter": "python",
   "pygments_lexer": "ipython3",
   "version": "3.6.3"
  }
 },
 "nbformat": 4,
 "nbformat_minor": 1
}
