{
 "cells": [
  {
   "cell_type": "markdown",
   "metadata": {},
   "source": [
    "## Tuples\n",
    "\n",
    "\n",
    "- Sequence of elements, similar to lists\n",
    "- Unlike lists Once you initialize a tuple, you cannot edit it anymore aka tuples are **immutable** and lists are **mutable**\n",
    "\n",
    "\n",
    "https://docs.python.org/2/library/stdtypes.html#typesseq"
   ]
  },
  {
   "cell_type": "code",
   "execution_count": 1,
   "metadata": {},
   "outputs": [
    {
     "data": {
      "text/plain": [
       "('check', 2, 3, 4)"
      ]
     },
     "execution_count": 1,
     "metadata": {},
     "output_type": "execute_result"
    }
   ],
   "source": [
    "tup = ('check',2,3,4)\n",
    "tup"
   ]
  },
  {
   "cell_type": "code",
   "execution_count": 2,
   "metadata": {},
   "outputs": [
    {
     "data": {
      "text/plain": [
       "tuple"
      ]
     },
     "execution_count": 2,
     "metadata": {},
     "output_type": "execute_result"
    }
   ],
   "source": [
    "type(tup)"
   ]
  },
  {
   "cell_type": "code",
   "execution_count": 3,
   "metadata": {},
   "outputs": [
    {
     "data": {
      "text/plain": [
       "'check'"
      ]
     },
     "execution_count": 3,
     "metadata": {},
     "output_type": "execute_result"
    }
   ],
   "source": [
    "tup[0]"
   ]
  },
  {
   "cell_type": "code",
   "execution_count": 4,
   "metadata": {},
   "outputs": [
    {
     "data": {
      "text/plain": [
       "4"
      ]
     },
     "execution_count": 4,
     "metadata": {},
     "output_type": "execute_result"
    }
   ],
   "source": [
    "len(tup)"
   ]
  },
  {
   "cell_type": "code",
   "execution_count": 5,
   "metadata": {},
   "outputs": [
    {
     "name": "stdout",
     "output_type": "stream",
     "text": [
      "check\n",
      "2\n",
      "3\n",
      "4\n"
     ]
    }
   ],
   "source": [
    "for element in tup:\n",
    "    print(element)"
   ]
  },
  {
   "cell_type": "code",
   "execution_count": 6,
   "metadata": {},
   "outputs": [
    {
     "ename": "TypeError",
     "evalue": "'tuple' object does not support item assignment",
     "output_type": "error",
     "traceback": [
      "\u001b[0;31m---------------------------------------------------------------------------\u001b[0m",
      "\u001b[0;31mTypeError\u001b[0m                                 Traceback (most recent call last)",
      "\u001b[0;32m<ipython-input-6-7e408c05585b>\u001b[0m in \u001b[0;36m<module>\u001b[0;34m()\u001b[0m\n\u001b[0;32m----> 1\u001b[0;31m \u001b[0mtup\u001b[0m\u001b[0;34m[\u001b[0m\u001b[0;36m0\u001b[0m\u001b[0;34m]\u001b[0m \u001b[0;34m=\u001b[0m \u001b[0;36m1\u001b[0m\u001b[0;34m\u001b[0m\u001b[0m\n\u001b[0m",
      "\u001b[0;31mTypeError\u001b[0m: 'tuple' object does not support item assignment"
     ]
    }
   ],
   "source": [
    "tup[0] = 1"
   ]
  },
  {
   "cell_type": "markdown",
   "metadata": {},
   "source": [
    "## Sets\n",
    "\n",
    "Similar to lists but elements inside the set are **distinct (all different)**\n",
    "\n",
    "Common uses:\n",
    "    - membership testing\n",
    "    - removing duplicates from a sequence \n",
    "    - computing mathematical operations such as intersection, union, difference, and symmetric difference"
   ]
  },
  {
   "cell_type": "code",
   "execution_count": 7,
   "metadata": {},
   "outputs": [
    {
     "data": {
      "text/plain": [
       "{1, 2, 3}"
      ]
     },
     "execution_count": 7,
     "metadata": {},
     "output_type": "execute_result"
    }
   ],
   "source": [
    "s = {1,2,3,1,1,1,1}\n",
    "s"
   ]
  },
  {
   "cell_type": "code",
   "execution_count": 25,
   "metadata": {},
   "outputs": [
    {
     "data": {
      "text/plain": [
       "set"
      ]
     },
     "execution_count": 25,
     "metadata": {},
     "output_type": "execute_result"
    }
   ],
   "source": [
    "type(s)"
   ]
  },
  {
   "cell_type": "code",
   "execution_count": 26,
   "metadata": {},
   "outputs": [
    {
     "data": {
      "text/plain": [
       "{1, 2, 3}"
      ]
     },
     "execution_count": 26,
     "metadata": {},
     "output_type": "execute_result"
    }
   ],
   "source": [
    "s = {1,2,3,1,1,1,1}\n",
    "s"
   ]
  },
  {
   "cell_type": "code",
   "execution_count": 31,
   "metadata": {},
   "outputs": [
    {
     "data": {
      "text/plain": [
       "{3, 4}"
      ]
     },
     "execution_count": 31,
     "metadata": {},
     "output_type": "execute_result"
    }
   ],
   "source": [
    "set1 = {1,2,3,4}\n",
    "set2 = {3,4,5,6,7}\n",
    "set1 & set2"
   ]
  },
  {
   "cell_type": "code",
   "execution_count": 32,
   "metadata": {},
   "outputs": [
    {
     "data": {
      "text/plain": [
       "{1, 2, 3, 4, 5, 6, 7}"
      ]
     },
     "execution_count": 32,
     "metadata": {},
     "output_type": "execute_result"
    }
   ],
   "source": [
    "set1 | set2"
   ]
  },
  {
   "cell_type": "code",
   "execution_count": 33,
   "metadata": {},
   "outputs": [
    {
     "data": {
      "text/plain": [
       "{1, 2, 5, 6, 7}"
      ]
     },
     "execution_count": 33,
     "metadata": {},
     "output_type": "execute_result"
    }
   ],
   "source": [
    "set1^set2"
   ]
  },
  {
   "cell_type": "code",
   "execution_count": 34,
   "metadata": {},
   "outputs": [
    {
     "data": {
      "text/plain": [
       "{1, 2}"
      ]
     },
     "execution_count": 34,
     "metadata": {},
     "output_type": "execute_result"
    }
   ],
   "source": [
    "set1 - set2"
   ]
  },
  {
   "cell_type": "markdown",
   "metadata": {},
   "source": [
    "### Example1:\n",
    "\n",
    "- We asked the students in each REDI class to state their mother tongue languages\n",
    "\n",
    " - Python class: russian, french, arabic, arabic, arabic, arabic, farsi\n",
    " - Java class: english, kurdish, arabic, arabic, french\n",
    " \n",
    " \n",
    "**We would like the answer the below questions:**\n",
    "\n",
    "- How many different languages do we have in each class?\n",
    "- How many different languages in both classes?\n",
    "- How many common languages between the two classes?\n",
    "- What are the languages that are found in only one class (not in both)"
   ]
  },
  {
   "cell_type": "code",
   "execution_count": 15,
   "metadata": {},
   "outputs": [
    {
     "data": {
      "text/plain": [
       "{'arabic', 'farsi', 'french', 'russian'}"
      ]
     },
     "execution_count": 15,
     "metadata": {},
     "output_type": "execute_result"
    }
   ],
   "source": [
    "languages1 = {'russian', 'french', 'arabic', 'arabic','arabic', 'farsi'}\n",
    "languages1"
   ]
  },
  {
   "cell_type": "code",
   "execution_count": 11,
   "metadata": {},
   "outputs": [],
   "source": [
    "#languages1 = ['russian', 'french', 'arabic', 'arabic','arabic', 'farsi']\n",
    "#distinct_languages = set(languages1)"
   ]
  },
  {
   "cell_type": "code",
   "execution_count": 12,
   "metadata": {},
   "outputs": [
    {
     "data": {
      "text/plain": [
       "4"
      ]
     },
     "execution_count": 12,
     "metadata": {},
     "output_type": "execute_result"
    }
   ],
   "source": [
    "len(distinct_languages)"
   ]
  },
  {
   "cell_type": "code",
   "execution_count": 13,
   "metadata": {
    "collapsed": true
   },
   "outputs": [],
   "source": [
    "languages2 = {'english', 'kurdish', 'arabic', 'arabic', 'french'}"
   ]
  },
  {
   "cell_type": "code",
   "execution_count": 14,
   "metadata": {},
   "outputs": [
    {
     "data": {
      "text/plain": [
       "4"
      ]
     },
     "execution_count": 14,
     "metadata": {},
     "output_type": "execute_result"
    }
   ],
   "source": [
    "len(languages2)"
   ]
  },
  {
   "cell_type": "code",
   "execution_count": 16,
   "metadata": {},
   "outputs": [
    {
     "data": {
      "text/plain": [
       "{'arabic', 'french'}"
      ]
     },
     "execution_count": 16,
     "metadata": {},
     "output_type": "execute_result"
    }
   ],
   "source": [
    "common_languages = languages1 & languages2\n",
    "common_languages"
   ]
  },
  {
   "cell_type": "code",
   "execution_count": 18,
   "metadata": {},
   "outputs": [
    {
     "data": {
      "text/plain": [
       "{'english', 'farsi', 'kurdish', 'russian'}"
      ]
     },
     "execution_count": 18,
     "metadata": {},
     "output_type": "execute_result"
    }
   ],
   "source": [
    "one_class_languages = languages1 ^ languages2\n",
    "one_class_languages"
   ]
  },
  {
   "cell_type": "markdown",
   "metadata": {},
   "source": [
    "## Dictionaries\n"
   ]
  },
  {
   "cell_type": "markdown",
   "metadata": {},
   "source": [
    "### Motivating Exercise:\n",
    "- Suppose we have grades for a specific student, the student has different subjects and each subject has a grade\n",
    "\n",
    "\n",
    "\n",
    " - Math => 5\n",
    " - Science => 3\n",
    " - English => 10\n",
    " - German => 6\n",
    " \n",
    "- How do we represent this information in our program?\n",
    "\n",
    "- What will we use it for?\n",
    "\n",
    "    - Write a function that takes as input subject name and prints out the student's grade\n",
    "    - Write a function that takes as input subject name and a grade and do one of two things:\n",
    "            - if we already have a previous grade for the subject, update the grade\n",
    "            - if we did not have this subject before, add it to the student's grades\n",
    "            \n",
    " \n",
    " "
   ]
  },
  {
   "cell_type": "code",
   "execution_count": 20,
   "metadata": {
    "collapsed": true
   },
   "outputs": [],
   "source": [
    "grades = [['Math', 5], ['Science', 3], ['English', 10], ['German', 6]]"
   ]
  },
  {
   "cell_type": "code",
   "execution_count": 23,
   "metadata": {},
   "outputs": [
    {
     "data": {
      "text/plain": [
       "'Math'"
      ]
     },
     "execution_count": 23,
     "metadata": {},
     "output_type": "execute_result"
    }
   ],
   "source": [
    "grades[0][0]"
   ]
  },
  {
   "cell_type": "code",
   "execution_count": 27,
   "metadata": {},
   "outputs": [],
   "source": [
    "##Solution 1 using lists \n",
    "grades = [['Math', 5], ['Science', 3], ['English', 10], ['German', 6]]\n",
    "\n",
    "subject_name = 'blah'\n",
    "\n",
    "for grade in grades:\n",
    "    if grade[0] == subject_name:\n",
    "        print(grade[1])\n",
    "    \n"
   ]
  },
  {
   "cell_type": "markdown",
   "metadata": {},
   "source": [
    "#### How to define a dictionary\n"
   ]
  },
  {
   "cell_type": "code",
   "execution_count": 33,
   "metadata": {
    "collapsed": true
   },
   "outputs": [],
   "source": [
    "\n",
    "grades_dict = {'Math': 5,'Science': 3, 'English': 10,'German': 6}"
   ]
  },
  {
   "cell_type": "markdown",
   "metadata": {},
   "source": [
    "#### Accessing an element in a list vs in a dictionary"
   ]
  },
  {
   "cell_type": "code",
   "execution_count": 34,
   "metadata": {},
   "outputs": [
    {
     "data": {
      "text/plain": [
       "['Math', 5]"
      ]
     },
     "execution_count": 34,
     "metadata": {},
     "output_type": "execute_result"
    }
   ],
   "source": [
    "grades_list[0]"
   ]
  },
  {
   "cell_type": "code",
   "execution_count": 39,
   "metadata": {},
   "outputs": [
    {
     "data": {
      "text/plain": [
       "3"
      ]
     },
     "execution_count": 39,
     "metadata": {},
     "output_type": "execute_result"
    }
   ],
   "source": [
    "grades_dict['Science']"
   ]
  },
  {
   "cell_type": "markdown",
   "metadata": {},
   "source": [
    "#### Going over the values of the dict"
   ]
  },
  {
   "cell_type": "code",
   "execution_count": 44,
   "metadata": {},
   "outputs": [
    {
     "name": "stdout",
     "output_type": "stream",
     "text": [
      "6\n",
      "3\n",
      "5\n",
      "10\n"
     ]
    }
   ],
   "source": [
    "# Way 1\n",
    "for key in grades_dict:\n",
    "    print(grades_dict[key])"
   ]
  },
  {
   "cell_type": "code",
   "execution_count": 45,
   "metadata": {},
   "outputs": [
    {
     "name": "stdout",
     "output_type": "stream",
     "text": [
      "6\n",
      "3\n",
      "5\n",
      "10\n"
     ]
    }
   ],
   "source": [
    "# Way 2\n",
    "for value in grades_dict.values():\n",
    "    print(value)"
   ]
  },
  {
   "cell_type": "markdown",
   "metadata": {},
   "source": [
    "#### Getting Dictionary keys"
   ]
  },
  {
   "cell_type": "code",
   "execution_count": 42,
   "metadata": {},
   "outputs": [
    {
     "data": {
      "text/plain": [
       "['German', 'Science', 'Math', 'English']"
      ]
     },
     "execution_count": 42,
     "metadata": {},
     "output_type": "execute_result"
    }
   ],
   "source": [
    "grades_dict.keys()"
   ]
  },
  {
   "cell_type": "code",
   "execution_count": 43,
   "metadata": {},
   "outputs": [
    {
     "data": {
      "text/plain": [
       "[6, 3, 5, 10]"
      ]
     },
     "execution_count": 43,
     "metadata": {},
     "output_type": "execute_result"
    }
   ],
   "source": [
    "grades_dict.values()"
   ]
  },
  {
   "cell_type": "code",
   "execution_count": null,
   "metadata": {
    "collapsed": true
   },
   "outputs": [],
   "source": [
    "### Solution 2 using dicts\n",
    "grades_dict = {'Math': 5,'Science': 3, 'English': 10,'German': 6}\n",
    "subject_name = raw_input('Enter subject ')\n",
    "\n",
    "if subject_name in grades_dict:\n",
    "    print(grades_dict[subject_name])\n",
    "else:\n",
    "    print('subject not found')"
   ]
  },
  {
   "cell_type": "markdown",
   "metadata": {},
   "source": [
    "### Syntax\n",
    "- General form\n",
    "        {key1:value1, key2:value2, key3:value3....}\n",
    "- Each key cannot occur more than once in the dictionary"
   ]
  },
  {
   "cell_type": "markdown",
   "metadata": {},
   "source": [
    "### Exercise 2\n",
    "\n",
    "    d = {'a':1, 2:'b'}\n",
    "    \n",
    "1. What are the keys in the above dictionary?\n",
    "2. what is the value of d[2]?\n",
    "\n",
    "source: https://www.coursera.org/learn/learn-to-program"
   ]
  },
  {
   "cell_type": "code",
   "execution_count": 46,
   "metadata": {
    "collapsed": true
   },
   "outputs": [],
   "source": [
    "d = {'a':1, 2:'b'}"
   ]
  },
  {
   "cell_type": "code",
   "execution_count": 47,
   "metadata": {},
   "outputs": [
    {
     "data": {
      "text/plain": [
       "['a', 2]"
      ]
     },
     "execution_count": 47,
     "metadata": {},
     "output_type": "execute_result"
    }
   ],
   "source": [
    "d.keys()"
   ]
  },
  {
   "cell_type": "code",
   "execution_count": 48,
   "metadata": {},
   "outputs": [
    {
     "data": {
      "text/plain": [
       "'b'"
      ]
     },
     "execution_count": 48,
     "metadata": {},
     "output_type": "execute_result"
    }
   ],
   "source": [
    "d[2]"
   ]
  },
  {
   "cell_type": "markdown",
   "metadata": {},
   "source": [
    "### Exercise 3 \n",
    "\n",
    "Given a list of elements in an array, we want to know how many times each element occurs in the list\n",
    "\n",
    "example : list_words = ['english', 'german', 'spanish', 'italian', 'english', 'arabic', 'farsi', 'german', 'english']\n",
    "\n",
    "output:\n",
    " - english: 3\n",
    " - german: 2\n",
    " - spanish: 1\n",
    " - italian: 1\n",
    " - arabic: 1\n",
    " - farsi: 1\n",
    " \n"
   ]
  },
  {
   "cell_type": "markdown",
   "metadata": {},
   "source": [
    "### Exercise 4 (revisiting example)\n",
    "\n",
    "\n",
    "Write a program that takes as input a list of student grades. A student grade can be either A/B/C/D/F. output the number of students having each grade.\n",
    "\n",
    "Example:\n",
    "\n",
    "- input_list = ['A', 'A', 'B', 'C', 'C', 'C', 'D','F','F']\n",
    "\n",
    "output:\n",
    "\n",
    "- A: 2 Students\n",
    "- B: 1 Student\n",
    "- C: 3 Students\n",
    "- D: 1 Student\n",
    "- F: 2 students\n"
   ]
  },
  {
   "cell_type": "code",
   "execution_count": 1,
   "metadata": {},
   "outputs": [
    {
     "name": "stdout",
     "output_type": "stream",
     "text": [
      "('Number of people who got the grade A:', 2)\n",
      "('Number of people who got the grade B:', 1)\n",
      "('Number of people who got the grade C:', 3)\n",
      "('Number of people who got the grade D:', 1)\n",
      "('Number of people who got the grade F:', 2)\n"
     ]
    }
   ],
   "source": [
    "###\n",
    "list_grades = ['A', 'A', 'B','C', 'C', 'C', 'D', 'F', 'F']\n",
    "count_a = 0\n",
    "count_b = 0\n",
    "count_c = 0\n",
    "count_d = 0\n",
    "count_f = 0\n",
    "for element in list_grades:\n",
    "    if(element == 'A'):\n",
    "        count_a = count_a + 1\n",
    "    elif(element == 'B'):\n",
    "        count_b = count_b + 1\n",
    "    elif(element == 'C'):\n",
    "        count_c = count_c + 1\n",
    "    elif(element == 'D'):\n",
    "        count_d = count_d + 1\n",
    "    else:\n",
    "        count_f = count_f + 1\n",
    "print('Number of people who got the grade A:',count_a)\n",
    "print('Number of people who got the grade B:',count_b)\n",
    "print('Number of people who got the grade C:',count_c)\n",
    "print('Number of people who got the grade D:',count_d)\n",
    "print('Number of people who got the grade F:',count_f)"
   ]
  },
  {
   "cell_type": "markdown",
   "metadata": {},
   "source": []
  }
 ],
 "metadata": {
  "kernelspec": {
   "display_name": "Python 2.7",
   "language": "python",
   "name": "env27"
  },
  "language_info": {
   "codemirror_mode": {
    "name": "ipython",
    "version": 2
   },
   "file_extension": ".py",
   "mimetype": "text/x-python",
   "name": "python",
   "nbconvert_exporter": "python",
   "pygments_lexer": "ipython2",
   "version": "2.7.13"
  }
 },
 "nbformat": 4,
 "nbformat_minor": 2
}
