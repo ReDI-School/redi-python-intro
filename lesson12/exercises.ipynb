{
 "cells": [
  {
   "cell_type": "markdown",
   "metadata": {},
   "source": [
    "### Exercise 1 \n",
    "\n",
    "\n",
    "Write a program that tells the user how to greet people in different languages. Your program should support English, German, Italian, French, and Portuguese\n",
    "\n",
    "Example:\n",
    "- program > Which language?\n",
    "- user > English\n",
    "- program > Greeting: Hello\n"
   ]
  },
  {
   "cell_type": "markdown",
   "metadata": {},
   "source": [
    "### Exercise 2\n",
    "\n",
    "Write a program that given a number and a list of numbers, the program should print out the position of this number in the list.\n",
    "\n",
    "Note: \n",
    "- Do not use any predefined functions.\n",
    "\n",
    "- Part 1: If the number occurs several times in the list print all the positions\n",
    "- Part 2: If the number occurs several time, return the first position only\n",
    "- Part 3: Turn your program into a function with header find_number(number, n_list, return_first)\n",
    "\n",
    "\n",
    "##### Example:\n",
    "\n",
    "**Part 1**\n",
    "\n",
    "number = 5 ,  n_list = [5,7,8,5]\n",
    "\n",
    "output:\n",
    "found at position 0\n",
    "found at position 3\n",
    "\n",
    "\n",
    "**Part 2**\n",
    "number = 5 , n_list = [5,7,8,5]\n",
    "output:\n",
    "found at position 0\n",
    "\n",
    "** Part 3 **\n",
    "\n",
    "    find_number(5, [5,7,8,5], False)\n",
    "    [0,3]\n",
    "    find_number(5, [5,7,8,5], True)\n",
    "    0\n"
   ]
  },
  {
   "cell_type": "markdown",
   "metadata": {},
   "source": [
    "### Exercise 3  \n",
    "\n",
    "Write a function reverse_file(input_filepath, output_filepath) that takes a file as input  and writes out an output file with the same lines as input file but in reverse order\n",
    "\n",
    "easy version: you can return the lines as a list in reverse order\n",
    "\n",
    "\n",
    "##### Example:\n",
    "\n",
    "**input file**\n",
    "- Hello\n",
    "- My Name is Kareem\n",
    "- I am 15 years old\n",
    "- Bye!\n",
    "\n",
    "**output file**\n",
    "\n",
    "- Bye!\n",
    "- I am 15 years old\n",
    "- My Name is Kareem\n",
    "- Hello\n",
    "\n",
    "\n",
    "\n"
   ]
  },
  {
   "cell_type": "markdown",
   "metadata": {},
   "source": [
    "### Exercise 4\n",
    "\n",
    "**Part 1**\n",
    "Write a class called Student which has the following:\n",
    "\n",
    "attributes:\n",
    "1. name => string\n",
    "2. age => int\n",
    "3. id => string\n",
    "4. courses => list of strings\n",
    "5. grades => dict\n",
    "\n",
    "methods:\n",
    "1. enroll_course(course_name) which adds a new course to list of courses\n",
    "2. add_grade(course_name, grade) where grade is from 0 to 100\n",
    "3. get_average_grade() returns the average of all the student grades\n",
    "\n",
    "** Part 2**\n",
    "\n",
    "1. create an object student with name : Kareem, age: 25, id : 2000\n",
    "2. create an object student with name : Essam, age: 23, id : 2500\n",
    "3. Add courses 'Math' and 'Science' to Kareem's list of courses\n",
    "4. Add courses 'Economics' and 'Statistics' to Essams's list of courses\n",
    "5. Add grade Math:70 and Science:50 to Kareem's list of grades \n",
    "6. Add grade Economics:30 and Statistics:100 to Essams's list of grades\n",
    "7. Check which student has a higher average grade\n",
    "\n",
    "\n",
    "\n",
    "\n",
    "\n",
    "\n",
    "\n"
   ]
  },
  {
   "cell_type": "code",
   "execution_count": null,
   "metadata": {
    "collapsed": true
   },
   "outputs": [],
   "source": []
  }
 ],
 "metadata": {
  "kernelspec": {
   "display_name": "Python 2.7",
   "language": "python",
   "name": "env27"
  },
  "language_info": {
   "codemirror_mode": {
    "name": "ipython",
    "version": 2
   },
   "file_extension": ".py",
   "mimetype": "text/x-python",
   "name": "python",
   "nbconvert_exporter": "python",
   "pygments_lexer": "ipython2",
   "version": "2.7.13"
  }
 },
 "nbformat": 4,
 "nbformat_minor": 2
}
