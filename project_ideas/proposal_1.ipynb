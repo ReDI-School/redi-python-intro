{
 "cells": [
  {
   "cell_type": "markdown",
   "metadata": {},
   "source": [
    "## Project 1 - Chatbot"
   ]
  },
  {
   "cell_type": "markdown",
   "metadata": {},
   "source": [
    "# Inspiration\n",
    "<img src='images/superman.png'/>\n",
    "\n",
    "link: https://chatbotsmagazine.com/25-of-the-best-facebook-bots-to-chat-with-f159bca02dce"
   ]
  },
  {
   "cell_type": "markdown",
   "metadata": {},
   "source": [
    "### Phase 1 - Echo Bot - Deadline 16th Oct  [5 Points]\n",
    "short description : an annoying bot that repeats everything you say until you say 'I am leaving'"
   ]
  },
  {
   "cell_type": "markdown",
   "metadata": {},
   "source": [
    "<img src='images/phase_smaller.png'/>"
   ]
  },
  {
   "cell_type": "markdown",
   "metadata": {},
   "source": [
    "### Phase 2 - Zero IQ Bot  (Bilingual German & English) - Deadline 26 October"
   ]
  },
  {
   "cell_type": "markdown",
   "metadata": {},
   "source": [
    "Given a set of template question-answers. If someone asks a question/ or sends a message , bot will respond \n",
    "with corresponding answer, if he types something else, it simply says \n",
    "\"Sorry, I don't have an answer to this, try asking another question\" or 'Entschuldigung, versuchen Sie eine andere Frage'\n",
    "A user at any point can switch between english and german when user types 'speak english'/\n",
    "'speak german'"
   ]
  },
  {
   "cell_type": "markdown",
   "metadata": {},
   "source": [
    "<table>\n",
    "<tr> <th> Language </th> <th>Question/user message </th> <th>  Answer</th> </tr>\n",
    "<tr> <td> English </td> <td> Hello </td> <td> Hello, I am Zero IQ Bot, what's your name? </td> </tr>\n",
    "<tr> <td> English </td> <td> xxx </td> <td> What a nice name xxx, What would you like to ask about?</td> </tr>\n",
    "<tr> <td> English</td> <td> Where do I need to register in germany?</td> <td> You need to go to Bürgeramt </td> </tr>\n",
    "<tr> <td> English</td> <td> Thank You! </td> <td> You're most welcome xxx ! </td> </tr>\n",
    "<tr> <td> English </td> <td> Bye </td> <td> Goodbye, talk to you later </td> </tr>\n",
    "<tr> <td> German </td> <td> Hallo </td> <td> Hallo. Mein name ist Null IQ Bot, Wie heißen Sie? </td> </tr>\n",
    "<tr> <td> German </td> <td>xxx </td> <td> Hallo xxx, Was möchecten Sie? </td> </tr>\n",
    "<tr> <td> German </td> <td> wo kann man sich registrieren?</td> <td> Sie mussen zum Bürgeramt gehen </td> </tr>\n",
    "<tr> <td> German </td> <td> Danke schön</td> <td> Bitte schön xxx </td> </tr>\n",
    "<tr> <td> German </td> <td> Tschüss </td> <td> Auf Wiedersehen </td> </tr>\n",
    "\n",
    "</table>"
   ]
  },
  {
   "cell_type": "markdown",
   "metadata": {},
   "source": [
    "## Grading Scheme [15 points] Deadline 26 October\n",
    "\n",
    "- Whenever the user sends the bot a message, the bot will send corresponding answer [5 Points]\n",
    "- The bot switches succeessfully the language when the user asks the bot to switch language [5 points]\n",
    "\n",
    "- The program should not be case sensitive, in other words if the user sends a message 'hello', 'hEllo', 'Hello', or any other variant of capital and small letters, the bot should be able to respond. [1.5 points]\n",
    "\n",
    "- Template question-answer should be read from an external file [3.5 points]\n",
    "\n",
    "### Bonus: [3 points] Deadline: 30 October\n",
    "- The bot chooses randomly between possible responses randomly instead of just one response [2 points] (you can use the below dictionary) \n",
    "- Depending on current time, Bot greats the user by 'Good morning'/ 'Good evening'/ 'Good afternoon' [1 point]\n"
   ]
  },
  {
   "cell_type": "markdown",
   "metadata": {},
   "source": [
    "<table>\n",
    "<tr> <th> Language </th> <th>Question/user message </th> <th>  Answer 1</th> <th> Other possible answers </th> </tr>\n",
    "<tr> <td> English </td> <td> Hello </td> <td> Hello, I am Zero IQ Bot, what's your name? </td> <td> Hi, My name is Zero IQ Bot, how about you? </td></tr>\n",
    "<tr> <td> English </td> <td> xxx </td> <td> What a nice name xxx, What would you like to ask about?</td> <td> What a lovely name xxx!, What can i do for you today?</td> </tr>\n",
    "<tr> <td> English</td> <td> Where do I need to register in germany?</td> <td> You need to go to Bürgeramt </td> <td> You need to go the Bürgeramt in your district </td> </tr>\n",
    "<tr> <td> English</td> <td> Thank You! </td> <td> You're most welcome xxx ! </td> <td> Don't mention it! </td> </tr>\n",
    "<tr> <td> English </td> <td> Bye </td> <td> Goodbye, talk to you later </td> <td> Goodbye, and have a nice day </td>  </tr>\n",
    "<tr> <td> German </td> <td> Hallo </td> <td> Hallo. Mein name ist Null IQ Bot, Wie heißen Sie? </td> <td> Hallo. Ich heiße Null IQ Bot, und du? </td> </tr>\n",
    "<tr> <td> German </td> <td>xxx </td> <td> Hallo xxx, Was möchecten Sie? </td>  <td> Hallo xxx, Was kann ich für Sie tun? </td> </tr>\n",
    "<tr> <td> German </td> <td> wo kann man sich registrieren?</td> <td> Sie mussen zum Bürgeramt gehen </td> <td> Sie müssen zum nächsten Bürgeramt gehen </td> </tr>\n",
    "<tr> <td> German </td> <td> Danke schön</td> <td> Bitte schön xxx </td> <td> Bitte! </td> </tr>\n",
    "<tr> <td> German </td> <td> Tschüss </td> <td> Auf Wiedersehen </td> <td> Tschüssi! </td> </tr>\n",
    "\n",
    "</table>"
   ]
  },
  {
   "cell_type": "markdown",
   "metadata": {},
   "source": [
    "### Phase 3 - Apportunity Bot"
   ]
  },
  {
   "cell_type": "markdown",
   "metadata": {
    "collapsed": true
   },
   "source": [
    "<img src='images/apportunity.png'/>\n"
   ]
  },
  {
   "cell_type": "code",
   "execution_count": null,
   "metadata": {
    "collapsed": true
   },
   "outputs": [],
   "source": []
  }
 ],
 "metadata": {
  "kernelspec": {
   "display_name": "Python 3",
   "language": "python",
   "name": "python3"
  },
  "language_info": {
   "codemirror_mode": {
    "name": "ipython",
    "version": 3
   },
   "file_extension": ".py",
   "mimetype": "text/x-python",
   "name": "python",
   "nbconvert_exporter": "python",
   "pygments_lexer": "ipython3",
   "version": "3.5.2+"
  }
 },
 "nbformat": 4,
 "nbformat_minor": 2
}
