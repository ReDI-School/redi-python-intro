{
 "cells": [
  {
   "cell_type": "markdown",
   "metadata": {},
   "source": [
    "## Example of a nice Library\n",
    "\n",
    "    Wikipedia\n",
    "    https://pypi.python.org/pypi/wikipedia\n",
    "    \n",
    "    you need to run this, before you can use the library:\n",
    "    pip3 install wikipedia"
   ]
  },
  {
   "cell_type": "code",
   "execution_count": 1,
   "metadata": {},
   "outputs": [
    {
     "name": "stdout",
     "output_type": "stream",
     "text": [
      "Berlin (, German: [bɛɐ̯ˈliːn] ( listen)) is the capital and the largest city of Germany as well as one of its 16 constituent states. \n",
      "\n",
      "\n",
      "\n",
      "Berlin  [bɛɐ̯ˈliːn] ist die Bundeshauptstadt der Bundesrepublik Deutschland und zugleich eines ihrer Länder. Die Stadt Berlin ist mit gut 3,5 Millionen Einwohnern die bevölkerungsreichste und mit 892 Quadratkilometern die flächengrößte Gemeinde Deutschlands. Sie bildet das Zentrum der Metropolregion Berlin/Brandenburg (6 Millionen Einw.) und der Agglomeration Berlin (4,5 Millionen Einw.). Der Stadtstaat besteht aus zwölf Bezirken. Neben den Flüssen Spree und Havel befinden sich im Stadtgebiet kleinere Fließgewässer sowie zahlreiche Seen und Wälder.\n"
     ]
    }
   ],
   "source": [
    "import wikipedia\n",
    "\n",
    "long_wiki_text_berlin = wikipedia.summary('Berlin')\n",
    "short_wiki_text_berlin = wikipedia.summary('Berlin', sentences=1)\n",
    "\n",
    "print(short_wiki_text_berlin, '\\n'*3)\n",
    "\n",
    "wikipedia.set_lang(\"de\")\n",
    "print( wikipedia.summary('Berlin', sentences=5))\n"
   ]
  },
  {
   "cell_type": "code",
   "execution_count": null,
   "metadata": {
    "collapsed": true
   },
   "outputs": [],
   "source": []
  },
  {
   "cell_type": "markdown",
   "metadata": {},
   "source": [
    "## Classes\n",
    "\n",
    "### Class combines data and functions together\n",
    "so you can create objects with properties (variables) and methods (functions)\n",
    "\n"
   ]
  },
  {
   "cell_type": "code",
   "execution_count": 15,
   "metadata": {
    "collapsed": true
   },
   "outputs": [],
   "source": [
    "class Account(object):\n",
    "    \"\"\"A account of ABC Bank with a checking account. Accounts have the\n",
    "    following properties:\n",
    "\n",
    "    Attributes:\n",
    "        name: A string representing the customer's name.\n",
    "        balance: A float tracking the current balance of the customer's account.\n",
    "    \"\"\"\n",
    "\n",
    "    def __init__(self, name):\n",
    "        \"\"\"Return a Customer object whose name is *name*.\"\"\" \n",
    "        self.name = name\n",
    "        self.balance = 0.0\n",
    "\n",
    "    def set_balance(self, balance=0.0):\n",
    "        \"\"\"Set the customer's starting balance.\"\"\"\n",
    "        self.balance = balance\n",
    "\n",
    "    def withdraw(self, amount):\n",
    "        \"\"\"Return the balance remaining after withdrawing *amount*\n",
    "        dollars.\"\"\"\n",
    "        if amount > self.balance:\n",
    "            print('WARNING: Amount greater than available balance, going into negative saldo')\n",
    "        self.balance -= amount\n",
    "        return self.balance\n",
    "\n",
    "    def deposit(self, amount):\n",
    "        \"\"\"Return the balance remaining after depositing *amount*\n",
    "        dollars.\"\"\"\n",
    "        self.balance += amount\n",
    "        return self.balance\n",
    "    \n",
    "    def print_info(self):\n",
    "        \"\"\"Prints customer name and current account balance\"\"\"  \n",
    "        print('name: ', self.name)\n",
    "        print('balance: ', self.balance)"
   ]
  },
  {
   "cell_type": "code",
   "execution_count": 11,
   "metadata": {},
   "outputs": [
    {
     "name": "stdout",
     "output_type": "stream",
     "text": [
      "name:  John Miller\n",
      "balance:  0.0\n",
      "----\n",
      "name:  John Miller\n",
      "balance:  120.0\n"
     ]
    }
   ],
   "source": [
    "account1 = Account('John Miller')\n",
    "account1.print_info()\n",
    "\n",
    "print('----')\n",
    "account1.set_balance(120.0)\n",
    "account1.print_info()"
   ]
  },
  {
   "cell_type": "code",
   "execution_count": 12,
   "metadata": {},
   "outputs": [
    {
     "name": "stdout",
     "output_type": "stream",
     "text": [
      "name:  John Miller\n",
      "balance:  110.0\n"
     ]
    }
   ],
   "source": [
    "account1.withdraw(10.0)\n",
    "account1.print_info()"
   ]
  },
  {
   "cell_type": "code",
   "execution_count": 16,
   "metadata": {},
   "outputs": [
    {
     "name": "stdout",
     "output_type": "stream",
     "text": [
      "name:  John Miller\n",
      "balance:  100\n",
      "name:  Johan Schmidt\n",
      "balance:  50\n",
      "\n",
      "start money transfer:\n",
      "WARNING: Amount greater than available balance, going into negative saldo\n",
      "\n",
      "money transfered:\n",
      "name:  John Miller\n",
      "balance:  -100\n",
      "name:  Johan Schmidt\n",
      "balance:  250\n"
     ]
    }
   ],
   "source": [
    "def transfer_money(account1, account2, amount):\n",
    "    account1.withdraw(amount)\n",
    "    account2.deposit(amount)\n",
    "\n",
    "a1 = Account('John Miller')\n",
    "a1.set_balance(100)\n",
    "a1.print_info()\n",
    "\n",
    "a2 = Account('Johan Schmidt')\n",
    "a2.set_balance(50)\n",
    "a2.print_info()\n",
    "\n",
    "print('\\nstart money transfer:')\n",
    "transfer_money( a1, a2, 200)\n",
    "print('\\nmoney transfered:')\n",
    "a1.print_info()\n",
    "a2.print_info()\n"
   ]
  },
  {
   "cell_type": "markdown",
   "metadata": {},
   "source": [
    "# Classes: Excecise 1\n",
    "\n",
    "Define a class to store information about fruits.\n",
    "Each Fruit should have following properties: \n",
    "- string: type (apple, orange, tomato, etc)\n",
    "- string: color\n",
    "- float: weight (weight in grams)\n",
    "- float: price_per_kilo\n",
    "\n",
    "additionaly each fruit has two methods:\n",
    "- get_total_price() - this should return calculated price\n",
    "- print_info() - should print fruit data\n",
    "\n",
    "Check your class with following test:\n",
    "\n",
    "Create 1 instance of the class to represnet an orange with weight 100 gramms and price per kilogram 2.30 EUR.\n",
    "Calculate and print the price of this particular fruit.\n",
    "\n",
    "Create 2 instances of the class to represent two water melons, one 3500 gramm and another one 6700 gramm heavy and both with 0.80 EUR per kilogramm price.\n",
    "Calculate and compare their total price using class method.\n"
   ]
  },
  {
   "cell_type": "code",
   "execution_count": 8,
   "metadata": {
    "collapsed": true
   },
   "outputs": [],
   "source": [
    "class Fruit:\n",
    "    \n",
    "    def __init__(self, name, color, weight, price_per_kilo):\n",
    "        self.name = name\n",
    "        self.color = color\n",
    "        self.weight = weight\n",
    "        self.price_per_kilo = price_per_kilo\n",
    "    def get_total_price(self):\n",
    "        total_price = (self.weight/1000.0) * self.price_per_kilo\n",
    "        return total_price\n",
    "    def print_info(self):\n",
    "        print('Fruit type:{}, color:{}, weight:{}, price_per_kilo:{}').format(self.name, self.color,\n",
    "                                                                              self.weight, self.price_per_kilo)\n",
    "    @classmethod\n",
    "    def is_cheaper(cls, fruit1, fruit2):\n",
    "        if fruit1.get_total_price() < fruit2.get_total_price():\n",
    "            return True\n",
    "        else:\n",
    "            return False \n",
    "        \n",
    "        "
   ]
  },
  {
   "cell_type": "code",
   "execution_count": 4,
   "metadata": {},
   "outputs": [
    {
     "name": "stdout",
     "output_type": "stream",
     "text": [
      "Fruit 1 total price: 0.23\n"
     ]
    }
   ],
   "source": [
    "fruit1 = Fruit('orange', 'orange', 100,2.3)\n",
    "\n",
    "print('Fruit 1 total price: {}'.format(fruit1.get_total_price()))"
   ]
  },
  {
   "cell_type": "code",
   "execution_count": 9,
   "metadata": {},
   "outputs": [
    {
     "data": {
      "text/plain": [
       "True"
      ]
     },
     "execution_count": 9,
     "metadata": {},
     "output_type": "execute_result"
    }
   ],
   "source": [
    "fruit2 = Fruit('watermelon', 'green', 3500,0.8)\n",
    "fruit3 = Fruit('watermelon', 'green', 6700,0.8)\n",
    "\n",
    "Fruit.is_cheaper(fruit2,fruit3)"
   ]
  },
  {
   "cell_type": "code",
   "execution_count": null,
   "metadata": {
    "collapsed": true
   },
   "outputs": [],
   "source": []
  }
 ],
 "metadata": {
  "kernelspec": {
   "display_name": "Python 2.7",
   "language": "python",
   "name": "env27"
  },
  "language_info": {
   "codemirror_mode": {
    "name": "ipython",
    "version": 2
   },
   "file_extension": ".py",
   "mimetype": "text/x-python",
   "name": "python",
   "nbconvert_exporter": "python",
   "pygments_lexer": "ipython2",
   "version": "2.7.13"
  }
 },
 "nbformat": 4,
 "nbformat_minor": 2
}
