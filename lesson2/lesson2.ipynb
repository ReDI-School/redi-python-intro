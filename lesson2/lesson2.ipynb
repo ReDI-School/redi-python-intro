{
 "cells": [
  {
   "cell_type": "markdown",
   "metadata": {
    "slideshow": {
     "slide_type": "slide"
    }
   },
   "source": [
    "## Lesson 2\n",
    "- Data Types - In Detail\n",
    "- First step towards interactive programs\n",
    "    - write your first interactive program\n",
    "- Conditional Operations\n",
    "    - write your first conditional program\n",
    "    - write your second conditional program\n",
    "    - your first tracing example"
   ]
  },
  {
   "cell_type": "markdown",
   "metadata": {
    "slideshow": {
     "slide_type": "slide"
    }
   },
   "source": [
    "### Data Types & Operators - Revisiting\n",
    "\n",
    "- Data types:\n",
    "    - int \n",
    "    - float\n",
    "    - string\n",
    "    - bool\n",
    "\n",
    "            i = 10\n",
    "            pi = 3.14\n",
    "            hello = \"Hello\"\n",
    "            hi = 'Hi'\n",
    "            b = True         \n",
    "\n",
    "        \n",
    "- *type* function can be used to know what is the type of variable\n",
    "        \n",
    "            type(10)\n",
    "            >> <class 'int'>\n",
    "\n",
    "- When to use each type?\n",
    "        \n"
   ]
  },
  {
   "cell_type": "markdown",
   "metadata": {
    "slideshow": {
     "slide_type": "slide"
    }
   },
   "source": [
    "### Examples\n",
    "\n",
    "- float:\n",
    "            2/3\n",
    "            2.0/3\n",
    "            5.0/3\n",
    "            7.0/3\n",
    "- string:\n",
    "            \"hello\"\n",
    "            'hi'\n",
    "             print(\"hello \\n hi\") # other escape characters \\t \\\\ \\' \\\"\n",
    "             \"my Name is \" + \" Kareem\"\n",
    "             \"hello\"*5\n",
    "- bool \n",
    "            x = False\n",
    "            y = True\n",
    "            not x\n",
    "            x and y\n",
    "            x or y\n",
    "            5 ==7\n",
    "            5 !=7\n",
    "            7 > 5\n",
    "- list\n",
    "            l = [1,2,3,4,10]\n",
    "            print(l[0])\n",
    "            m = [1,5] + [6,7]\n",
    "\n",
    "            "
   ]
  },
  {
   "cell_type": "markdown",
   "metadata": {
    "slideshow": {
     "slide_type": "notes"
    }
   },
   "source": [
    "- Taking string as input from user; will that be a problem or not?\n",
    "- why do we use int or float variables? => we are able to apply mathematical operations \n",
    "- try \"10\" / 2"
   ]
  },
  {
   "cell_type": "markdown",
   "metadata": {
    "slideshow": {
     "slide_type": "slide"
    }
   },
   "source": [
    "### Precedence - Revisiting\n",
    "<img src='precedence.png'/>"
   ]
  },
  {
   "cell_type": "markdown",
   "metadata": {
    "slideshow": {
     "slide_type": "slide"
    }
   },
   "source": [
    "### Input & Output\n",
    "\n",
    "- A lot of programs depend on input from the user, e.g. click of a button or text he types in a searchbar\n",
    "- Output:  for now we use *print* function\n",
    "- Input:  we can use *input* function\n",
    "- Try it out:\n",
    "        print('Enter your name')\n",
    "        user_input = raw_input()\n",
    "        print(\"This is the user's name:\")\n",
    "        print(user_input)\n",
    "        \n",
    "        print('Enter your age')\n",
    "        user_age= input()\n",
    "        print(\"This is the user's age:\")\n",
    "        print(user_age)\n",
    " \n",
    "        "
   ]
  },
  {
   "cell_type": "markdown",
   "metadata": {
    "slideshow": {
     "slide_type": "slide"
    }
   },
   "source": [
    "## Excerise 1 - Your first interactive program\n",
    "### Full solution at the bottom\n",
    "\n",
    "Part 1:\n",
    "- Given the radius of a circle, we would like to print out both circumference and area.\n",
    "- Hints:\n",
    "    - circumference = $2 {\\pi} r $\n",
    "    - area = ${\\pi} r^2$\n",
    "    - you can assume ${\\pi} = 3.14 $\n",
    "\n",
    "Part 2:\n",
    "- What if we want the user to tell us whether he wants to calculate area or circumference?\n",
    "- What else do we need?"
   ]
  },
  {
   "cell_type": "markdown",
   "metadata": {
    "slideshow": {
     "slide_type": "slide"
    }
   },
   "source": [
    "## Conditional Operations\n",
    "\n",
    "- Test a certain condition\n",
    "- Depending on this condition, decide what are the next steps\n",
    "\n",
    "\n"
   ]
  },
  {
   "cell_type": "code",
   "execution_count": null,
   "metadata": {
    "collapsed": true,
    "slideshow": {
     "slide_type": "slide"
    }
   },
   "outputs": [],
   "source": [
    "weather = input()\n",
    "if(weather == 'Sunny'):\n",
    "    print('Go out and enjoy the sun')\n",
    "else:\n",
    "    print('Stay Home')"
   ]
  },
  {
   "cell_type": "markdown",
   "metadata": {
    "collapsed": true,
    "slideshow": {
     "slide_type": "slide"
    }
   },
   "source": [
    "### How to write conditional operations? (Syntax)\n",
    "\n",
    "    if(condition):\n",
    "        # perform operations when condition is true\n",
    "    else:\n",
    "        # perform operations when condition is false\n",
    "        \n"
   ]
  },
  {
   "cell_type": "markdown",
   "metadata": {
    "collapsed": true,
    "slideshow": {
     "slide_type": "slide"
    }
   },
   "source": [
    "#### How to write conditions?\n",
    " \n",
    "- Operators: ==, >= , <=, !=, >, <\n",
    "        \n",
    "        num > 5\n",
    "        num >= 10\n",
    "        num != 10\n",
    "        num == 10\n",
    "- What is type for these conditions ? \n",
    "- What is difference between?\n",
    "\n",
    "        weather = 'Sunny'\n",
    "        weather == 'Sunny'\n"
   ]
  },
  {
   "cell_type": "markdown",
   "metadata": {
    "slideshow": {
     "slide_type": "slide"
    }
   },
   "source": [
    "### Exercise 2 - Your first conditional program\n",
    "- Given two numbers, print out the bigger of the two numbers.\n",
    "\n",
    "    - Examples:\n",
    "        - n=10 m = 5, output = 10\n",
    "        - n= -10 m = 5, output = 5\n",
    "\n",
    "\n",
    "*What if we are given three numbers?*\n",
    "    \n",
    "   \n",
    "    \n"
   ]
  },
  {
   "cell_type": "markdown",
   "metadata": {
    "collapsed": true,
    "slideshow": {
     "slide_type": "slide"
    }
   },
   "source": [
    "#### What if we want to test for more than one condition?\n",
    "\n",
    "\n",
    "\n",
    "    if(condition1):\n",
    "        # perform operations for condition1\n",
    "    elif(condition2):\n",
    "        # perform operations for condition2 (and condition 1 is false)\n",
    "    elif(condition3):\n",
    "        # perform operations for condition3 (and conditions 1,2 are false)\n",
    "    ........\n",
    "    \n",
    "    else:\n",
    "        # perform operations when conditions 1, 2 and 3 are false\n",
    "        \n",
    "- You can have as many *elif* as you want and optional else part in the end\n",
    " \n"
   ]
  },
  {
   "cell_type": "markdown",
   "metadata": {
    "slideshow": {
     "slide_type": "slide"
    }
   },
   "source": [
    "### Exercise 3 - Your second conditional program\n",
    "- Given three numbers, print out the biggest of the three numbers.\n"
   ]
  },
  {
   "cell_type": "markdown",
   "metadata": {
    "collapsed": true,
    "slideshow": {
     "slide_type": "slide"
    }
   },
   "source": [
    "## Exercise 4 - Your first tracing example\n",
    "\n",
    "- if n=11, What will be printed for each of these two programs and why?\n",
    "\n",
    "- Program 1\n",
    "```python\n",
    "if(n > 5):\n",
    "    print('Number is greater than 5')\n",
    "elif(n > 10):\n",
    "    print('Number is greater than 10')\n",
    "else:\n",
    "    print('Number is less than 5')\n",
    "```\n",
    "            \n",
    "- Program 2   \n",
    "```python\n",
    "if(n > 5):\n",
    "    print('Number is greater than 5')\n",
    "if(n > 10):\n",
    "    print('Number is greater than 10')\n",
    "else:\n",
    "    print('Number is less than 10')\n",
    "```\n",
    "            \n",
    "- What about for n=7? which program should you use?\n",
    "\n",
    "### Solution\n",
    "\n",
    "Python checks any program by going line by line.   \n",
    "**Program 1**\n",
    "*The output for n=11 is*\n",
    "```python\n",
    "print('Number is greater than 5')\n",
    "```\n",
    "n is bigger than 5 so the first print is executed and it prints that **\"Number is bigger than 5\"**  \n",
    "As we said in the class, *elif* and *else* are evaluated only if the comparison for the if is false. *(n > 5)* is *True* so nothing else is evaluated for program 1\n",
    "\n",
    "**Program 2**\n",
    "*The output for n=11 is*\n",
    "```python\n",
    "print('Number is greater than 5')\n",
    "print('Number is greater than 10')\n",
    "```\n",
    "If the case of program 2 we have two separate *if* statements. Both comparisons will be evaluated.  \n",
    "*(n>5)* is True so the first print is executed. Then the program goes to the second if.  \n",
    "*(n>10)* which is also True so the print under this one is printed too. *else* is only executed only when the *if (n>10)* is True, but in this case n is 11 so *(n>10)* evaluates to True.\n",
    "\n",
    "When *n=7* Program 1 behaves exactly the same (only the first if is evaluated)  \n",
    "\n",
    "Things are a bit different for Program 2.\n",
    "```python\n",
    "print('Number is greater than 5')\n",
    "print('Number is less than 10')\n",
    "```\n",
    "The first if is evaluated and since *(n>5)* is **True** the first print is used. Then the program goes to the second if, remember that each **if** is independent from the other one, and in this case *(n>10)* is **False** and as a result the print under the **else** is used"
   ]
  },
  {
   "cell_type": "code",
   "execution_count": 2,
   "metadata": {},
   "outputs": [
    {
     "name": "stdout",
     "output_type": "stream",
     "text": [
      "Please enter the radius of a circle: \n",
      "5\n",
      "What to show (1 - area, 2 - circum...)?\n",
      "2\n",
      " Circumference of a Circle is 31.400000000000002\n"
     ]
    }
   ],
   "source": [
    "PI = 3.14\n",
    "\n",
    "# Ask the user for the radius, using input.\n",
    "# Input returns a string so we need to convert to a float before using it\n",
    "radius = float(input(\"Please enter the radius of a circle: \\n\"))\n",
    "\n",
    "# Ask the user if they want to see the area or the circumference\n",
    "# Later we will compare with int so we convert the input to int\n",
    "choice = int(input(\"What to show (1 - area, 2 - circum...)?\\n\"))\n",
    "\n",
    "# calculate the are and the circumference\n",
    "area = PI * radius ** 2\n",
    "circumference = 2 * PI * radius\n",
    "\n",
    "\n",
    "if choice == 1:\n",
    "    print(\" The circle's area is \" + str(area))\n",
    "elif choice == 2:\n",
    "    print(\" Circumference of a Circle is \" + str(circumference))\n",
    "elif choice == 3:\n",
    "    print(\" The circle's area is \" + str(area))\n",
    "    print(\" Circumference of a Circle is \" + str(circumference))\n",
    "else:\n",
    "    print(\"Error: Undefined input. Are you a robot?\")"
   ]
  }
 ],
 "metadata": {
  "celltoolbar": "Slideshow",
  "kernelspec": {
   "display_name": "Python 3",
   "language": "python",
   "name": "python3"
  },
  "language_info": {
   "codemirror_mode": {
    "name": "ipython",
    "version": 3
   },
   "file_extension": ".py",
   "mimetype": "text/x-python",
   "name": "python",
   "nbconvert_exporter": "python",
   "pygments_lexer": "ipython3",
   "version": "3.6.3"
  }
 },
 "nbformat": 4,
 "nbformat_minor": 2
}
